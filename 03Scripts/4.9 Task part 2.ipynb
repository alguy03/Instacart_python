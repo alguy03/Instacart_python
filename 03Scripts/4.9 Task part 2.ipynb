{
 "cells": [
  {
   "cell_type": "markdown",
   "id": "6e7eff74",
   "metadata": {},
   "source": [
    "01. Create a new notebook, import the necessary analysis and visualization libraries, then import your most up-to-date project data (i.e., the data set with your new customer data from the first part of this task)."
   ]
  },
  {
   "cell_type": "code",
   "execution_count": 1,
   "id": "ae0aef1e",
   "metadata": {},
   "outputs": [],
   "source": [
    "# import libraries \n",
    "import pandas as pd\n",
    "import numpy as np\n",
    "import os\n",
    "import matplotlib.pyplot as plt\n",
    "import seaborn as sns\n",
    "import scipy"
   ]
  },
  {
   "cell_type": "code",
   "execution_count": 2,
   "id": "411fbeb9",
   "metadata": {},
   "outputs": [],
   "source": [
    "df_customers_orders_merged = pd.read_pickle(r'C:\\Users\\alexg\\InstacartBasketAnalysis\\02Data\\PreparedData\\df_customers_orders_merged.pkl')"
   ]
  },
  {
   "cell_type": "code",
   "execution_count": 3,
   "id": "3d05090e",
   "metadata": {},
   "outputs": [],
   "source": [
    "df_products_wrangled = pd.read_csv(r'C:\\Users\\alexg\\InstacartBasketAnalysis\\02Data\\PreparedData\\products_wrangled.csv', index_col =False)"
   ]
  },
  {
   "cell_type": "code",
   "execution_count": 4,
   "id": "43abe6da",
   "metadata": {},
   "outputs": [],
   "source": [
    "ords_prods_merge = pd.read_pickle(r'C:\\Users\\alexg\\InstacartBasketAnalysis\\02Data\\PreparedData\\ords_prods_merge.pkl')"
   ]
  },
  {
   "cell_type": "code",
   "execution_count": 5,
   "id": "3bc69a99",
   "metadata": {},
   "outputs": [],
   "source": [
    "ords_prods_merge_2 = pd.read_pickle(r'C:\\Users\\alexg\\InstacartBasketAnalysis\\02Data\\PreparedData\\ords_prods_merge_2.pkl')"
   ]
  },
  {
   "cell_type": "code",
   "execution_count": 6,
   "id": "34ce9a0a",
   "metadata": {},
   "outputs": [],
   "source": [
    "df_ords = pd.read_csv(r'C:\\Users\\alexg\\InstacartBasketAnalysis\\02Data\\PreparedData\\orders_checked.csv', index_col =False)"
   ]
  },
  {
   "cell_type": "code",
   "execution_count": 7,
   "id": "50774b01",
   "metadata": {},
   "outputs": [],
   "source": [
    "orders_products_combined = pd.read_pickle(r'C:\\Users\\alexg\\InstacartBasketAnalysis\\02Data\\PreparedData\\orders_products_combined.pkl')"
   ]
  },
  {
   "cell_type": "code",
   "execution_count": 8,
   "id": "edb80848",
   "metadata": {},
   "outputs": [
    {
     "data": {
      "text/plain": [
       "Index(['Unnamed: 0', 'order_id', 'user_id', 'eval_set', 'order_number',\n",
       "       'order_dow', 'order_hour_of_day', 'days_since_prior_order'],\n",
       "      dtype='object')"
      ]
     },
     "execution_count": 8,
     "metadata": {},
     "output_type": "execute_result"
    }
   ],
   "source": [
    "df_ords.columns"
   ]
  },
  {
   "cell_type": "code",
   "execution_count": 9,
   "id": "4fdb30f7",
   "metadata": {},
   "outputs": [
    {
     "data": {
      "text/plain": [
       "Index(['Unnamed: 0', 'department'], dtype='object')"
      ]
     },
     "execution_count": 9,
     "metadata": {},
     "output_type": "execute_result"
    }
   ],
   "source": [
    "df_products_wrangled.columns"
   ]
  },
  {
   "cell_type": "code",
   "execution_count": 10,
   "id": "419702c5",
   "metadata": {},
   "outputs": [
    {
     "data": {
      "text/plain": [
       "Index(['Unnamed: 0', 'product_id', 'product_name', 'aisle_id', 'department_id',\n",
       "       'prices', 'order_id', 'user_id', 'eval_set', 'order_number',\n",
       "       'orders_day_of_the_week', 'busiest_hours_of_the_day',\n",
       "       'days_since_prior_order', 'add_to_cart_order', 'reordered', '_merge',\n",
       "       'price_range', 'price_range_loc', 'busiest_day', 'busiest_days',\n",
       "       'max_order', 'loyalty_flag', 'big_spender_flag', 'frequency_flag'],\n",
       "      dtype='object')"
      ]
     },
     "execution_count": 10,
     "metadata": {},
     "output_type": "execute_result"
    }
   ],
   "source": [
    "ords_prods_merge_2.columns"
   ]
  },
  {
   "cell_type": "code",
   "execution_count": 11,
   "id": "7b338991",
   "metadata": {},
   "outputs": [
    {
     "ename": "NameError",
     "evalue": "name 'df_ords_prior' is not defined",
     "output_type": "error",
     "traceback": [
      "\u001b[1;31m---------------------------------------------------------------------------\u001b[0m",
      "\u001b[1;31mNameError\u001b[0m                                 Traceback (most recent call last)",
      "Input \u001b[1;32mIn [11]\u001b[0m, in \u001b[0;36m<cell line: 1>\u001b[1;34m()\u001b[0m\n\u001b[1;32m----> 1\u001b[0m df_merged_large \u001b[38;5;241m=\u001b[39m ords_prods_merge\u001b[38;5;241m.\u001b[39mmerge(\u001b[43mdf_ords_prior\u001b[49m, on \u001b[38;5;241m=\u001b[39m \u001b[38;5;124m'\u001b[39m\u001b[38;5;124muser_id\u001b[39m\u001b[38;5;124m'\u001b[39m, indicator \u001b[38;5;241m=\u001b[39m \u001b[38;5;28;01mTrue\u001b[39;00m)\n",
      "\u001b[1;31mNameError\u001b[0m: name 'df_ords_prior' is not defined"
     ]
    }
   ],
   "source": [
    "df_merged_large = ords_prods_merge.merge(df_ords_prior, on = 'user_id', indicator = True)\n"
   ]
  },
  {
   "cell_type": "code",
   "execution_count": 16,
   "id": "8d560b30",
   "metadata": {},
   "outputs": [],
   "source": [
    "df_customers = pd.read_csv(r'C:\\Users\\alexg\\InstacartBasketAnalysis\\02Data\\PreparedData\\customers_checked.csv', index_col = False)"
   ]
  },
  {
   "cell_type": "code",
   "execution_count": 17,
   "id": "34c9670b",
   "metadata": {},
   "outputs": [
    {
     "data": {
      "text/plain": [
       "Index(['Unnamed: 0', 'user_id', 'first_name', 'last_name', 'gender', 'state',\n",
       "       'age', 'date_joined', 'dependants', 'marital_status', 'income'],\n",
       "      dtype='object')"
      ]
     },
     "execution_count": 17,
     "metadata": {},
     "output_type": "execute_result"
    }
   ],
   "source": [
    "df_customers.columns"
   ]
  },
  {
   "cell_type": "code",
   "execution_count": 18,
   "id": "cc448c21",
   "metadata": {},
   "outputs": [
    {
     "data": {
      "text/plain": [
       "Index(['Unnamed: 0', 'product_id', 'product_name', 'aisle_id', 'department_id',\n",
       "       'prices', 'order_id', 'user_id', 'eval_set', 'order_number',\n",
       "       'orders_day_of_the_week', 'busiest_hours_of_the_day',\n",
       "       'days_since_prior_order', 'add_to_cart_order', 'reordered', '_merge',\n",
       "       'price_range', 'price_range_loc', 'busiest_day', 'busiest_days',\n",
       "       'max_order', 'loyalty_flag'],\n",
       "      dtype='object')"
      ]
     },
     "execution_count": 18,
     "metadata": {},
     "output_type": "execute_result"
    }
   ],
   "source": [
    "ords_prods_merge.columns"
   ]
  },
  {
   "cell_type": "code",
   "execution_count": 19,
   "id": "27fc4d5d",
   "metadata": {
    "scrolled": true
   },
   "outputs": [
    {
     "data": {
      "text/plain": [
       "Index(['Unnamed: 0_x', 'user_id', 'first_name', 'last_name', 'gender', 'state',\n",
       "       'age', 'date_joined', 'dependants', 'marital_status', 'income',\n",
       "       'Unnamed: 0_y', 'order_id', 'eval_set', 'order_number',\n",
       "       'order_days_of_the_week', 'order_hour_of_day', 'days_since_prior_order',\n",
       "       '_merge'],\n",
       "      dtype='object')"
      ]
     },
     "execution_count": 19,
     "metadata": {},
     "output_type": "execute_result"
    }
   ],
   "source": [
    "df_customers_orders_merged.columns"
   ]
  },
  {
   "cell_type": "markdown",
   "id": "bb650348",
   "metadata": {},
   "source": [
    "02. If you haven’t done so already, follow the instructions in the Exercise to create a bar chart, a histogram, a scatterplot, and a line chart, using a sample subset for the line chart.\n"
   ]
  },
  {
   "cell_type": "code",
   "execution_count": 20,
   "id": "b179b641",
   "metadata": {
    "scrolled": true
   },
   "outputs": [
    {
     "data": {
      "text/plain": [
       "<AxesSubplot:>"
      ]
     },
     "execution_count": 20,
     "metadata": {},
     "output_type": "execute_result"
    },
    {
     "data": {
      "image/png": "[encoded data removed]",
      "text/plain": [
       "<Figure size 432x288 with 1 Axes>"
      ]
     },
     "metadata": {
      "needs_background": "light"
     },
     "output_type": "display_data"
    }
   ],
   "source": [
    "df_customers_orders_merged['order_days_of_the_week'].value_counts().plot.bar()"
   ]
  },
  {
   "cell_type": "code",
   "execution_count": 21,
   "id": "9a2493a0",
   "metadata": {},
   "outputs": [
    {
     "data": {
      "image/png": "[encoded data removed]",
      "text/plain": [
       "<Figure size 432x288 with 1 Axes>"
      ]
     },
     "metadata": {
      "needs_background": "light"
     },
     "output_type": "display_data"
    }
   ],
   "source": [
    "bar = df_customers_orders_merged['order_days_of_the_week'].value_counts().sort_index().plot.bar()"
   ]
  },
  {
   "cell_type": "code",
   "execution_count": 22,
   "id": "1c8c158b",
   "metadata": {},
   "outputs": [
    {
     "data": {
      "text/plain": [
       "0    600905\n",
       "1    587478\n",
       "2    467260\n",
       "5    453368\n",
       "6    448761\n",
       "3    436972\n",
       "4    426339\n",
       "Name: order_days_of_the_week, dtype: int64"
      ]
     },
     "execution_count": 22,
     "metadata": {},
     "output_type": "execute_result"
    }
   ],
   "source": [
    "df_customers_orders_merged['order_days_of_the_week'].value_counts()"
   ]
  },
  {
   "cell_type": "code",
   "execution_count": 23,
   "id": "edc5d1e6",
   "metadata": {},
   "outputs": [
    {
     "data": {
      "text/plain": [
       "0    600905\n",
       "1    587478\n",
       "2    467260\n",
       "3    436972\n",
       "4    426339\n",
       "5    453368\n",
       "6    448761\n",
       "Name: order_days_of_the_week, dtype: int64"
      ]
     },
     "execution_count": 23,
     "metadata": {},
     "output_type": "execute_result"
    }
   ],
   "source": [
    "df_customers_orders_merged['order_days_of_the_week'].value_counts().sort_index()"
   ]
  },
  {
   "cell_type": "code",
   "execution_count": 24,
   "id": "49d94012",
   "metadata": {},
   "outputs": [
    {
     "data": {
      "image/png": "[encoded data removed]",
      "text/plain": [
       "<Figure size 432x288 with 1 Axes>"
      ]
     },
     "metadata": {
      "needs_background": "light"
     },
     "output_type": "display_data"
    }
   ],
   "source": [
    "bar = df_customers_orders_merged['order_days_of_the_week'].value_counts().sort_index().plot.bar(color =['purple', 'red', 'pink', 'orange', 'yellow', 'green', 'blue'])"
   ]
  },
  {
   "cell_type": "code",
   "execution_count": 27,
   "id": "51b033b8",
   "metadata": {},
   "outputs": [],
   "source": [
    "path = r'C:\\Users\\alexg\\InstacartBasketAnalysis'"
   ]
  },
  {
   "cell_type": "code",
   "execution_count": 29,
   "id": "90f12832",
   "metadata": {},
   "outputs": [],
   "source": [
    "bar.figure.savefig(os.path.join(path, '04Analysis','Visualizations', 'bar_orders_dow.png'))"
   ]
  },
  {
   "cell_type": "code",
   "execution_count": 30,
   "id": "db4919fe",
   "metadata": {},
   "outputs": [
    {
     "data": {
      "text/plain": [
       "<AxesSubplot:ylabel='Frequency'>"
      ]
     },
     "execution_count": 30,
     "metadata": {},
     "output_type": "execute_result"
    },
    {
     "data": {
      "image/png": "[encoded data removed]",
      "text/plain": [
       "<Figure size 432x288 with 1 Axes>"
      ]
     },
     "metadata": {
      "needs_background": "light"
     },
     "output_type": "display_data"
    }
   ],
   "source": [
    "ords_prods_merge['prices'].plot.hist(bins = 70)"
   ]
  },
  {
   "cell_type": "code",
   "execution_count": 31,
   "id": "54841882",
   "metadata": {},
   "outputs": [
    {
     "data": {
      "text/plain": [
       "<bound method NDFrame.describe of 0        5.8\n",
       "1        5.8\n",
       "2        5.8\n",
       "3        5.8\n",
       "4        5.8\n",
       "        ... \n",
       "9995    10.1\n",
       "9996    10.1\n",
       "9997    10.1\n",
       "9998    10.1\n",
       "9999    10.1\n",
       "Name: prices, Length: 10000, dtype: float64>"
      ]
     },
     "execution_count": 31,
     "metadata": {},
     "output_type": "execute_result"
    }
   ],
   "source": [
    "ords_prods_merge['prices'].describe"
   ]
  },
  {
   "cell_type": "code",
   "execution_count": 32,
   "id": "d3eafe9c",
   "metadata": {},
   "outputs": [
    {
     "data": {
      "text/plain": [
       "<AxesSubplot:xlabel='prices', ylabel='prices'>"
      ]
     },
     "execution_count": 32,
     "metadata": {},
     "output_type": "execute_result"
    },
    {
     "data": {
      "image/png": "[encoded data removed]",
      "text/plain": [
       "<Figure size 432x288 with 1 Axes>"
      ]
     },
     "metadata": {
      "needs_background": "light"
     },
     "output_type": "display_data"
    }
   ],
   "source": [
    "sns.scatterplot(x = 'prices', y = 'prices',data = ords_prods_merge)"
   ]
  },
  {
   "cell_type": "code",
   "execution_count": 33,
   "id": "db744bf3",
   "metadata": {},
   "outputs": [
    {
     "data": {
      "text/html": [
       "<div>\n",
       "<style scoped>\n",
       "    .dataframe tbody tr th:only-of-type {\n",
       "        vertical-align: middle;\n",
       "    }\n",
       "\n",
       "    .dataframe tbody tr th {\n",
       "        vertical-align: top;\n",
       "    }\n",
       "\n",
       "    .dataframe thead th {\n",
       "        text-align: right;\n",
       "    }\n",
       "</style>\n",
       "<table border=\"1\" class=\"dataframe\">\n",
       "  <thead>\n",
       "    <tr style=\"text-align: right;\">\n",
       "      <th></th>\n",
       "      <th>Unnamed: 0</th>\n",
       "      <th>product_id</th>\n",
       "      <th>product_name</th>\n",
       "      <th>aisle_id</th>\n",
       "      <th>department_id</th>\n",
       "      <th>prices</th>\n",
       "      <th>order_id</th>\n",
       "      <th>user_id</th>\n",
       "      <th>eval_set</th>\n",
       "      <th>order_number</th>\n",
       "      <th>...</th>\n",
       "      <th>days_since_prior_order</th>\n",
       "      <th>add_to_cart_order</th>\n",
       "      <th>reordered</th>\n",
       "      <th>_merge</th>\n",
       "      <th>price_range</th>\n",
       "      <th>price_range_loc</th>\n",
       "      <th>busiest_day</th>\n",
       "      <th>busiest_days</th>\n",
       "      <th>max_order</th>\n",
       "      <th>loyalty_flag</th>\n",
       "    </tr>\n",
       "  </thead>\n",
       "  <tbody>\n",
       "    <tr>\n",
       "      <th>2219</th>\n",
       "      <td>2219</td>\n",
       "      <td>4</td>\n",
       "      <td>Smart Ones Classic Favorites Mini Rigatoni Wit...</td>\n",
       "      <td>38</td>\n",
       "      <td>1</td>\n",
       "      <td>10.5</td>\n",
       "      <td>2563211</td>\n",
       "      <td>1677</td>\n",
       "      <td>prior</td>\n",
       "      <td>1</td>\n",
       "      <td>...</td>\n",
       "      <td>NaN</td>\n",
       "      <td>9</td>\n",
       "      <td>0</td>\n",
       "      <td>both</td>\n",
       "      <td>Mid-range product</td>\n",
       "      <td>Mid-range product</td>\n",
       "      <td>Regularly busy</td>\n",
       "      <td>Regularly busy</td>\n",
       "      <td>1</td>\n",
       "      <td>New customer</td>\n",
       "    </tr>\n",
       "    <tr>\n",
       "      <th>2220</th>\n",
       "      <td>2220</td>\n",
       "      <td>4</td>\n",
       "      <td>Smart Ones Classic Favorites Mini Rigatoni Wit...</td>\n",
       "      <td>38</td>\n",
       "      <td>1</td>\n",
       "      <td>10.5</td>\n",
       "      <td>2734242</td>\n",
       "      <td>2277</td>\n",
       "      <td>prior</td>\n",
       "      <td>3</td>\n",
       "      <td>...</td>\n",
       "      <td>10.0</td>\n",
       "      <td>4</td>\n",
       "      <td>0</td>\n",
       "      <td>both</td>\n",
       "      <td>Mid-range product</td>\n",
       "      <td>Mid-range product</td>\n",
       "      <td>Regularly busy</td>\n",
       "      <td>Regularly busy</td>\n",
       "      <td>3</td>\n",
       "      <td>New customer</td>\n",
       "    </tr>\n",
       "    <tr>\n",
       "      <th>2221</th>\n",
       "      <td>2221</td>\n",
       "      <td>4</td>\n",
       "      <td>Smart Ones Classic Favorites Mini Rigatoni Wit...</td>\n",
       "      <td>38</td>\n",
       "      <td>1</td>\n",
       "      <td>10.5</td>\n",
       "      <td>1515355</td>\n",
       "      <td>2358</td>\n",
       "      <td>prior</td>\n",
       "      <td>1</td>\n",
       "      <td>...</td>\n",
       "      <td>NaN</td>\n",
       "      <td>5</td>\n",
       "      <td>0</td>\n",
       "      <td>both</td>\n",
       "      <td>Mid-range product</td>\n",
       "      <td>Mid-range product</td>\n",
       "      <td>Busiest day</td>\n",
       "      <td>Busiest days</td>\n",
       "      <td>5</td>\n",
       "      <td>New customer</td>\n",
       "    </tr>\n",
       "    <tr>\n",
       "      <th>2222</th>\n",
       "      <td>2222</td>\n",
       "      <td>4</td>\n",
       "      <td>Smart Ones Classic Favorites Mini Rigatoni Wit...</td>\n",
       "      <td>38</td>\n",
       "      <td>1</td>\n",
       "      <td>10.5</td>\n",
       "      <td>2052821</td>\n",
       "      <td>2358</td>\n",
       "      <td>prior</td>\n",
       "      <td>3</td>\n",
       "      <td>...</td>\n",
       "      <td>11.0</td>\n",
       "      <td>3</td>\n",
       "      <td>1</td>\n",
       "      <td>both</td>\n",
       "      <td>Mid-range product</td>\n",
       "      <td>Mid-range product</td>\n",
       "      <td>Busiest day</td>\n",
       "      <td>Busiest days</td>\n",
       "      <td>5</td>\n",
       "      <td>New customer</td>\n",
       "    </tr>\n",
       "    <tr>\n",
       "      <th>2223</th>\n",
       "      <td>2223</td>\n",
       "      <td>4</td>\n",
       "      <td>Smart Ones Classic Favorites Mini Rigatoni Wit...</td>\n",
       "      <td>38</td>\n",
       "      <td>1</td>\n",
       "      <td>10.5</td>\n",
       "      <td>2899546</td>\n",
       "      <td>2358</td>\n",
       "      <td>prior</td>\n",
       "      <td>5</td>\n",
       "      <td>...</td>\n",
       "      <td>5.0</td>\n",
       "      <td>3</td>\n",
       "      <td>1</td>\n",
       "      <td>both</td>\n",
       "      <td>Mid-range product</td>\n",
       "      <td>Mid-range product</td>\n",
       "      <td>Regularly busy</td>\n",
       "      <td>Regularly busy</td>\n",
       "      <td>5</td>\n",
       "      <td>New customer</td>\n",
       "    </tr>\n",
       "    <tr>\n",
       "      <th>...</th>\n",
       "      <td>...</td>\n",
       "      <td>...</td>\n",
       "      <td>...</td>\n",
       "      <td>...</td>\n",
       "      <td>...</td>\n",
       "      <td>...</td>\n",
       "      <td>...</td>\n",
       "      <td>...</td>\n",
       "      <td>...</td>\n",
       "      <td>...</td>\n",
       "      <td>...</td>\n",
       "      <td>...</td>\n",
       "      <td>...</td>\n",
       "      <td>...</td>\n",
       "      <td>...</td>\n",
       "      <td>...</td>\n",
       "      <td>...</td>\n",
       "      <td>...</td>\n",
       "      <td>...</td>\n",
       "      <td>...</td>\n",
       "      <td>...</td>\n",
       "    </tr>\n",
       "    <tr>\n",
       "      <th>9995</th>\n",
       "      <td>9995</td>\n",
       "      <td>28</td>\n",
       "      <td>Wheat Chex Cereal</td>\n",
       "      <td>121</td>\n",
       "      <td>14</td>\n",
       "      <td>10.1</td>\n",
       "      <td>1400457</td>\n",
       "      <td>36059</td>\n",
       "      <td>prior</td>\n",
       "      <td>1</td>\n",
       "      <td>...</td>\n",
       "      <td>NaN</td>\n",
       "      <td>24</td>\n",
       "      <td>0</td>\n",
       "      <td>both</td>\n",
       "      <td>Mid-range product</td>\n",
       "      <td>Mid-range product</td>\n",
       "      <td>Busiest day</td>\n",
       "      <td>Busiest days</td>\n",
       "      <td>1</td>\n",
       "      <td>New customer</td>\n",
       "    </tr>\n",
       "    <tr>\n",
       "      <th>9996</th>\n",
       "      <td>9996</td>\n",
       "      <td>28</td>\n",
       "      <td>Wheat Chex Cereal</td>\n",
       "      <td>121</td>\n",
       "      <td>14</td>\n",
       "      <td>10.1</td>\n",
       "      <td>1576558</td>\n",
       "      <td>36936</td>\n",
       "      <td>prior</td>\n",
       "      <td>1</td>\n",
       "      <td>...</td>\n",
       "      <td>NaN</td>\n",
       "      <td>1</td>\n",
       "      <td>0</td>\n",
       "      <td>both</td>\n",
       "      <td>Mid-range product</td>\n",
       "      <td>Mid-range product</td>\n",
       "      <td>Regularly busy</td>\n",
       "      <td>Regularly busy</td>\n",
       "      <td>4</td>\n",
       "      <td>New customer</td>\n",
       "    </tr>\n",
       "    <tr>\n",
       "      <th>9997</th>\n",
       "      <td>9997</td>\n",
       "      <td>28</td>\n",
       "      <td>Wheat Chex Cereal</td>\n",
       "      <td>121</td>\n",
       "      <td>14</td>\n",
       "      <td>10.1</td>\n",
       "      <td>2516651</td>\n",
       "      <td>36936</td>\n",
       "      <td>prior</td>\n",
       "      <td>2</td>\n",
       "      <td>...</td>\n",
       "      <td>22.0</td>\n",
       "      <td>3</td>\n",
       "      <td>1</td>\n",
       "      <td>both</td>\n",
       "      <td>Mid-range product</td>\n",
       "      <td>Mid-range product</td>\n",
       "      <td>Busiest day</td>\n",
       "      <td>Busiest days</td>\n",
       "      <td>4</td>\n",
       "      <td>New customer</td>\n",
       "    </tr>\n",
       "    <tr>\n",
       "      <th>9998</th>\n",
       "      <td>9998</td>\n",
       "      <td>28</td>\n",
       "      <td>Wheat Chex Cereal</td>\n",
       "      <td>121</td>\n",
       "      <td>14</td>\n",
       "      <td>10.1</td>\n",
       "      <td>2995837</td>\n",
       "      <td>36936</td>\n",
       "      <td>prior</td>\n",
       "      <td>3</td>\n",
       "      <td>...</td>\n",
       "      <td>14.0</td>\n",
       "      <td>2</td>\n",
       "      <td>1</td>\n",
       "      <td>both</td>\n",
       "      <td>Mid-range product</td>\n",
       "      <td>Mid-range product</td>\n",
       "      <td>Busiest day</td>\n",
       "      <td>Busiest days</td>\n",
       "      <td>4</td>\n",
       "      <td>New customer</td>\n",
       "    </tr>\n",
       "    <tr>\n",
       "      <th>9999</th>\n",
       "      <td>9999</td>\n",
       "      <td>28</td>\n",
       "      <td>Wheat Chex Cereal</td>\n",
       "      <td>121</td>\n",
       "      <td>14</td>\n",
       "      <td>10.1</td>\n",
       "      <td>2522453</td>\n",
       "      <td>36936</td>\n",
       "      <td>prior</td>\n",
       "      <td>4</td>\n",
       "      <td>...</td>\n",
       "      <td>14.0</td>\n",
       "      <td>3</td>\n",
       "      <td>1</td>\n",
       "      <td>both</td>\n",
       "      <td>Mid-range product</td>\n",
       "      <td>Mid-range product</td>\n",
       "      <td>Busiest day</td>\n",
       "      <td>Busiest days</td>\n",
       "      <td>4</td>\n",
       "      <td>New customer</td>\n",
       "    </tr>\n",
       "  </tbody>\n",
       "</table>\n",
       "<p>950 rows × 22 columns</p>\n",
       "</div>"
      ],
      "text/plain": [
       "      Unnamed: 0  product_id  \\\n",
       "2219        2219           4   \n",
       "2220        2220           4   \n",
       "2221        2221           4   \n",
       "2222        2222           4   \n",
       "2223        2223           4   \n",
       "...          ...         ...   \n",
       "9995        9995          28   \n",
       "9996        9996          28   \n",
       "9997        9997          28   \n",
       "9998        9998          28   \n",
       "9999        9999          28   \n",
       "\n",
       "                                           product_name  aisle_id  \\\n",
       "2219  Smart Ones Classic Favorites Mini Rigatoni Wit...        38   \n",
       "2220  Smart Ones Classic Favorites Mini Rigatoni Wit...        38   \n",
       "2221  Smart Ones Classic Favorites Mini Rigatoni Wit...        38   \n",
       "2222  Smart Ones Classic Favorites Mini Rigatoni Wit...        38   \n",
       "2223  Smart Ones Classic Favorites Mini Rigatoni Wit...        38   \n",
       "...                                                 ...       ...   \n",
       "9995                                  Wheat Chex Cereal       121   \n",
       "9996                                  Wheat Chex Cereal       121   \n",
       "9997                                  Wheat Chex Cereal       121   \n",
       "9998                                  Wheat Chex Cereal       121   \n",
       "9999                                  Wheat Chex Cereal       121   \n",
       "\n",
       "      department_id  prices  order_id  user_id eval_set  order_number  ...  \\\n",
       "2219              1    10.5   2563211     1677    prior             1  ...   \n",
       "2220              1    10.5   2734242     2277    prior             3  ...   \n",
       "2221              1    10.5   1515355     2358    prior             1  ...   \n",
       "2222              1    10.5   2052821     2358    prior             3  ...   \n",
       "2223              1    10.5   2899546     2358    prior             5  ...   \n",
       "...             ...     ...       ...      ...      ...           ...  ...   \n",
       "9995             14    10.1   1400457    36059    prior             1  ...   \n",
       "9996             14    10.1   1576558    36936    prior             1  ...   \n",
       "9997             14    10.1   2516651    36936    prior             2  ...   \n",
       "9998             14    10.1   2995837    36936    prior             3  ...   \n",
       "9999             14    10.1   2522453    36936    prior             4  ...   \n",
       "\n",
       "      days_since_prior_order add_to_cart_order  reordered  _merge  \\\n",
       "2219                     NaN                 9          0    both   \n",
       "2220                    10.0                 4          0    both   \n",
       "2221                     NaN                 5          0    both   \n",
       "2222                    11.0                 3          1    both   \n",
       "2223                     5.0                 3          1    both   \n",
       "...                      ...               ...        ...     ...   \n",
       "9995                     NaN                24          0    both   \n",
       "9996                     NaN                 1          0    both   \n",
       "9997                    22.0                 3          1    both   \n",
       "9998                    14.0                 2          1    both   \n",
       "9999                    14.0                 3          1    both   \n",
       "\n",
       "            price_range    price_range_loc     busiest_day    busiest_days  \\\n",
       "2219  Mid-range product  Mid-range product  Regularly busy  Regularly busy   \n",
       "2220  Mid-range product  Mid-range product  Regularly busy  Regularly busy   \n",
       "2221  Mid-range product  Mid-range product     Busiest day    Busiest days   \n",
       "2222  Mid-range product  Mid-range product     Busiest day    Busiest days   \n",
       "2223  Mid-range product  Mid-range product  Regularly busy  Regularly busy   \n",
       "...                 ...                ...             ...             ...   \n",
       "9995  Mid-range product  Mid-range product     Busiest day    Busiest days   \n",
       "9996  Mid-range product  Mid-range product  Regularly busy  Regularly busy   \n",
       "9997  Mid-range product  Mid-range product     Busiest day    Busiest days   \n",
       "9998  Mid-range product  Mid-range product     Busiest day    Busiest days   \n",
       "9999  Mid-range product  Mid-range product     Busiest day    Busiest days   \n",
       "\n",
       "     max_order  loyalty_flag  \n",
       "2219         1  New customer  \n",
       "2220         3  New customer  \n",
       "2221         5  New customer  \n",
       "2222         5  New customer  \n",
       "2223         5  New customer  \n",
       "...        ...           ...  \n",
       "9995         1  New customer  \n",
       "9996         4  New customer  \n",
       "9997         4  New customer  \n",
       "9998         4  New customer  \n",
       "9999         4  New customer  \n",
       "\n",
       "[950 rows x 22 columns]"
      ]
     },
     "execution_count": 33,
     "metadata": {},
     "output_type": "execute_result"
    }
   ],
   "source": [
    "ords_prods_merge.loc[ords_prods_merge['prices'] > 10]"
   ]
  },
  {
   "cell_type": "code",
   "execution_count": 34,
   "id": "e02416a1",
   "metadata": {
    "scrolled": false
   },
   "outputs": [
    {
     "data": {
      "text/html": [
       "<div>\n",
       "<style scoped>\n",
       "    .dataframe tbody tr th:only-of-type {\n",
       "        vertical-align: middle;\n",
       "    }\n",
       "\n",
       "    .dataframe tbody tr th {\n",
       "        vertical-align: top;\n",
       "    }\n",
       "\n",
       "    .dataframe thead th {\n",
       "        text-align: right;\n",
       "    }\n",
       "</style>\n",
       "<table border=\"1\" class=\"dataframe\">\n",
       "  <thead>\n",
       "    <tr style=\"text-align: right;\">\n",
       "      <th></th>\n",
       "      <th>Unnamed: 0</th>\n",
       "      <th>product_id</th>\n",
       "      <th>product_name</th>\n",
       "      <th>aisle_id</th>\n",
       "      <th>department_id</th>\n",
       "      <th>prices</th>\n",
       "      <th>order_id</th>\n",
       "      <th>user_id</th>\n",
       "      <th>eval_set</th>\n",
       "      <th>order_number</th>\n",
       "      <th>...</th>\n",
       "      <th>days_since_prior_order</th>\n",
       "      <th>add_to_cart_order</th>\n",
       "      <th>reordered</th>\n",
       "      <th>_merge</th>\n",
       "      <th>price_range</th>\n",
       "      <th>price_range_loc</th>\n",
       "      <th>busiest_day</th>\n",
       "      <th>busiest_days</th>\n",
       "      <th>max_order</th>\n",
       "      <th>loyalty_flag</th>\n",
       "    </tr>\n",
       "  </thead>\n",
       "  <tbody>\n",
       "    <tr>\n",
       "      <th>0</th>\n",
       "      <td>0</td>\n",
       "      <td>1</td>\n",
       "      <td>Chocolate Sandwich Cookies</td>\n",
       "      <td>61</td>\n",
       "      <td>19</td>\n",
       "      <td>5.8</td>\n",
       "      <td>3139998</td>\n",
       "      <td>138</td>\n",
       "      <td>prior</td>\n",
       "      <td>28</td>\n",
       "      <td>...</td>\n",
       "      <td>3.0</td>\n",
       "      <td>5</td>\n",
       "      <td>0</td>\n",
       "      <td>both</td>\n",
       "      <td>Mid-range product</td>\n",
       "      <td>Mid-range product</td>\n",
       "      <td>Regularly busy</td>\n",
       "      <td>Regularly busy</td>\n",
       "      <td>30</td>\n",
       "      <td>Regular customer</td>\n",
       "    </tr>\n",
       "    <tr>\n",
       "      <th>1</th>\n",
       "      <td>1</td>\n",
       "      <td>1</td>\n",
       "      <td>Chocolate Sandwich Cookies</td>\n",
       "      <td>61</td>\n",
       "      <td>19</td>\n",
       "      <td>5.8</td>\n",
       "      <td>1977647</td>\n",
       "      <td>138</td>\n",
       "      <td>prior</td>\n",
       "      <td>30</td>\n",
       "      <td>...</td>\n",
       "      <td>20.0</td>\n",
       "      <td>1</td>\n",
       "      <td>1</td>\n",
       "      <td>both</td>\n",
       "      <td>Mid-range product</td>\n",
       "      <td>Mid-range product</td>\n",
       "      <td>Regularly busy</td>\n",
       "      <td>Regularly busy</td>\n",
       "      <td>30</td>\n",
       "      <td>Regular customer</td>\n",
       "    </tr>\n",
       "    <tr>\n",
       "      <th>2</th>\n",
       "      <td>2</td>\n",
       "      <td>1</td>\n",
       "      <td>Chocolate Sandwich Cookies</td>\n",
       "      <td>61</td>\n",
       "      <td>19</td>\n",
       "      <td>5.8</td>\n",
       "      <td>389851</td>\n",
       "      <td>709</td>\n",
       "      <td>prior</td>\n",
       "      <td>2</td>\n",
       "      <td>...</td>\n",
       "      <td>6.0</td>\n",
       "      <td>20</td>\n",
       "      <td>0</td>\n",
       "      <td>both</td>\n",
       "      <td>Mid-range product</td>\n",
       "      <td>Mid-range product</td>\n",
       "      <td>Busiest day</td>\n",
       "      <td>Busiest days</td>\n",
       "      <td>2</td>\n",
       "      <td>New customer</td>\n",
       "    </tr>\n",
       "    <tr>\n",
       "      <th>3</th>\n",
       "      <td>3</td>\n",
       "      <td>1</td>\n",
       "      <td>Chocolate Sandwich Cookies</td>\n",
       "      <td>61</td>\n",
       "      <td>19</td>\n",
       "      <td>5.8</td>\n",
       "      <td>652770</td>\n",
       "      <td>764</td>\n",
       "      <td>prior</td>\n",
       "      <td>1</td>\n",
       "      <td>...</td>\n",
       "      <td>NaN</td>\n",
       "      <td>10</td>\n",
       "      <td>0</td>\n",
       "      <td>both</td>\n",
       "      <td>Mid-range product</td>\n",
       "      <td>Mid-range product</td>\n",
       "      <td>Regularly busy</td>\n",
       "      <td>Least busy</td>\n",
       "      <td>3</td>\n",
       "      <td>New customer</td>\n",
       "    </tr>\n",
       "    <tr>\n",
       "      <th>4</th>\n",
       "      <td>4</td>\n",
       "      <td>1</td>\n",
       "      <td>Chocolate Sandwich Cookies</td>\n",
       "      <td>61</td>\n",
       "      <td>19</td>\n",
       "      <td>5.8</td>\n",
       "      <td>1813452</td>\n",
       "      <td>764</td>\n",
       "      <td>prior</td>\n",
       "      <td>3</td>\n",
       "      <td>...</td>\n",
       "      <td>9.0</td>\n",
       "      <td>11</td>\n",
       "      <td>1</td>\n",
       "      <td>both</td>\n",
       "      <td>Mid-range product</td>\n",
       "      <td>Mid-range product</td>\n",
       "      <td>Least busy</td>\n",
       "      <td>Regularly busy</td>\n",
       "      <td>3</td>\n",
       "      <td>New customer</td>\n",
       "    </tr>\n",
       "    <tr>\n",
       "      <th>...</th>\n",
       "      <td>...</td>\n",
       "      <td>...</td>\n",
       "      <td>...</td>\n",
       "      <td>...</td>\n",
       "      <td>...</td>\n",
       "      <td>...</td>\n",
       "      <td>...</td>\n",
       "      <td>...</td>\n",
       "      <td>...</td>\n",
       "      <td>...</td>\n",
       "      <td>...</td>\n",
       "      <td>...</td>\n",
       "      <td>...</td>\n",
       "      <td>...</td>\n",
       "      <td>...</td>\n",
       "      <td>...</td>\n",
       "      <td>...</td>\n",
       "      <td>...</td>\n",
       "      <td>...</td>\n",
       "      <td>...</td>\n",
       "      <td>...</td>\n",
       "    </tr>\n",
       "    <tr>\n",
       "      <th>9995</th>\n",
       "      <td>9995</td>\n",
       "      <td>28</td>\n",
       "      <td>Wheat Chex Cereal</td>\n",
       "      <td>121</td>\n",
       "      <td>14</td>\n",
       "      <td>10.1</td>\n",
       "      <td>1400457</td>\n",
       "      <td>36059</td>\n",
       "      <td>prior</td>\n",
       "      <td>1</td>\n",
       "      <td>...</td>\n",
       "      <td>NaN</td>\n",
       "      <td>24</td>\n",
       "      <td>0</td>\n",
       "      <td>both</td>\n",
       "      <td>Mid-range product</td>\n",
       "      <td>Mid-range product</td>\n",
       "      <td>Busiest day</td>\n",
       "      <td>Busiest days</td>\n",
       "      <td>1</td>\n",
       "      <td>New customer</td>\n",
       "    </tr>\n",
       "    <tr>\n",
       "      <th>9996</th>\n",
       "      <td>9996</td>\n",
       "      <td>28</td>\n",
       "      <td>Wheat Chex Cereal</td>\n",
       "      <td>121</td>\n",
       "      <td>14</td>\n",
       "      <td>10.1</td>\n",
       "      <td>1576558</td>\n",
       "      <td>36936</td>\n",
       "      <td>prior</td>\n",
       "      <td>1</td>\n",
       "      <td>...</td>\n",
       "      <td>NaN</td>\n",
       "      <td>1</td>\n",
       "      <td>0</td>\n",
       "      <td>both</td>\n",
       "      <td>Mid-range product</td>\n",
       "      <td>Mid-range product</td>\n",
       "      <td>Regularly busy</td>\n",
       "      <td>Regularly busy</td>\n",
       "      <td>4</td>\n",
       "      <td>New customer</td>\n",
       "    </tr>\n",
       "    <tr>\n",
       "      <th>9997</th>\n",
       "      <td>9997</td>\n",
       "      <td>28</td>\n",
       "      <td>Wheat Chex Cereal</td>\n",
       "      <td>121</td>\n",
       "      <td>14</td>\n",
       "      <td>10.1</td>\n",
       "      <td>2516651</td>\n",
       "      <td>36936</td>\n",
       "      <td>prior</td>\n",
       "      <td>2</td>\n",
       "      <td>...</td>\n",
       "      <td>22.0</td>\n",
       "      <td>3</td>\n",
       "      <td>1</td>\n",
       "      <td>both</td>\n",
       "      <td>Mid-range product</td>\n",
       "      <td>Mid-range product</td>\n",
       "      <td>Busiest day</td>\n",
       "      <td>Busiest days</td>\n",
       "      <td>4</td>\n",
       "      <td>New customer</td>\n",
       "    </tr>\n",
       "    <tr>\n",
       "      <th>9998</th>\n",
       "      <td>9998</td>\n",
       "      <td>28</td>\n",
       "      <td>Wheat Chex Cereal</td>\n",
       "      <td>121</td>\n",
       "      <td>14</td>\n",
       "      <td>10.1</td>\n",
       "      <td>2995837</td>\n",
       "      <td>36936</td>\n",
       "      <td>prior</td>\n",
       "      <td>3</td>\n",
       "      <td>...</td>\n",
       "      <td>14.0</td>\n",
       "      <td>2</td>\n",
       "      <td>1</td>\n",
       "      <td>both</td>\n",
       "      <td>Mid-range product</td>\n",
       "      <td>Mid-range product</td>\n",
       "      <td>Busiest day</td>\n",
       "      <td>Busiest days</td>\n",
       "      <td>4</td>\n",
       "      <td>New customer</td>\n",
       "    </tr>\n",
       "    <tr>\n",
       "      <th>9999</th>\n",
       "      <td>9999</td>\n",
       "      <td>28</td>\n",
       "      <td>Wheat Chex Cereal</td>\n",
       "      <td>121</td>\n",
       "      <td>14</td>\n",
       "      <td>10.1</td>\n",
       "      <td>2522453</td>\n",
       "      <td>36936</td>\n",
       "      <td>prior</td>\n",
       "      <td>4</td>\n",
       "      <td>...</td>\n",
       "      <td>14.0</td>\n",
       "      <td>3</td>\n",
       "      <td>1</td>\n",
       "      <td>both</td>\n",
       "      <td>Mid-range product</td>\n",
       "      <td>Mid-range product</td>\n",
       "      <td>Busiest day</td>\n",
       "      <td>Busiest days</td>\n",
       "      <td>4</td>\n",
       "      <td>New customer</td>\n",
       "    </tr>\n",
       "  </tbody>\n",
       "</table>\n",
       "<p>10000 rows × 22 columns</p>\n",
       "</div>"
      ],
      "text/plain": [
       "      Unnamed: 0  product_id                product_name  aisle_id  \\\n",
       "0              0           1  Chocolate Sandwich Cookies        61   \n",
       "1              1           1  Chocolate Sandwich Cookies        61   \n",
       "2              2           1  Chocolate Sandwich Cookies        61   \n",
       "3              3           1  Chocolate Sandwich Cookies        61   \n",
       "4              4           1  Chocolate Sandwich Cookies        61   \n",
       "...          ...         ...                         ...       ...   \n",
       "9995        9995          28           Wheat Chex Cereal       121   \n",
       "9996        9996          28           Wheat Chex Cereal       121   \n",
       "9997        9997          28           Wheat Chex Cereal       121   \n",
       "9998        9998          28           Wheat Chex Cereal       121   \n",
       "9999        9999          28           Wheat Chex Cereal       121   \n",
       "\n",
       "      department_id  prices  order_id  user_id eval_set  order_number  ...  \\\n",
       "0                19     5.8   3139998      138    prior            28  ...   \n",
       "1                19     5.8   1977647      138    prior            30  ...   \n",
       "2                19     5.8    389851      709    prior             2  ...   \n",
       "3                19     5.8    652770      764    prior             1  ...   \n",
       "4                19     5.8   1813452      764    prior             3  ...   \n",
       "...             ...     ...       ...      ...      ...           ...  ...   \n",
       "9995             14    10.1   1400457    36059    prior             1  ...   \n",
       "9996             14    10.1   1576558    36936    prior             1  ...   \n",
       "9997             14    10.1   2516651    36936    prior             2  ...   \n",
       "9998             14    10.1   2995837    36936    prior             3  ...   \n",
       "9999             14    10.1   2522453    36936    prior             4  ...   \n",
       "\n",
       "      days_since_prior_order add_to_cart_order  reordered  _merge  \\\n",
       "0                        3.0                 5          0    both   \n",
       "1                       20.0                 1          1    both   \n",
       "2                        6.0                20          0    both   \n",
       "3                        NaN                10          0    both   \n",
       "4                        9.0                11          1    both   \n",
       "...                      ...               ...        ...     ...   \n",
       "9995                     NaN                24          0    both   \n",
       "9996                     NaN                 1          0    both   \n",
       "9997                    22.0                 3          1    both   \n",
       "9998                    14.0                 2          1    both   \n",
       "9999                    14.0                 3          1    both   \n",
       "\n",
       "            price_range    price_range_loc     busiest_day    busiest_days  \\\n",
       "0     Mid-range product  Mid-range product  Regularly busy  Regularly busy   \n",
       "1     Mid-range product  Mid-range product  Regularly busy  Regularly busy   \n",
       "2     Mid-range product  Mid-range product     Busiest day    Busiest days   \n",
       "3     Mid-range product  Mid-range product  Regularly busy      Least busy   \n",
       "4     Mid-range product  Mid-range product      Least busy  Regularly busy   \n",
       "...                 ...                ...             ...             ...   \n",
       "9995  Mid-range product  Mid-range product     Busiest day    Busiest days   \n",
       "9996  Mid-range product  Mid-range product  Regularly busy  Regularly busy   \n",
       "9997  Mid-range product  Mid-range product     Busiest day    Busiest days   \n",
       "9998  Mid-range product  Mid-range product     Busiest day    Busiest days   \n",
       "9999  Mid-range product  Mid-range product     Busiest day    Busiest days   \n",
       "\n",
       "     max_order      loyalty_flag  \n",
       "0           30  Regular customer  \n",
       "1           30  Regular customer  \n",
       "2            2      New customer  \n",
       "3            3      New customer  \n",
       "4            3      New customer  \n",
       "...        ...               ...  \n",
       "9995         1      New customer  \n",
       "9996         4      New customer  \n",
       "9997         4      New customer  \n",
       "9998         4      New customer  \n",
       "9999         4      New customer  \n",
       "\n",
       "[10000 rows x 22 columns]"
      ]
     },
     "execution_count": 34,
     "metadata": {},
     "output_type": "execute_result"
    }
   ],
   "source": [
    "ords_prods_merge"
   ]
  },
  {
   "cell_type": "code",
   "execution_count": 35,
   "id": "a2d77e5a",
   "metadata": {
    "scrolled": true
   },
   "outputs": [
    {
     "data": {
      "text/plain": [
       "array([0.16121892, 0.81502145, 0.58592584, 0.84196448, 0.89618391,\n",
       "       0.27761716, 0.49024997, 0.28469723, 0.95018524, 0.00660473])"
      ]
     },
     "execution_count": 35,
     "metadata": {},
     "output_type": "execute_result"
    }
   ],
   "source": [
    "np.random.rand(10)"
   ]
  },
  {
   "cell_type": "code",
   "execution_count": 36,
   "id": "a92397e1",
   "metadata": {},
   "outputs": [],
   "source": [
    "dev = np.random.rand(len(ords_prods_merge)) <= 7"
   ]
  },
  {
   "cell_type": "code",
   "execution_count": 37,
   "id": "e3d1004c",
   "metadata": {},
   "outputs": [],
   "source": [
    "big = ords_prods_merge[dev]"
   ]
  },
  {
   "cell_type": "code",
   "execution_count": 38,
   "id": "26028661",
   "metadata": {},
   "outputs": [],
   "source": [
    "small = ords_prods_merge[~dev]"
   ]
  },
  {
   "cell_type": "code",
   "execution_count": 39,
   "id": "78ebd786",
   "metadata": {
    "scrolled": true
   },
   "outputs": [
    {
     "data": {
      "text/plain": [
       "10000"
      ]
     },
     "execution_count": 39,
     "metadata": {},
     "output_type": "execute_result"
    }
   ],
   "source": [
    "len(ords_prods_merge)"
   ]
  },
  {
   "cell_type": "code",
   "execution_count": 40,
   "id": "6881422c",
   "metadata": {},
   "outputs": [
    {
     "data": {
      "text/plain": [
       "10000"
      ]
     },
     "execution_count": 40,
     "metadata": {},
     "output_type": "execute_result"
    }
   ],
   "source": [
    "len(big) + len(small)"
   ]
  },
  {
   "cell_type": "code",
   "execution_count": 41,
   "id": "73bab355",
   "metadata": {},
   "outputs": [],
   "source": [
    "df_2 = ords_prods_merge[['orders_day_of_the_week','prices']]"
   ]
  },
  {
   "cell_type": "code",
   "execution_count": 42,
   "id": "cb0af02c",
   "metadata": {},
   "outputs": [
    {
     "data": {
      "image/png": "[encoded data removed]",
      "text/plain": [
       "<Figure size 432x288 with 1 Axes>"
      ]
     },
     "metadata": {
      "needs_background": "light"
     },
     "output_type": "display_data"
    }
   ],
   "source": [
    "line = sns.lineplot(data = df_2, x = 'orders_day_of_the_week',y = 'prices')"
   ]
  },
  {
   "cell_type": "markdown",
   "id": "8713572b",
   "metadata": {},
   "source": [
    "03. You need to provide the Instacart senior stakeholders with descriptive findings about sales. Create a histogram of the “order_hour_of_day” column.\n",
    "In a markdown cell beneath your histogram, describe what the histogram demonstrates."
   ]
  },
  {
   "cell_type": "code",
   "execution_count": 44,
   "id": "41545a7a",
   "metadata": {},
   "outputs": [
    {
     "data": {
      "image/png": "[encoded data removed]",
      "text/plain": [
       "<Figure size 432x288 with 1 Axes>"
      ]
     },
     "metadata": {
      "needs_background": "light"
     },
     "output_type": "display_data"
    }
   ],
   "source": [
    "order_hour_of_day_Histo = df_customers_orders_merged['order_hour_of_day'].plot.hist(bins = 70)"
   ]
  },
  {
   "cell_type": "markdown",
   "id": "9021a959",
   "metadata": {},
   "source": [
    "The histogram shows the shopping hours.Early mornings are on the low end, 0-5. Spending picks up between 6-15 hours. Then starts to drop around off around 16-20 hours. "
   ]
  },
  {
   "cell_type": "code",
   "execution_count": 45,
   "id": "bc1dd7a6",
   "metadata": {},
   "outputs": [],
   "source": [
    "order_hour_of_day_Histo.figure.savefig(os.path.join(path, '04Analysis','Visualizations', 'order_hour_of_day_Histo.png'))"
   ]
  },
  {
   "cell_type": "markdown",
   "id": "8a298cfa",
   "metadata": {},
   "source": [
    "04. The marketing team is curious about the distribution of orders among customers in terms of loyalty. Create a bar chart from the “loyalty_flag” column."
   ]
  },
  {
   "cell_type": "code",
   "execution_count": 47,
   "id": "4839a9fc",
   "metadata": {
    "scrolled": true
   },
   "outputs": [
    {
     "data": {
      "image/png": "[encoded data removed]",
      "text/plain": [
       "<Figure size 432x288 with 1 Axes>"
      ]
     },
     "metadata": {
      "needs_background": "light"
     },
     "output_type": "display_data"
    }
   ],
   "source": [
    "Bar_Loyalty = ords_prods_merge['loyalty_flag'].value_counts().plot.bar(color =['purple', 'green', 'blue'])"
   ]
  },
  {
   "cell_type": "code",
   "execution_count": 48,
   "id": "fcb9d9c8",
   "metadata": {},
   "outputs": [],
   "source": [
    "Bar_Loyalty.figure.savefig(os.path.join(path, '04Analysis','Visualizations', 'Bar_Loyalty.png'))"
   ]
  },
  {
   "cell_type": "markdown",
   "id": "27b96955",
   "metadata": {},
   "source": [
    "05. Check whether there’s a difference in expenditure (the “prices” column) depending on the hour of the day. (Hint: To check this, you need to use an accurate sample for your line chart!)"
   ]
  },
  {
   "cell_type": "code",
   "execution_count": 50,
   "id": "1c1854ae",
   "metadata": {},
   "outputs": [],
   "source": [
    "df = orders_products_combined[:2000000]"
   ]
  },
  {
   "cell_type": "code",
   "execution_count": 51,
   "id": "e3a187b0",
   "metadata": {},
   "outputs": [
    {
     "data": {
      "text/html": [
       "<div>\n",
       "<style scoped>\n",
       "    .dataframe tbody tr th:only-of-type {\n",
       "        vertical-align: middle;\n",
       "    }\n",
       "\n",
       "    .dataframe tbody tr th {\n",
       "        vertical-align: top;\n",
       "    }\n",
       "\n",
       "    .dataframe thead th {\n",
       "        text-align: right;\n",
       "    }\n",
       "</style>\n",
       "<table border=\"1\" class=\"dataframe\">\n",
       "  <thead>\n",
       "    <tr style=\"text-align: right;\">\n",
       "      <th></th>\n",
       "      <th>order_id</th>\n",
       "      <th>user_id</th>\n",
       "      <th>order_number</th>\n",
       "      <th>orders_day_of_week</th>\n",
       "      <th>order_hour_of_day</th>\n",
       "      <th>days_since_prior_order</th>\n",
       "      <th>product_id</th>\n",
       "      <th>add_to_cart_order</th>\n",
       "      <th>reordered</th>\n",
       "      <th>_merge</th>\n",
       "      <th>...</th>\n",
       "      <th>prices</th>\n",
       "      <th>first_name</th>\n",
       "      <th>last_name</th>\n",
       "      <th>gender</th>\n",
       "      <th>state</th>\n",
       "      <th>age</th>\n",
       "      <th>date_joined</th>\n",
       "      <th>dependants</th>\n",
       "      <th>marital_status</th>\n",
       "      <th>income</th>\n",
       "    </tr>\n",
       "  </thead>\n",
       "  <tbody>\n",
       "    <tr>\n",
       "      <th>0</th>\n",
       "      <td>2539329.0</td>\n",
       "      <td>1</td>\n",
       "      <td>1.0</td>\n",
       "      <td>2.0</td>\n",
       "      <td>8.0</td>\n",
       "      <td>NaN</td>\n",
       "      <td>196.0</td>\n",
       "      <td>1.0</td>\n",
       "      <td>0.0</td>\n",
       "      <td>both</td>\n",
       "      <td>...</td>\n",
       "      <td>9.0</td>\n",
       "      <td>NaN</td>\n",
       "      <td>NaN</td>\n",
       "      <td>NaN</td>\n",
       "      <td>NaN</td>\n",
       "      <td>NaN</td>\n",
       "      <td>NaN</td>\n",
       "      <td>NaN</td>\n",
       "      <td>NaN</td>\n",
       "      <td>NaN</td>\n",
       "    </tr>\n",
       "    <tr>\n",
       "      <th>1</th>\n",
       "      <td>2398795.0</td>\n",
       "      <td>1</td>\n",
       "      <td>2.0</td>\n",
       "      <td>3.0</td>\n",
       "      <td>7.0</td>\n",
       "      <td>15.0</td>\n",
       "      <td>196.0</td>\n",
       "      <td>1.0</td>\n",
       "      <td>1.0</td>\n",
       "      <td>both</td>\n",
       "      <td>...</td>\n",
       "      <td>9.0</td>\n",
       "      <td>NaN</td>\n",
       "      <td>NaN</td>\n",
       "      <td>NaN</td>\n",
       "      <td>NaN</td>\n",
       "      <td>NaN</td>\n",
       "      <td>NaN</td>\n",
       "      <td>NaN</td>\n",
       "      <td>NaN</td>\n",
       "      <td>NaN</td>\n",
       "    </tr>\n",
       "    <tr>\n",
       "      <th>2</th>\n",
       "      <td>473747.0</td>\n",
       "      <td>1</td>\n",
       "      <td>3.0</td>\n",
       "      <td>3.0</td>\n",
       "      <td>12.0</td>\n",
       "      <td>21.0</td>\n",
       "      <td>196.0</td>\n",
       "      <td>1.0</td>\n",
       "      <td>1.0</td>\n",
       "      <td>both</td>\n",
       "      <td>...</td>\n",
       "      <td>9.0</td>\n",
       "      <td>NaN</td>\n",
       "      <td>NaN</td>\n",
       "      <td>NaN</td>\n",
       "      <td>NaN</td>\n",
       "      <td>NaN</td>\n",
       "      <td>NaN</td>\n",
       "      <td>NaN</td>\n",
       "      <td>NaN</td>\n",
       "      <td>NaN</td>\n",
       "    </tr>\n",
       "    <tr>\n",
       "      <th>3</th>\n",
       "      <td>2254736.0</td>\n",
       "      <td>1</td>\n",
       "      <td>4.0</td>\n",
       "      <td>4.0</td>\n",
       "      <td>7.0</td>\n",
       "      <td>29.0</td>\n",
       "      <td>196.0</td>\n",
       "      <td>1.0</td>\n",
       "      <td>1.0</td>\n",
       "      <td>both</td>\n",
       "      <td>...</td>\n",
       "      <td>9.0</td>\n",
       "      <td>NaN</td>\n",
       "      <td>NaN</td>\n",
       "      <td>NaN</td>\n",
       "      <td>NaN</td>\n",
       "      <td>NaN</td>\n",
       "      <td>NaN</td>\n",
       "      <td>NaN</td>\n",
       "      <td>NaN</td>\n",
       "      <td>NaN</td>\n",
       "    </tr>\n",
       "    <tr>\n",
       "      <th>4</th>\n",
       "      <td>431534.0</td>\n",
       "      <td>1</td>\n",
       "      <td>5.0</td>\n",
       "      <td>4.0</td>\n",
       "      <td>15.0</td>\n",
       "      <td>28.0</td>\n",
       "      <td>196.0</td>\n",
       "      <td>1.0</td>\n",
       "      <td>1.0</td>\n",
       "      <td>both</td>\n",
       "      <td>...</td>\n",
       "      <td>9.0</td>\n",
       "      <td>NaN</td>\n",
       "      <td>NaN</td>\n",
       "      <td>NaN</td>\n",
       "      <td>NaN</td>\n",
       "      <td>NaN</td>\n",
       "      <td>NaN</td>\n",
       "      <td>NaN</td>\n",
       "      <td>NaN</td>\n",
       "      <td>NaN</td>\n",
       "    </tr>\n",
       "    <tr>\n",
       "      <th>...</th>\n",
       "      <td>...</td>\n",
       "      <td>...</td>\n",
       "      <td>...</td>\n",
       "      <td>...</td>\n",
       "      <td>...</td>\n",
       "      <td>...</td>\n",
       "      <td>...</td>\n",
       "      <td>...</td>\n",
       "      <td>...</td>\n",
       "      <td>...</td>\n",
       "      <td>...</td>\n",
       "      <td>...</td>\n",
       "      <td>...</td>\n",
       "      <td>...</td>\n",
       "      <td>...</td>\n",
       "      <td>...</td>\n",
       "      <td>...</td>\n",
       "      <td>...</td>\n",
       "      <td>...</td>\n",
       "      <td>...</td>\n",
       "      <td>...</td>\n",
       "    </tr>\n",
       "    <tr>\n",
       "      <th>1999995</th>\n",
       "      <td>183520.0</td>\n",
       "      <td>205921</td>\n",
       "      <td>2.0</td>\n",
       "      <td>1.0</td>\n",
       "      <td>9.0</td>\n",
       "      <td>30.0</td>\n",
       "      <td>24852.0</td>\n",
       "      <td>9.0</td>\n",
       "      <td>0.0</td>\n",
       "      <td>both</td>\n",
       "      <td>...</td>\n",
       "      <td>12.3</td>\n",
       "      <td>NaN</td>\n",
       "      <td>NaN</td>\n",
       "      <td>NaN</td>\n",
       "      <td>NaN</td>\n",
       "      <td>NaN</td>\n",
       "      <td>NaN</td>\n",
       "      <td>NaN</td>\n",
       "      <td>NaN</td>\n",
       "      <td>NaN</td>\n",
       "    </tr>\n",
       "    <tr>\n",
       "      <th>1999996</th>\n",
       "      <td>3315075.0</td>\n",
       "      <td>205923</td>\n",
       "      <td>1.0</td>\n",
       "      <td>3.0</td>\n",
       "      <td>17.0</td>\n",
       "      <td>NaN</td>\n",
       "      <td>24852.0</td>\n",
       "      <td>1.0</td>\n",
       "      <td>0.0</td>\n",
       "      <td>both</td>\n",
       "      <td>...</td>\n",
       "      <td>12.3</td>\n",
       "      <td>NaN</td>\n",
       "      <td>NaN</td>\n",
       "      <td>NaN</td>\n",
       "      <td>NaN</td>\n",
       "      <td>NaN</td>\n",
       "      <td>NaN</td>\n",
       "      <td>NaN</td>\n",
       "      <td>NaN</td>\n",
       "      <td>NaN</td>\n",
       "    </tr>\n",
       "    <tr>\n",
       "      <th>1999997</th>\n",
       "      <td>2672941.0</td>\n",
       "      <td>205928</td>\n",
       "      <td>1.0</td>\n",
       "      <td>6.0</td>\n",
       "      <td>13.0</td>\n",
       "      <td>NaN</td>\n",
       "      <td>24852.0</td>\n",
       "      <td>1.0</td>\n",
       "      <td>0.0</td>\n",
       "      <td>both</td>\n",
       "      <td>...</td>\n",
       "      <td>12.3</td>\n",
       "      <td>NaN</td>\n",
       "      <td>NaN</td>\n",
       "      <td>NaN</td>\n",
       "      <td>NaN</td>\n",
       "      <td>NaN</td>\n",
       "      <td>NaN</td>\n",
       "      <td>NaN</td>\n",
       "      <td>NaN</td>\n",
       "      <td>NaN</td>\n",
       "    </tr>\n",
       "    <tr>\n",
       "      <th>1999998</th>\n",
       "      <td>3235789.0</td>\n",
       "      <td>205928</td>\n",
       "      <td>2.0</td>\n",
       "      <td>3.0</td>\n",
       "      <td>15.0</td>\n",
       "      <td>18.0</td>\n",
       "      <td>24852.0</td>\n",
       "      <td>1.0</td>\n",
       "      <td>1.0</td>\n",
       "      <td>both</td>\n",
       "      <td>...</td>\n",
       "      <td>12.3</td>\n",
       "      <td>NaN</td>\n",
       "      <td>NaN</td>\n",
       "      <td>NaN</td>\n",
       "      <td>NaN</td>\n",
       "      <td>NaN</td>\n",
       "      <td>NaN</td>\n",
       "      <td>NaN</td>\n",
       "      <td>NaN</td>\n",
       "      <td>NaN</td>\n",
       "    </tr>\n",
       "    <tr>\n",
       "      <th>1999999</th>\n",
       "      <td>1089798.0</td>\n",
       "      <td>205928</td>\n",
       "      <td>3.0</td>\n",
       "      <td>0.0</td>\n",
       "      <td>10.0</td>\n",
       "      <td>11.0</td>\n",
       "      <td>24852.0</td>\n",
       "      <td>1.0</td>\n",
       "      <td>1.0</td>\n",
       "      <td>both</td>\n",
       "      <td>...</td>\n",
       "      <td>12.3</td>\n",
       "      <td>NaN</td>\n",
       "      <td>NaN</td>\n",
       "      <td>NaN</td>\n",
       "      <td>NaN</td>\n",
       "      <td>NaN</td>\n",
       "      <td>NaN</td>\n",
       "      <td>NaN</td>\n",
       "      <td>NaN</td>\n",
       "      <td>NaN</td>\n",
       "    </tr>\n",
       "  </tbody>\n",
       "</table>\n",
       "<p>2000000 rows × 23 columns</p>\n",
       "</div>"
      ],
      "text/plain": [
       "          order_id user_id  order_number  orders_day_of_week  \\\n",
       "0        2539329.0       1           1.0                 2.0   \n",
       "1        2398795.0       1           2.0                 3.0   \n",
       "2         473747.0       1           3.0                 3.0   \n",
       "3        2254736.0       1           4.0                 4.0   \n",
       "4         431534.0       1           5.0                 4.0   \n",
       "...            ...     ...           ...                 ...   \n",
       "1999995   183520.0  205921           2.0                 1.0   \n",
       "1999996  3315075.0  205923           1.0                 3.0   \n",
       "1999997  2672941.0  205928           1.0                 6.0   \n",
       "1999998  3235789.0  205928           2.0                 3.0   \n",
       "1999999  1089798.0  205928           3.0                 0.0   \n",
       "\n",
       "         order_hour_of_day  days_since_prior_order  product_id  \\\n",
       "0                      8.0                     NaN       196.0   \n",
       "1                      7.0                    15.0       196.0   \n",
       "2                     12.0                    21.0       196.0   \n",
       "3                      7.0                    29.0       196.0   \n",
       "4                     15.0                    28.0       196.0   \n",
       "...                    ...                     ...         ...   \n",
       "1999995                9.0                    30.0     24852.0   \n",
       "1999996               17.0                     NaN     24852.0   \n",
       "1999997               13.0                     NaN     24852.0   \n",
       "1999998               15.0                    18.0     24852.0   \n",
       "1999999               10.0                    11.0     24852.0   \n",
       "\n",
       "         add_to_cart_order  reordered _merge  ... prices  first_name  \\\n",
       "0                      1.0        0.0   both  ...    9.0         NaN   \n",
       "1                      1.0        1.0   both  ...    9.0         NaN   \n",
       "2                      1.0        1.0   both  ...    9.0         NaN   \n",
       "3                      1.0        1.0   both  ...    9.0         NaN   \n",
       "4                      1.0        1.0   both  ...    9.0         NaN   \n",
       "...                    ...        ...    ...  ...    ...         ...   \n",
       "1999995                9.0        0.0   both  ...   12.3         NaN   \n",
       "1999996                1.0        0.0   both  ...   12.3         NaN   \n",
       "1999997                1.0        0.0   both  ...   12.3         NaN   \n",
       "1999998                1.0        1.0   both  ...   12.3         NaN   \n",
       "1999999                1.0        1.0   both  ...   12.3         NaN   \n",
       "\n",
       "         last_name  gender state age date_joined dependants  marital_status  \\\n",
       "0              NaN     NaN   NaN NaN         NaN        NaN             NaN   \n",
       "1              NaN     NaN   NaN NaN         NaN        NaN             NaN   \n",
       "2              NaN     NaN   NaN NaN         NaN        NaN             NaN   \n",
       "3              NaN     NaN   NaN NaN         NaN        NaN             NaN   \n",
       "4              NaN     NaN   NaN NaN         NaN        NaN             NaN   \n",
       "...            ...     ...   ...  ..         ...        ...             ...   \n",
       "1999995        NaN     NaN   NaN NaN         NaN        NaN             NaN   \n",
       "1999996        NaN     NaN   NaN NaN         NaN        NaN             NaN   \n",
       "1999997        NaN     NaN   NaN NaN         NaN        NaN             NaN   \n",
       "1999998        NaN     NaN   NaN NaN         NaN        NaN             NaN   \n",
       "1999999        NaN     NaN   NaN NaN         NaN        NaN             NaN   \n",
       "\n",
       "        income  \n",
       "0          NaN  \n",
       "1          NaN  \n",
       "2          NaN  \n",
       "3          NaN  \n",
       "4          NaN  \n",
       "...        ...  \n",
       "1999995    NaN  \n",
       "1999996    NaN  \n",
       "1999997    NaN  \n",
       "1999998    NaN  \n",
       "1999999    NaN  \n",
       "\n",
       "[2000000 rows x 23 columns]"
      ]
     },
     "execution_count": 51,
     "metadata": {},
     "output_type": "execute_result"
    }
   ],
   "source": [
    "df"
   ]
  },
  {
   "cell_type": "code",
   "execution_count": 53,
   "id": "1fdfc6bc",
   "metadata": {},
   "outputs": [],
   "source": [
    "df_3 = df[['order_hour_of_day','prices']]"
   ]
  },
  {
   "cell_type": "code",
   "execution_count": 55,
   "id": "c81db2f8",
   "metadata": {
    "scrolled": true
   },
   "outputs": [
    {
     "data": {
      "image/png": "[encoded data removed]",
      "text/plain": [
       "<Figure size 432x288 with 1 Axes>"
      ]
     },
     "metadata": {
      "needs_background": "light"
     },
     "output_type": "display_data"
    }
   ],
   "source": [
    "line_prices_order_hour_of_day = sns.lineplot(data = df_3, x = 'order_hour_of_day',y = 'prices')"
   ]
  },
  {
   "cell_type": "code",
   "execution_count": 57,
   "id": "50c2930a",
   "metadata": {},
   "outputs": [],
   "source": [
    "line_prices_order_hour_of_day.figure.savefig(os.path.join(path, '04Analysis','Visualizations', 'line_prices_order_hour_of_day.png'))"
   ]
  },
  {
   "cell_type": "markdown",
   "id": "1caace50",
   "metadata": {},
   "source": [
    "06. Now that you have information about customers, you need to conduct some exploratory analysis of customer demographics to inform the targeted marketing campaigns. First, determine whether there’s a connection between age and family situation by creating a line chart exploring the connections between age and number of dependents:\n",
    "In a markdown cell beneath your line chart, describe what the line chart shows."
   ]
  },
  {
   "cell_type": "code",
   "execution_count": 58,
   "id": "d350e5ca",
   "metadata": {
    "scrolled": true
   },
   "outputs": [
    {
     "data": {
      "image/png": "[encoded data removed]",
      "text/plain": [
       "<Figure size 432x288 with 1 Axes>"
      ]
     },
     "metadata": {
      "needs_background": "light"
     },
     "output_type": "display_data"
    }
   ],
   "source": [
    "line_age_dependants = sns.lineplot(data = df_customers_orders_merged, x = 'age',y = 'dependants')"
   ]
  },
  {
   "cell_type": "code",
   "execution_count": 59,
   "id": "ff967a6c",
   "metadata": {},
   "outputs": [],
   "source": [
    "line_age_dependants.figure.savefig(os.path.join(path, '04Analysis','Visualizations', 'line_age_dependants.png'))"
   ]
  },
  {
   "cell_type": "markdown",
   "id": "97603380",
   "metadata": {},
   "source": [
    "There is a connection between age and dependants. "
   ]
  },
  {
   "cell_type": "markdown",
   "id": "a0284f8c",
   "metadata": {},
   "source": [
    "07. You’ll also need to explore whether there’s a connection between age and spending power (income). To visualize this relationship, create a scatterplot using the sns.scatterplot() function.\n",
    "In a markdown cell beneath your scatterplot, describe what the scatterplot shows."
   ]
  },
  {
   "cell_type": "code",
   "execution_count": 25,
   "id": "4e220a2c",
   "metadata": {
    "scrolled": true
   },
   "outputs": [
    {
     "data": {
      "image/png": "[encoded data removed]",
      "text/plain": [
       "<Figure size 432x288 with 1 Axes>"
      ]
     },
     "metadata": {
      "needs_background": "light"
     },
     "output_type": "display_data"
    }
   ],
   "source": [
    "scatterplot_income_age = sns.scatterplot(x = 'income', y = 'age',data = df_customers_orders_merged)"
   ]
  },
  {
   "cell_type": "markdown",
   "id": "b814ed1c",
   "metadata": {},
   "source": [
    "There is a connection between age and income. "
   ]
  },
  {
   "cell_type": "code",
   "execution_count": 28,
   "id": "fef4e950",
   "metadata": {},
   "outputs": [],
   "source": [
    "scatterplot_income_age.figure.savefig(os.path.join(path, '04Analysis','Visualizations', 'scatterplot_income_age_dow.png'))"
   ]
  },
  {
   "cell_type": "code",
   "execution_count": null,
   "id": "48474838",
   "metadata": {},
   "outputs": [],
   "source": []
  }
 ],
 "metadata": {
  "kernelspec": {
   "display_name": "Python 3 (ipykernel)",
   "language": "python",
   "name": "python3"
  },
  "language_info": {
   "codemirror_mode": {
    "name": "ipython",
    "version": 3
   },
   "file_extension": ".py",
   "mimetype": "text/x-python",
   "name": "python",
   "nbconvert_exporter": "python",
   "pygments_lexer": "ipython3",
   "version": "3.9.12"
  }
 },
 "nbformat": 4,
 "nbformat_minor": 5
}
