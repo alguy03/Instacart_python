{
 "cells": [
  {
   "cell_type": "markdown",
   "id": "a5ae7029",
   "metadata": {},
   "source": [
    "01. Import the data set you exported in Exercise 4.9 into a new Jupyter notebook. This should be the merged version of your data that contains the new customers column."
   ]
  },
  {
   "cell_type": "code",
   "execution_count": 22,
   "id": "c13f6de1",
   "metadata": {},
   "outputs": [],
   "source": [
    "# import libraries \n",
    "import pandas as pd\n",
    "import numpy as np\n",
    "import os\n",
    "import matplotlib.pyplot as plt\n",
    "import seaborn as sns\n",
    "import scipy"
   ]
  },
  {
   "cell_type": "code",
   "execution_count": 2,
   "id": "d2d525bc",
   "metadata": {},
   "outputs": [],
   "source": [
    "orders_products_merged_customers = pd.read_pickle(r'C:\\Users\\alexg\\InstacartBasketAnalysis\\02Data\\PreparedData\\orders_products_merged_customers.pkl')"
   ]
  },
  {
   "cell_type": "code",
   "execution_count": 26,
   "id": "da6d3016",
   "metadata": {},
   "outputs": [],
   "source": [
    "df_products_wrangled = pd.read_csv(r'C:\\Users\\alexg\\InstacartBasketAnalysis\\02Data\\PreparedData\\products_wrangled.csv', index_col =False)"
   ]
  },
  {
   "cell_type": "code",
   "execution_count": 3,
   "id": "81d43aa3",
   "metadata": {},
   "outputs": [],
   "source": [
    "orders_products_merged_customers = orders_products_merged_customers[:10000000]"
   ]
  },
  {
   "cell_type": "code",
   "execution_count": 27,
   "id": "18552d6b",
   "metadata": {},
   "outputs": [
    {
     "data": {
      "text/html": [
       "<div>\n",
       "<style scoped>\n",
       "    .dataframe tbody tr th:only-of-type {\n",
       "        vertical-align: middle;\n",
       "    }\n",
       "\n",
       "    .dataframe tbody tr th {\n",
       "        vertical-align: top;\n",
       "    }\n",
       "\n",
       "    .dataframe thead th {\n",
       "        text-align: right;\n",
       "    }\n",
       "</style>\n",
       "<table border=\"1\" class=\"dataframe\">\n",
       "  <thead>\n",
       "    <tr style=\"text-align: right;\">\n",
       "      <th></th>\n",
       "      <th>Unnamed: 0</th>\n",
       "      <th>department</th>\n",
       "    </tr>\n",
       "  </thead>\n",
       "  <tbody>\n",
       "    <tr>\n",
       "      <th>0</th>\n",
       "      <td>1</td>\n",
       "      <td>frozen</td>\n",
       "    </tr>\n",
       "    <tr>\n",
       "      <th>1</th>\n",
       "      <td>2</td>\n",
       "      <td>other</td>\n",
       "    </tr>\n",
       "    <tr>\n",
       "      <th>2</th>\n",
       "      <td>3</td>\n",
       "      <td>bakery</td>\n",
       "    </tr>\n",
       "    <tr>\n",
       "      <th>3</th>\n",
       "      <td>4</td>\n",
       "      <td>produce</td>\n",
       "    </tr>\n",
       "    <tr>\n",
       "      <th>4</th>\n",
       "      <td>5</td>\n",
       "      <td>alcohol</td>\n",
       "    </tr>\n",
       "    <tr>\n",
       "      <th>5</th>\n",
       "      <td>6</td>\n",
       "      <td>international</td>\n",
       "    </tr>\n",
       "    <tr>\n",
       "      <th>6</th>\n",
       "      <td>7</td>\n",
       "      <td>beverages</td>\n",
       "    </tr>\n",
       "    <tr>\n",
       "      <th>7</th>\n",
       "      <td>8</td>\n",
       "      <td>pets</td>\n",
       "    </tr>\n",
       "    <tr>\n",
       "      <th>8</th>\n",
       "      <td>9</td>\n",
       "      <td>dry goods pasta</td>\n",
       "    </tr>\n",
       "    <tr>\n",
       "      <th>9</th>\n",
       "      <td>10</td>\n",
       "      <td>bulk</td>\n",
       "    </tr>\n",
       "    <tr>\n",
       "      <th>10</th>\n",
       "      <td>11</td>\n",
       "      <td>personal care</td>\n",
       "    </tr>\n",
       "    <tr>\n",
       "      <th>11</th>\n",
       "      <td>12</td>\n",
       "      <td>meat seafood</td>\n",
       "    </tr>\n",
       "    <tr>\n",
       "      <th>12</th>\n",
       "      <td>13</td>\n",
       "      <td>pantry</td>\n",
       "    </tr>\n",
       "    <tr>\n",
       "      <th>13</th>\n",
       "      <td>14</td>\n",
       "      <td>breakfast</td>\n",
       "    </tr>\n",
       "    <tr>\n",
       "      <th>14</th>\n",
       "      <td>15</td>\n",
       "      <td>canned goods</td>\n",
       "    </tr>\n",
       "    <tr>\n",
       "      <th>15</th>\n",
       "      <td>16</td>\n",
       "      <td>dairy eggs</td>\n",
       "    </tr>\n",
       "    <tr>\n",
       "      <th>16</th>\n",
       "      <td>17</td>\n",
       "      <td>household</td>\n",
       "    </tr>\n",
       "    <tr>\n",
       "      <th>17</th>\n",
       "      <td>18</td>\n",
       "      <td>babies</td>\n",
       "    </tr>\n",
       "    <tr>\n",
       "      <th>18</th>\n",
       "      <td>19</td>\n",
       "      <td>snacks</td>\n",
       "    </tr>\n",
       "    <tr>\n",
       "      <th>19</th>\n",
       "      <td>20</td>\n",
       "      <td>deli</td>\n",
       "    </tr>\n",
       "    <tr>\n",
       "      <th>20</th>\n",
       "      <td>21</td>\n",
       "      <td>missing</td>\n",
       "    </tr>\n",
       "  </tbody>\n",
       "</table>\n",
       "</div>"
      ],
      "text/plain": [
       "    Unnamed: 0       department\n",
       "0            1           frozen\n",
       "1            2            other\n",
       "2            3           bakery\n",
       "3            4          produce\n",
       "4            5          alcohol\n",
       "5            6    international\n",
       "6            7        beverages\n",
       "7            8             pets\n",
       "8            9  dry goods pasta\n",
       "9           10             bulk\n",
       "10          11    personal care\n",
       "11          12     meat seafood\n",
       "12          13           pantry\n",
       "13          14        breakfast\n",
       "14          15     canned goods\n",
       "15          16       dairy eggs\n",
       "16          17        household\n",
       "17          18           babies\n",
       "18          19           snacks\n",
       "19          20             deli\n",
       "20          21          missing"
      ]
     },
     "execution_count": 27,
     "metadata": {},
     "output_type": "execute_result"
    }
   ],
   "source": [
    "df_products_wrangled "
   ]
  },
  {
   "cell_type": "code",
   "execution_count": 65,
   "id": "b1f1784d",
   "metadata": {
    "scrolled": true
   },
   "outputs": [
    {
     "ename": "SyntaxError",
     "evalue": "invalid syntax (1014125889.py, line 6)",
     "output_type": "error",
     "traceback": [
      "\u001b[1;36m  Input \u001b[1;32mIn [65]\u001b[1;36m\u001b[0m\n\u001b[1;33m    elif value in ('alcohol', 'babies', 'bakery', 'beverages', 'breakfast', 'bulk', 'canned goods', 'dairy eggs', 'deli', 'dry goods pasta', 'household', 'international', 'meat seafood', 'missing', 'other', 'pantry', 'personal care', 'pets', 'produce','snacks'):\u001b[0m\n\u001b[1;37m    ^\u001b[0m\n\u001b[1;31mSyntaxError\u001b[0m\u001b[1;31m:\u001b[0m invalid syntax\n"
     ]
    }
   ],
   "source": [
    "result = []\n",
    "\n",
    "for value in orders_products_merged_customers['department']:\n",
    " if value in ('frozen'):\n",
    "    result.append('yes')\n",
    "    elif value in ('alcohol', 'babies', 'bakery', 'beverages', 'breakfast', 'bulk', 'canned goods', 'dairy eggs', 'deli', 'dry goods pasta', 'household', 'international', 'meat seafood', 'missing', 'other', 'pantry', 'personal care', 'pets', 'produce','snacks'):\n",
    "        result.append('no')"
   ]
  },
  {
   "cell_type": "code",
   "execution_count": 66,
   "id": "259afb19",
   "metadata": {},
   "outputs": [],
   "source": [
    "result = []\n",
    "\n",
    "for value in orders_products_merged_customers['department']:\n",
    "  if value in ('frozen'):\n",
    "    result.append('yes')\n",
    "  elif value in ('alcohol', 'babies', 'bakery', 'beverages', 'breakfast', 'bulk', 'canned goods', 'dairy eggs', 'deli', 'dry goods pasta', 'household', 'international', 'meat seafood', 'missing', 'other', 'pantry', 'personal care', 'pets', 'produce','snacks'):\n",
    "    result.append('no')"
   ]
  },
  {
   "cell_type": "code",
   "execution_count": 67,
   "id": "6341f501",
   "metadata": {},
   "outputs": [],
   "source": [
    "orders_products_merged_customers['frozen_food_status'] = result"
   ]
  },
  {
   "cell_type": "code",
   "execution_count": 69,
   "id": "cfc469fe",
   "metadata": {
    "scrolled": true
   },
   "outputs": [
    {
     "data": {
      "text/plain": [
       "no    907\n",
       "Name: frozen_food_status, dtype: int64"
      ]
     },
     "execution_count": 69,
     "metadata": {},
     "output_type": "execute_result"
    }
   ],
   "source": [
    "orders_products_merged_customers['frozen_food_status'].value_counts(dropna = False)"
   ]
  },
  {
   "cell_type": "code",
   "execution_count": 70,
   "id": "150c23bf",
   "metadata": {},
   "outputs": [
    {
     "data": {
      "image/png": "[encoded data removed]",
      "text/plain": [
       "<Figure size 432x288 with 1 Axes>"
      ]
     },
     "metadata": {},
     "output_type": "display_data"
    }
   ],
   "source": [
    "frozen_food_pie = orders_products_merged_customers['frozen_food_status'].value_counts().plot.pie(autopct=('%1.f%%'), colors = ['blue', 'green'])"
   ]
  },
  {
   "cell_type": "code",
   "execution_count": 31,
   "id": "e8f4ed42",
   "metadata": {
    "scrolled": true
   },
   "outputs": [
    {
     "data": {
      "text/plain": [
       "Index(['product_id', 'product_name', 'aisle_id', 'department_id', 'prices',\n",
       "       'order_id', 'user_id', 'order_number', 'orders_day_of_week',\n",
       "       'order_hour_of_day', 'days_since_prior_order', 'add_to_cart_order',\n",
       "       'reordered', '_merge', 'Unnamed: 0', 'first_name', 'last_name',\n",
       "       'gender', 'state', 'age', 'date_joined', 'dependants', 'marital_status',\n",
       "       'income', 'region', 'max_order', 'loyalty_flag', 'big_spender_flag',\n",
       "       'active_customers_flag', 'age_group_flag', 'income_flag',\n",
       "       'dependants_flag', 'meal_prepper_flag', 'department'],\n",
       "      dtype='object')"
      ]
     },
     "execution_count": 31,
     "metadata": {},
     "output_type": "execute_result"
    }
   ],
   "source": [
    "orders_products_merged_customers.columns"
   ]
  },
  {
   "cell_type": "code",
   "execution_count": 29,
   "id": "a5dc8d29",
   "metadata": {},
   "outputs": [],
   "source": [
    "orders_products_merged_customers = orders_products_merged_customers.merge(df_products_wrangled, on = 'Unnamed: 0')"
   ]
  },
  {
   "cell_type": "code",
   "execution_count": 84,
   "id": "926b4bc7",
   "metadata": {
    "scrolled": true
   },
   "outputs": [
    {
     "data": {
      "text/html": [
       "<div>\n",
       "<style scoped>\n",
       "    .dataframe tbody tr th:only-of-type {\n",
       "        vertical-align: middle;\n",
       "    }\n",
       "\n",
       "    .dataframe tbody tr th {\n",
       "        vertical-align: top;\n",
       "    }\n",
       "\n",
       "    .dataframe thead th {\n",
       "        text-align: right;\n",
       "    }\n",
       "</style>\n",
       "<table border=\"1\" class=\"dataframe\">\n",
       "  <thead>\n",
       "    <tr style=\"text-align: right;\">\n",
       "      <th></th>\n",
       "      <th>product_id</th>\n",
       "      <th>product_name</th>\n",
       "      <th>aisle_id</th>\n",
       "      <th>department_id</th>\n",
       "      <th>prices</th>\n",
       "      <th>order_id</th>\n",
       "      <th>user_id</th>\n",
       "      <th>order_number</th>\n",
       "      <th>orders_day_of_week</th>\n",
       "      <th>order_hour_of_day</th>\n",
       "      <th>...</th>\n",
       "      <th>big_spender_flag</th>\n",
       "      <th>active_customers_flag</th>\n",
       "      <th>age_group_flag</th>\n",
       "      <th>income_flag</th>\n",
       "      <th>dependants_flag</th>\n",
       "      <th>meal_prepper_flag</th>\n",
       "      <th>department</th>\n",
       "      <th>frequency_flag</th>\n",
       "      <th>frozen_food_status</th>\n",
       "      <th>Product_level_flag</th>\n",
       "    </tr>\n",
       "  </thead>\n",
       "  <tbody>\n",
       "    <tr>\n",
       "      <th>0</th>\n",
       "      <td>44</td>\n",
       "      <td>203487</td>\n",
       "      <td>115</td>\n",
       "      <td>7</td>\n",
       "      <td>203487</td>\n",
       "      <td>2460383</td>\n",
       "      <td>516</td>\n",
       "      <td>69</td>\n",
       "      <td>0</td>\n",
       "      <td>11</td>\n",
       "      <td>...</td>\n",
       "      <td>High spender</td>\n",
       "      <td>high-activity customers</td>\n",
       "      <td>Senior</td>\n",
       "      <td>High</td>\n",
       "      <td>no dependents</td>\n",
       "      <td>Meal</td>\n",
       "      <td>breakfast</td>\n",
       "      <td>Non-frequent customer</td>\n",
       "      <td>no</td>\n",
       "      <td>Top_level</td>\n",
       "    </tr>\n",
       "    <tr>\n",
       "      <th>1</th>\n",
       "      <td>141</td>\n",
       "      <td>203487</td>\n",
       "      <td>107</td>\n",
       "      <td>19</td>\n",
       "      <td>203487</td>\n",
       "      <td>3286665</td>\n",
       "      <td>516</td>\n",
       "      <td>12</td>\n",
       "      <td>3</td>\n",
       "      <td>14</td>\n",
       "      <td>...</td>\n",
       "      <td>High spender</td>\n",
       "      <td>high-activity customers</td>\n",
       "      <td>Senior</td>\n",
       "      <td>High</td>\n",
       "      <td>no dependents</td>\n",
       "      <td>Not</td>\n",
       "      <td>breakfast</td>\n",
       "      <td>Non-frequent customer</td>\n",
       "      <td>no</td>\n",
       "      <td>Top_level</td>\n",
       "    </tr>\n",
       "    <tr>\n",
       "      <th>2</th>\n",
       "      <td>141</td>\n",
       "      <td>203487</td>\n",
       "      <td>107</td>\n",
       "      <td>19</td>\n",
       "      <td>203487</td>\n",
       "      <td>812717</td>\n",
       "      <td>516</td>\n",
       "      <td>19</td>\n",
       "      <td>4</td>\n",
       "      <td>16</td>\n",
       "      <td>...</td>\n",
       "      <td>High spender</td>\n",
       "      <td>high-activity customers</td>\n",
       "      <td>Senior</td>\n",
       "      <td>High</td>\n",
       "      <td>no dependents</td>\n",
       "      <td>Not</td>\n",
       "      <td>breakfast</td>\n",
       "      <td>Non-frequent customer</td>\n",
       "      <td>no</td>\n",
       "      <td>Top_level</td>\n",
       "    </tr>\n",
       "    <tr>\n",
       "      <th>3</th>\n",
       "      <td>141</td>\n",
       "      <td>203487</td>\n",
       "      <td>107</td>\n",
       "      <td>19</td>\n",
       "      <td>203487</td>\n",
       "      <td>1873796</td>\n",
       "      <td>516</td>\n",
       "      <td>22</td>\n",
       "      <td>4</td>\n",
       "      <td>14</td>\n",
       "      <td>...</td>\n",
       "      <td>High spender</td>\n",
       "      <td>high-activity customers</td>\n",
       "      <td>Senior</td>\n",
       "      <td>High</td>\n",
       "      <td>no dependents</td>\n",
       "      <td>Not</td>\n",
       "      <td>breakfast</td>\n",
       "      <td>Non-frequent customer</td>\n",
       "      <td>no</td>\n",
       "      <td>Top_level</td>\n",
       "    </tr>\n",
       "    <tr>\n",
       "      <th>4</th>\n",
       "      <td>141</td>\n",
       "      <td>203487</td>\n",
       "      <td>107</td>\n",
       "      <td>19</td>\n",
       "      <td>203487</td>\n",
       "      <td>491718</td>\n",
       "      <td>516</td>\n",
       "      <td>23</td>\n",
       "      <td>0</td>\n",
       "      <td>9</td>\n",
       "      <td>...</td>\n",
       "      <td>High spender</td>\n",
       "      <td>high-activity customers</td>\n",
       "      <td>Senior</td>\n",
       "      <td>High</td>\n",
       "      <td>no dependents</td>\n",
       "      <td>Meal</td>\n",
       "      <td>breakfast</td>\n",
       "      <td>Non-frequent customer</td>\n",
       "      <td>no</td>\n",
       "      <td>Top_level</td>\n",
       "    </tr>\n",
       "    <tr>\n",
       "      <th>...</th>\n",
       "      <td>...</td>\n",
       "      <td>...</td>\n",
       "      <td>...</td>\n",
       "      <td>...</td>\n",
       "      <td>...</td>\n",
       "      <td>...</td>\n",
       "      <td>...</td>\n",
       "      <td>...</td>\n",
       "      <td>...</td>\n",
       "      <td>...</td>\n",
       "      <td>...</td>\n",
       "      <td>...</td>\n",
       "      <td>...</td>\n",
       "      <td>...</td>\n",
       "      <td>...</td>\n",
       "      <td>...</td>\n",
       "      <td>...</td>\n",
       "      <td>...</td>\n",
       "      <td>...</td>\n",
       "      <td>...</td>\n",
       "      <td>...</td>\n",
       "    </tr>\n",
       "    <tr>\n",
       "      <th>902</th>\n",
       "      <td>130</td>\n",
       "      <td>206076</td>\n",
       "      <td>37</td>\n",
       "      <td>1</td>\n",
       "      <td>206076</td>\n",
       "      <td>1193140</td>\n",
       "      <td>168851</td>\n",
       "      <td>2</td>\n",
       "      <td>3</td>\n",
       "      <td>14</td>\n",
       "      <td>...</td>\n",
       "      <td>High spender</td>\n",
       "      <td>low-activity customers</td>\n",
       "      <td>Adult</td>\n",
       "      <td>Mid</td>\n",
       "      <td>1 to 2 dependents</td>\n",
       "      <td>Not</td>\n",
       "      <td>beverages</td>\n",
       "      <td>Non-frequent customer</td>\n",
       "      <td>no</td>\n",
       "      <td>Top_level</td>\n",
       "    </tr>\n",
       "    <tr>\n",
       "      <th>903</th>\n",
       "      <td>130</td>\n",
       "      <td>206076</td>\n",
       "      <td>37</td>\n",
       "      <td>1</td>\n",
       "      <td>206076</td>\n",
       "      <td>1870356</td>\n",
       "      <td>168851</td>\n",
       "      <td>3</td>\n",
       "      <td>1</td>\n",
       "      <td>8</td>\n",
       "      <td>...</td>\n",
       "      <td>High spender</td>\n",
       "      <td>low-activity customers</td>\n",
       "      <td>Adult</td>\n",
       "      <td>Mid</td>\n",
       "      <td>1 to 2 dependents</td>\n",
       "      <td>Meal</td>\n",
       "      <td>beverages</td>\n",
       "      <td>Non-frequent customer</td>\n",
       "      <td>no</td>\n",
       "      <td>Top_level</td>\n",
       "    </tr>\n",
       "    <tr>\n",
       "      <th>904</th>\n",
       "      <td>196</td>\n",
       "      <td>206076</td>\n",
       "      <td>77</td>\n",
       "      <td>7</td>\n",
       "      <td>206076</td>\n",
       "      <td>1903574</td>\n",
       "      <td>168851</td>\n",
       "      <td>1</td>\n",
       "      <td>2</td>\n",
       "      <td>8</td>\n",
       "      <td>...</td>\n",
       "      <td>High spender</td>\n",
       "      <td>low-activity customers</td>\n",
       "      <td>Adult</td>\n",
       "      <td>Mid</td>\n",
       "      <td>1 to 2 dependents</td>\n",
       "      <td>Not</td>\n",
       "      <td>beverages</td>\n",
       "      <td>Non-frequent customer</td>\n",
       "      <td>no</td>\n",
       "      <td>Top_level</td>\n",
       "    </tr>\n",
       "    <tr>\n",
       "      <th>905</th>\n",
       "      <td>196</td>\n",
       "      <td>206076</td>\n",
       "      <td>77</td>\n",
       "      <td>7</td>\n",
       "      <td>206076</td>\n",
       "      <td>1193140</td>\n",
       "      <td>168851</td>\n",
       "      <td>2</td>\n",
       "      <td>3</td>\n",
       "      <td>14</td>\n",
       "      <td>...</td>\n",
       "      <td>High spender</td>\n",
       "      <td>low-activity customers</td>\n",
       "      <td>Adult</td>\n",
       "      <td>Mid</td>\n",
       "      <td>1 to 2 dependents</td>\n",
       "      <td>Not</td>\n",
       "      <td>beverages</td>\n",
       "      <td>Non-frequent customer</td>\n",
       "      <td>no</td>\n",
       "      <td>Top_level</td>\n",
       "    </tr>\n",
       "    <tr>\n",
       "      <th>906</th>\n",
       "      <td>6184</td>\n",
       "      <td>206076</td>\n",
       "      <td>32</td>\n",
       "      <td>4</td>\n",
       "      <td>206076</td>\n",
       "      <td>1870356</td>\n",
       "      <td>168851</td>\n",
       "      <td>3</td>\n",
       "      <td>1</td>\n",
       "      <td>8</td>\n",
       "      <td>...</td>\n",
       "      <td>High spender</td>\n",
       "      <td>low-activity customers</td>\n",
       "      <td>Adult</td>\n",
       "      <td>Mid</td>\n",
       "      <td>1 to 2 dependents</td>\n",
       "      <td>Meal</td>\n",
       "      <td>beverages</td>\n",
       "      <td>Non-frequent customer</td>\n",
       "      <td>no</td>\n",
       "      <td>Top_level</td>\n",
       "    </tr>\n",
       "  </tbody>\n",
       "</table>\n",
       "<p>907 rows × 37 columns</p>\n",
       "</div>"
      ],
      "text/plain": [
       "     product_id  product_name  aisle_id  department_id  prices  order_id  \\\n",
       "0            44        203487       115              7  203487   2460383   \n",
       "1           141        203487       107             19  203487   3286665   \n",
       "2           141        203487       107             19  203487    812717   \n",
       "3           141        203487       107             19  203487   1873796   \n",
       "4           141        203487       107             19  203487    491718   \n",
       "..          ...           ...       ...            ...     ...       ...   \n",
       "902         130        206076        37              1  206076   1193140   \n",
       "903         130        206076        37              1  206076   1870356   \n",
       "904         196        206076        77              7  206076   1903574   \n",
       "905         196        206076        77              7  206076   1193140   \n",
       "906        6184        206076        32              4  206076   1870356   \n",
       "\n",
       "     user_id  order_number  orders_day_of_week  order_hour_of_day  ...  \\\n",
       "0        516            69                   0                 11  ...   \n",
       "1        516            12                   3                 14  ...   \n",
       "2        516            19                   4                 16  ...   \n",
       "3        516            22                   4                 14  ...   \n",
       "4        516            23                   0                  9  ...   \n",
       "..       ...           ...                 ...                ...  ...   \n",
       "902   168851             2                   3                 14  ...   \n",
       "903   168851             3                   1                  8  ...   \n",
       "904   168851             1                   2                  8  ...   \n",
       "905   168851             2                   3                 14  ...   \n",
       "906   168851             3                   1                  8  ...   \n",
       "\n",
       "     big_spender_flag    active_customers_flag  age_group_flag income_flag  \\\n",
       "0        High spender  high-activity customers          Senior        High   \n",
       "1        High spender  high-activity customers          Senior        High   \n",
       "2        High spender  high-activity customers          Senior        High   \n",
       "3        High spender  high-activity customers          Senior        High   \n",
       "4        High spender  high-activity customers          Senior        High   \n",
       "..                ...                      ...             ...         ...   \n",
       "902      High spender   low-activity customers           Adult         Mid   \n",
       "903      High spender   low-activity customers           Adult         Mid   \n",
       "904      High spender   low-activity customers           Adult         Mid   \n",
       "905      High spender   low-activity customers           Adult         Mid   \n",
       "906      High spender   low-activity customers           Adult         Mid   \n",
       "\n",
       "       dependants_flag meal_prepper_flag department         frequency_flag  \\\n",
       "0        no dependents              Meal  breakfast  Non-frequent customer   \n",
       "1        no dependents               Not  breakfast  Non-frequent customer   \n",
       "2        no dependents               Not  breakfast  Non-frequent customer   \n",
       "3        no dependents               Not  breakfast  Non-frequent customer   \n",
       "4        no dependents              Meal  breakfast  Non-frequent customer   \n",
       "..                 ...               ...        ...                    ...   \n",
       "902  1 to 2 dependents               Not  beverages  Non-frequent customer   \n",
       "903  1 to 2 dependents              Meal  beverages  Non-frequent customer   \n",
       "904  1 to 2 dependents               Not  beverages  Non-frequent customer   \n",
       "905  1 to 2 dependents               Not  beverages  Non-frequent customer   \n",
       "906  1 to 2 dependents              Meal  beverages  Non-frequent customer   \n",
       "\n",
       "    frozen_food_status  Product_level_flag  \n",
       "0                   no           Top_level  \n",
       "1                   no           Top_level  \n",
       "2                   no           Top_level  \n",
       "3                   no           Top_level  \n",
       "4                   no           Top_level  \n",
       "..                 ...                 ...  \n",
       "902                 no           Top_level  \n",
       "903                 no           Top_level  \n",
       "904                 no           Top_level  \n",
       "905                 no           Top_level  \n",
       "906                 no           Top_level  \n",
       "\n",
       "[907 rows x 37 columns]"
      ]
     },
     "execution_count": 84,
     "metadata": {},
     "output_type": "execute_result"
    }
   ],
   "source": [
    "orders_products_merged_customers"
   ]
  },
  {
   "cell_type": "code",
   "execution_count": 85,
   "id": "50d462df",
   "metadata": {},
   "outputs": [
    {
     "data": {
      "text/plain": [
       "breakfast    900\n",
       "beverages      7\n",
       "Name: department, dtype: int64"
      ]
     },
     "execution_count": 85,
     "metadata": {},
     "output_type": "execute_result"
    }
   ],
   "source": [
    "orders_products_merged_customers['department'].value_counts()"
   ]
  },
  {
   "cell_type": "code",
   "execution_count": 86,
   "id": "2ab6cf6a",
   "metadata": {
    "scrolled": true
   },
   "outputs": [
    {
     "data": {
      "text/plain": [
       "203487    900\n",
       "206076      7\n",
       "Name: product_name, dtype: int64"
      ]
     },
     "execution_count": 86,
     "metadata": {},
     "output_type": "execute_result"
    }
   ],
   "source": [
    "orders_products_merged_customers['product_name'].value_counts()"
   ]
  },
  {
   "cell_type": "code",
   "execution_count": 87,
   "id": "06f4860f",
   "metadata": {},
   "outputs": [],
   "source": [
    "orders_products_merged_customers['product_name'] = orders_products_merged_customers.groupby(['max_order'])['prices'].transform(np.max)"
   ]
  },
  {
   "cell_type": "code",
   "execution_count": 88,
   "id": "777f1046",
   "metadata": {},
   "outputs": [],
   "source": [
    "orders_products_merged_customers.loc[orders_products_merged_customers['product_name'] > 50000, 'Product_level_flag'] = 'Top_level'"
   ]
  },
  {
   "cell_type": "code",
   "execution_count": 89,
   "id": "97831ceb",
   "metadata": {},
   "outputs": [],
   "source": [
    "orders_products_merged_customers.loc[(orders_products_merged_customers['product_name'] <= 50000) & (orders_products_merged_customers['product_name'] > 10000), 'Product_level_flag'] = 'Mid_level'"
   ]
  },
  {
   "cell_type": "code",
   "execution_count": 90,
   "id": "277f1933",
   "metadata": {},
   "outputs": [],
   "source": [
    "orders_products_merged_customers.loc[(orders_products_merged_customers['product_name'] <= 10000) & (orders_products_merged_customers['product_name'] > 1), 'Product_level_flag'] = 'Low_level'"
   ]
  },
  {
   "cell_type": "code",
   "execution_count": 91,
   "id": "68c14a19",
   "metadata": {},
   "outputs": [
    {
     "data": {
      "text/html": [
       "<div>\n",
       "<style scoped>\n",
       "    .dataframe tbody tr th:only-of-type {\n",
       "        vertical-align: middle;\n",
       "    }\n",
       "\n",
       "    .dataframe tbody tr th {\n",
       "        vertical-align: top;\n",
       "    }\n",
       "\n",
       "    .dataframe thead th {\n",
       "        text-align: right;\n",
       "    }\n",
       "</style>\n",
       "<table border=\"1\" class=\"dataframe\">\n",
       "  <thead>\n",
       "    <tr style=\"text-align: right;\">\n",
       "      <th></th>\n",
       "      <th>prices</th>\n",
       "      <th>Product_level_flag</th>\n",
       "      <th>max_order</th>\n",
       "    </tr>\n",
       "  </thead>\n",
       "  <tbody>\n",
       "    <tr>\n",
       "      <th>0</th>\n",
       "      <td>203487</td>\n",
       "      <td>Top_level</td>\n",
       "      <td>93</td>\n",
       "    </tr>\n",
       "    <tr>\n",
       "      <th>1</th>\n",
       "      <td>203487</td>\n",
       "      <td>Top_level</td>\n",
       "      <td>93</td>\n",
       "    </tr>\n",
       "    <tr>\n",
       "      <th>2</th>\n",
       "      <td>203487</td>\n",
       "      <td>Top_level</td>\n",
       "      <td>93</td>\n",
       "    </tr>\n",
       "    <tr>\n",
       "      <th>3</th>\n",
       "      <td>203487</td>\n",
       "      <td>Top_level</td>\n",
       "      <td>93</td>\n",
       "    </tr>\n",
       "    <tr>\n",
       "      <th>4</th>\n",
       "      <td>203487</td>\n",
       "      <td>Top_level</td>\n",
       "      <td>93</td>\n",
       "    </tr>\n",
       "    <tr>\n",
       "      <th>5</th>\n",
       "      <td>203487</td>\n",
       "      <td>Top_level</td>\n",
       "      <td>93</td>\n",
       "    </tr>\n",
       "    <tr>\n",
       "      <th>6</th>\n",
       "      <td>203487</td>\n",
       "      <td>Top_level</td>\n",
       "      <td>93</td>\n",
       "    </tr>\n",
       "    <tr>\n",
       "      <th>7</th>\n",
       "      <td>203487</td>\n",
       "      <td>Top_level</td>\n",
       "      <td>93</td>\n",
       "    </tr>\n",
       "    <tr>\n",
       "      <th>8</th>\n",
       "      <td>203487</td>\n",
       "      <td>Top_level</td>\n",
       "      <td>93</td>\n",
       "    </tr>\n",
       "    <tr>\n",
       "      <th>9</th>\n",
       "      <td>203487</td>\n",
       "      <td>Top_level</td>\n",
       "      <td>93</td>\n",
       "    </tr>\n",
       "  </tbody>\n",
       "</table>\n",
       "</div>"
      ],
      "text/plain": [
       "   prices Product_level_flag  max_order\n",
       "0  203487          Top_level         93\n",
       "1  203487          Top_level         93\n",
       "2  203487          Top_level         93\n",
       "3  203487          Top_level         93\n",
       "4  203487          Top_level         93\n",
       "5  203487          Top_level         93\n",
       "6  203487          Top_level         93\n",
       "7  203487          Top_level         93\n",
       "8  203487          Top_level         93\n",
       "9  203487          Top_level         93"
      ]
     },
     "execution_count": 91,
     "metadata": {},
     "output_type": "execute_result"
    }
   ],
   "source": [
    "orders_products_merged_customers[['prices', 'Product_level_flag', 'max_order']].head(10)"
   ]
  },
  {
   "cell_type": "code",
   "execution_count": 92,
   "id": "015adbde",
   "metadata": {},
   "outputs": [
    {
     "data": {
      "text/plain": [
       "Top_level    907\n",
       "Name: Product_level_flag, dtype: int64"
      ]
     },
     "execution_count": 92,
     "metadata": {},
     "output_type": "execute_result"
    }
   ],
   "source": [
    "orders_products_merged_customers['Product_level_flag'].value_counts()"
   ]
  },
  {
   "cell_type": "code",
   "execution_count": 94,
   "id": "f1ffdbb7",
   "metadata": {},
   "outputs": [
    {
     "data": {
      "image/png": "[encoded data removed]",
      "text/plain": [
       "<Figure size 432x288 with 1 Axes>"
      ]
     },
     "metadata": {
      "needs_background": "light"
     },
     "output_type": "display_data"
    }
   ],
   "source": [
    "products_bar = orders_products_merged_customers['department'].value_counts().sort_index().plot.bar()"
   ]
  },
  {
   "cell_type": "code",
   "execution_count": 77,
   "id": "4545f363",
   "metadata": {},
   "outputs": [],
   "source": [
    "orders_products_merged_customers['days_since_prior_order'] = orders_products_merged_customers.groupby(['max_order'])['user_id'].transform(np.max)"
   ]
  },
  {
   "cell_type": "code",
   "execution_count": 78,
   "id": "bf3b4b36",
   "metadata": {},
   "outputs": [],
   "source": [
    "orders_products_merged_customers.loc[orders_products_merged_customers['days_since_prior_order'] > 20, 'frequency_flag'] = 'Non-frequent customer'"
   ]
  },
  {
   "cell_type": "code",
   "execution_count": 79,
   "id": "700fbebe",
   "metadata": {},
   "outputs": [],
   "source": [
    "orders_products_merged_customers.loc[(orders_products_merged_customers['days_since_prior_order'] <= 20) & (orders_products_merged_customers['days_since_prior_order'] > 10), 'frequency_flag'] = 'Regular customer'"
   ]
  },
  {
   "cell_type": "code",
   "execution_count": 80,
   "id": "6b957db5",
   "metadata": {},
   "outputs": [],
   "source": [
    "orders_products_merged_customers.loc[(orders_products_merged_customers['days_since_prior_order'] <= 10) & (orders_products_merged_customers['days_since_prior_order'] > 10), 'frequency_flag'] = 'Frequent customer'"
   ]
  },
  {
   "cell_type": "code",
   "execution_count": 81,
   "id": "52d4f622",
   "metadata": {},
   "outputs": [
    {
     "data": {
      "text/html": [
       "<div>\n",
       "<style scoped>\n",
       "    .dataframe tbody tr th:only-of-type {\n",
       "        vertical-align: middle;\n",
       "    }\n",
       "\n",
       "    .dataframe tbody tr th {\n",
       "        vertical-align: top;\n",
       "    }\n",
       "\n",
       "    .dataframe thead th {\n",
       "        text-align: right;\n",
       "    }\n",
       "</style>\n",
       "<table border=\"1\" class=\"dataframe\">\n",
       "  <thead>\n",
       "    <tr style=\"text-align: right;\">\n",
       "      <th></th>\n",
       "      <th>user_id</th>\n",
       "      <th>frequency_flag</th>\n",
       "      <th>max_order</th>\n",
       "    </tr>\n",
       "  </thead>\n",
       "  <tbody>\n",
       "    <tr>\n",
       "      <th>0</th>\n",
       "      <td>516</td>\n",
       "      <td>Non-frequent customer</td>\n",
       "      <td>93</td>\n",
       "    </tr>\n",
       "    <tr>\n",
       "      <th>1</th>\n",
       "      <td>516</td>\n",
       "      <td>Non-frequent customer</td>\n",
       "      <td>93</td>\n",
       "    </tr>\n",
       "    <tr>\n",
       "      <th>2</th>\n",
       "      <td>516</td>\n",
       "      <td>Non-frequent customer</td>\n",
       "      <td>93</td>\n",
       "    </tr>\n",
       "    <tr>\n",
       "      <th>3</th>\n",
       "      <td>516</td>\n",
       "      <td>Non-frequent customer</td>\n",
       "      <td>93</td>\n",
       "    </tr>\n",
       "    <tr>\n",
       "      <th>4</th>\n",
       "      <td>516</td>\n",
       "      <td>Non-frequent customer</td>\n",
       "      <td>93</td>\n",
       "    </tr>\n",
       "    <tr>\n",
       "      <th>5</th>\n",
       "      <td>516</td>\n",
       "      <td>Non-frequent customer</td>\n",
       "      <td>93</td>\n",
       "    </tr>\n",
       "    <tr>\n",
       "      <th>6</th>\n",
       "      <td>516</td>\n",
       "      <td>Non-frequent customer</td>\n",
       "      <td>93</td>\n",
       "    </tr>\n",
       "    <tr>\n",
       "      <th>7</th>\n",
       "      <td>516</td>\n",
       "      <td>Non-frequent customer</td>\n",
       "      <td>93</td>\n",
       "    </tr>\n",
       "    <tr>\n",
       "      <th>8</th>\n",
       "      <td>516</td>\n",
       "      <td>Non-frequent customer</td>\n",
       "      <td>93</td>\n",
       "    </tr>\n",
       "    <tr>\n",
       "      <th>9</th>\n",
       "      <td>516</td>\n",
       "      <td>Non-frequent customer</td>\n",
       "      <td>93</td>\n",
       "    </tr>\n",
       "  </tbody>\n",
       "</table>\n",
       "</div>"
      ],
      "text/plain": [
       "   user_id         frequency_flag  max_order\n",
       "0      516  Non-frequent customer         93\n",
       "1      516  Non-frequent customer         93\n",
       "2      516  Non-frequent customer         93\n",
       "3      516  Non-frequent customer         93\n",
       "4      516  Non-frequent customer         93\n",
       "5      516  Non-frequent customer         93\n",
       "6      516  Non-frequent customer         93\n",
       "7      516  Non-frequent customer         93\n",
       "8      516  Non-frequent customer         93\n",
       "9      516  Non-frequent customer         93"
      ]
     },
     "execution_count": 81,
     "metadata": {},
     "output_type": "execute_result"
    }
   ],
   "source": [
    "orders_products_merged_customers[['user_id', 'frequency_flag', 'max_order']].head(10)"
   ]
  },
  {
   "cell_type": "code",
   "execution_count": 82,
   "id": "8d3241fa",
   "metadata": {
    "scrolled": false
   },
   "outputs": [
    {
     "data": {
      "text/plain": [
       "Non-frequent customer    907\n",
       "Name: frequency_flag, dtype: int64"
      ]
     },
     "execution_count": 82,
     "metadata": {},
     "output_type": "execute_result"
    }
   ],
   "source": [
    "orders_products_merged_customers['frequency_flag'].value_counts()"
   ]
  },
  {
   "cell_type": "code",
   "execution_count": 40,
   "id": "79d71a08",
   "metadata": {},
   "outputs": [],
   "source": [
    "path = r'C:\\Users\\alexg\\InstacartBasketAnalysis'"
   ]
  },
  {
   "cell_type": "code",
   "execution_count": 41,
   "id": "b72a264d",
   "metadata": {},
   "outputs": [],
   "source": [
    "orders_products_merged_customers.to_pickle(os.path.join(path, '02Data','PreparedData', 'ords_prods_merge_2.pkl'))"
   ]
  },
  {
   "cell_type": "code",
   "execution_count": 42,
   "id": "157da796",
   "metadata": {},
   "outputs": [],
   "source": [
    "orders_products_merged_customers.to_csv(os.path.join(path, '02Data','PreparedData', 'ords_prods_merge_2.csv'))"
   ]
  },
  {
   "cell_type": "markdown",
   "id": "0b536a64",
   "metadata": {},
   "source": [
    "02. Consider any security implications that might exist for this new data. You’ll need to address any PII data in the data before continuing your analysis."
   ]
  },
  {
   "cell_type": "markdown",
   "id": "4f783e1e",
   "metadata": {},
   "source": [
    "The information provided does not violate the personal identifiable information or PII. Clients’ personal information is not provided in data set. "
   ]
  },
  {
   "cell_type": "markdown",
   "id": "e090ad12",
   "metadata": {},
   "source": [
    "03. The Instacart officers are interested in comparing customer behavior in different geographic areas. Create a regional segmentation of the data. You’ll need to create a “Region” column based on the “State” column from your customers data set.\n",
    "Use the region information in this Wikipedia article to create your column (you only need to create regions, not divisions).\n",
    "Determine whether there’s a difference in spending habits between the different U.S. regions. (Hint: You can do this by crossing the variable you just created with the spending flag.)"
   ]
  },
  {
   "cell_type": "code",
   "execution_count": 4,
   "id": "366bb5a2",
   "metadata": {},
   "outputs": [],
   "source": [
    "northeast = ['Maine', 'Vermont', 'New Hampshire', 'Massaschusetts', 'Rhonde Island', 'Connecticut', 'New York', 'Pennsylvania', 'New Jersey']"
   ]
  },
  {
   "cell_type": "code",
   "execution_count": 5,
   "id": "757c43b3",
   "metadata": {},
   "outputs": [],
   "source": [
    "midwest = ['Wisconsin', 'Michigan', 'Illinois', 'Indiana', 'Ohio', 'North Dakota', 'South Dakota', 'Nebraska', 'Kansas', 'Minnesota', 'Iowa', 'Missouri']"
   ]
  },
  {
   "cell_type": "code",
   "execution_count": 6,
   "id": "9802635c",
   "metadata": {},
   "outputs": [],
   "source": [
    "south = ['Delaware', 'Maryland', 'District of Columbia', 'Virginia', 'West Virginia', 'North Carolina', 'South Carolina', 'Georgia', 'Florida', 'Kentucky', 'Tennessee', 'Mississippi', 'Alabama', 'Oklahoma', 'Texas', 'Arkansas', 'Louisiana']"
   ]
  },
  {
   "cell_type": "code",
   "execution_count": 7,
   "id": "ded2d492",
   "metadata": {},
   "outputs": [],
   "source": [
    "West = ['Idaho', 'Montana', 'Wyoming', 'Nevada', 'Utah', 'Colorado', 'Arizona', 'New Mexico', 'Alaska', 'Washington', 'Oregon', 'California', 'Hawaii']"
   ]
  },
  {
   "cell_type": "code",
   "execution_count": 8,
   "id": "1f17d12c",
   "metadata": {},
   "outputs": [],
   "source": [
    "orders_products_merged_customers.loc[orders_products_merged_customers['state'].isin(northeast), 'region'] = 'northeast'"
   ]
  },
  {
   "cell_type": "code",
   "execution_count": 9,
   "id": "4ff4baac",
   "metadata": {},
   "outputs": [],
   "source": [
    "orders_products_merged_customers.loc[orders_products_merged_customers['state'].isin(midwest), 'region'] = 'midwest'"
   ]
  },
  {
   "cell_type": "code",
   "execution_count": 10,
   "id": "9e7c4daa",
   "metadata": {},
   "outputs": [],
   "source": [
    "orders_products_merged_customers.loc[orders_products_merged_customers['state'].isin(south), 'region'] = 'south'"
   ]
  },
  {
   "cell_type": "code",
   "execution_count": 11,
   "id": "21734123",
   "metadata": {},
   "outputs": [],
   "source": [
    "orders_products_merged_customers.loc[orders_products_merged_customers['state'].isin(West), 'region'] = 'West'"
   ]
  },
  {
   "cell_type": "code",
   "execution_count": 12,
   "id": "6ad2d220",
   "metadata": {},
   "outputs": [
    {
     "data": {
      "text/plain": [
       "south        3318492\n",
       "West         2577283\n",
       "midwest      2308535\n",
       "northeast    1370265\n",
       "Name: region, dtype: int64"
      ]
     },
     "execution_count": 12,
     "metadata": {},
     "output_type": "execute_result"
    }
   ],
   "source": [
    "orders_products_merged_customers['region'].value_counts()"
   ]
  },
  {
   "cell_type": "code",
   "execution_count": 13,
   "id": "a1f7017b",
   "metadata": {},
   "outputs": [],
   "source": [
    "orders_products_merged_customers['max_order'] = orders_products_merged_customers.groupby(['user_id'])['order_number'].transform(np.max)"
   ]
  },
  {
   "cell_type": "code",
   "execution_count": 14,
   "id": "09b61b6d",
   "metadata": {},
   "outputs": [],
   "source": [
    "orders_products_merged_customers.loc[orders_products_merged_customers['max_order'] > 40, 'loyalty_flag'] = 'Loyal customer'"
   ]
  },
  {
   "cell_type": "code",
   "execution_count": 15,
   "id": "c00dab0e",
   "metadata": {},
   "outputs": [],
   "source": [
    "orders_products_merged_customers.loc[(orders_products_merged_customers['max_order'] <= 40) & (orders_products_merged_customers['max_order'] > 10), 'loyalty_flag'] = 'Regular customer'"
   ]
  },
  {
   "cell_type": "code",
   "execution_count": 16,
   "id": "d7890ae5",
   "metadata": {},
   "outputs": [],
   "source": [
    "orders_products_merged_customers.loc[orders_products_merged_customers['max_order'] <= 10, 'loyalty_flag'] = 'New customer'"
   ]
  },
  {
   "cell_type": "code",
   "execution_count": 17,
   "id": "f86221fd",
   "metadata": {},
   "outputs": [
    {
     "data": {
      "text/plain": [
       "Loyal customer      4596832\n",
       "Regular customer    4561602\n",
       "New customer         841566\n",
       "Name: loyalty_flag, dtype: int64"
      ]
     },
     "execution_count": 17,
     "metadata": {},
     "output_type": "execute_result"
    }
   ],
   "source": [
    "orders_products_merged_customers['loyalty_flag'].value_counts()"
   ]
  },
  {
   "cell_type": "code",
   "execution_count": 25,
   "id": "7cb989e8",
   "metadata": {},
   "outputs": [],
   "source": [
    "orders_products_merged_customers = orders_products_merged_customers.astype({'prices':'int'})"
   ]
  },
  {
   "cell_type": "code",
   "execution_count": 26,
   "id": "7be545fe",
   "metadata": {},
   "outputs": [],
   "source": [
    "orders_products_merged_customers = orders_products_merged_customers.astype({'user_id':'int'})"
   ]
  },
  {
   "cell_type": "code",
   "execution_count": 27,
   "id": "3d7818de",
   "metadata": {},
   "outputs": [
    {
     "data": {
      "text/plain": [
       "dtype('int32')"
      ]
     },
     "execution_count": 27,
     "metadata": {},
     "output_type": "execute_result"
    }
   ],
   "source": [
    "orders_products_merged_customers['prices'].dtype"
   ]
  },
  {
   "cell_type": "code",
   "execution_count": 28,
   "id": "b7efe46c",
   "metadata": {
    "scrolled": true
   },
   "outputs": [
    {
     "data": {
      "text/plain": [
       "dtype('int32')"
      ]
     },
     "execution_count": 28,
     "metadata": {},
     "output_type": "execute_result"
    }
   ],
   "source": [
    "orders_products_merged_customers['user_id'].dtype"
   ]
  },
  {
   "cell_type": "code",
   "execution_count": 54,
   "id": "510063a8",
   "metadata": {},
   "outputs": [
    {
     "data": {
      "text/html": [
       "<div>\n",
       "<style scoped>\n",
       "    .dataframe tbody tr th:only-of-type {\n",
       "        vertical-align: middle;\n",
       "    }\n",
       "\n",
       "    .dataframe tbody tr th {\n",
       "        vertical-align: top;\n",
       "    }\n",
       "\n",
       "    .dataframe thead tr th {\n",
       "        text-align: left;\n",
       "    }\n",
       "\n",
       "    .dataframe thead tr:last-of-type th {\n",
       "        text-align: right;\n",
       "    }\n",
       "</style>\n",
       "<table border=\"1\" class=\"dataframe\">\n",
       "  <thead>\n",
       "    <tr>\n",
       "      <th></th>\n",
       "      <th colspan=\"3\" halign=\"left\">prices</th>\n",
       "    </tr>\n",
       "    <tr>\n",
       "      <th></th>\n",
       "      <th>mean</th>\n",
       "      <th>min</th>\n",
       "      <th>max</th>\n",
       "    </tr>\n",
       "    <tr>\n",
       "      <th>department_id</th>\n",
       "      <th></th>\n",
       "      <th></th>\n",
       "      <th></th>\n",
       "    </tr>\n",
       "  </thead>\n",
       "  <tbody>\n",
       "    <tr>\n",
       "      <th>1</th>\n",
       "      <td>205159.781765</td>\n",
       "      <td>192754</td>\n",
       "      <td>206208</td>\n",
       "    </tr>\n",
       "    <tr>\n",
       "      <th>2</th>\n",
       "      <td>205134.531049</td>\n",
       "      <td>192754</td>\n",
       "      <td>206208</td>\n",
       "    </tr>\n",
       "    <tr>\n",
       "      <th>3</th>\n",
       "      <td>205064.055142</td>\n",
       "      <td>192754</td>\n",
       "      <td>206208</td>\n",
       "    </tr>\n",
       "    <tr>\n",
       "      <th>4</th>\n",
       "      <td>205053.926317</td>\n",
       "      <td>192754</td>\n",
       "      <td>206208</td>\n",
       "    </tr>\n",
       "    <tr>\n",
       "      <th>5</th>\n",
       "      <td>205168.270192</td>\n",
       "      <td>192754</td>\n",
       "      <td>206208</td>\n",
       "    </tr>\n",
       "    <tr>\n",
       "      <th>6</th>\n",
       "      <td>205136.315919</td>\n",
       "      <td>192754</td>\n",
       "      <td>206208</td>\n",
       "    </tr>\n",
       "    <tr>\n",
       "      <th>7</th>\n",
       "      <td>205054.029933</td>\n",
       "      <td>192754</td>\n",
       "      <td>206208</td>\n",
       "    </tr>\n",
       "    <tr>\n",
       "      <th>8</th>\n",
       "      <td>205014.921965</td>\n",
       "      <td>192754</td>\n",
       "      <td>206208</td>\n",
       "    </tr>\n",
       "    <tr>\n",
       "      <th>9</th>\n",
       "      <td>205151.225644</td>\n",
       "      <td>192754</td>\n",
       "      <td>206208</td>\n",
       "    </tr>\n",
       "    <tr>\n",
       "      <th>10</th>\n",
       "      <td>204943.976097</td>\n",
       "      <td>192754</td>\n",
       "      <td>206208</td>\n",
       "    </tr>\n",
       "    <tr>\n",
       "      <th>11</th>\n",
       "      <td>205117.803599</td>\n",
       "      <td>192754</td>\n",
       "      <td>206208</td>\n",
       "    </tr>\n",
       "    <tr>\n",
       "      <th>12</th>\n",
       "      <td>205135.337377</td>\n",
       "      <td>192754</td>\n",
       "      <td>206208</td>\n",
       "    </tr>\n",
       "    <tr>\n",
       "      <th>13</th>\n",
       "      <td>205105.527695</td>\n",
       "      <td>192754</td>\n",
       "      <td>206208</td>\n",
       "    </tr>\n",
       "    <tr>\n",
       "      <th>14</th>\n",
       "      <td>205087.658309</td>\n",
       "      <td>192754</td>\n",
       "      <td>206208</td>\n",
       "    </tr>\n",
       "    <tr>\n",
       "      <th>15</th>\n",
       "      <td>205157.318576</td>\n",
       "      <td>192754</td>\n",
       "      <td>206208</td>\n",
       "    </tr>\n",
       "    <tr>\n",
       "      <th>16</th>\n",
       "      <td>205028.740465</td>\n",
       "      <td>192754</td>\n",
       "      <td>206208</td>\n",
       "    </tr>\n",
       "    <tr>\n",
       "      <th>17</th>\n",
       "      <td>205156.979662</td>\n",
       "      <td>192754</td>\n",
       "      <td>206208</td>\n",
       "    </tr>\n",
       "    <tr>\n",
       "      <th>18</th>\n",
       "      <td>204913.977311</td>\n",
       "      <td>192754</td>\n",
       "      <td>206208</td>\n",
       "    </tr>\n",
       "    <tr>\n",
       "      <th>19</th>\n",
       "      <td>205064.205514</td>\n",
       "      <td>192754</td>\n",
       "      <td>206208</td>\n",
       "    </tr>\n",
       "    <tr>\n",
       "      <th>20</th>\n",
       "      <td>205096.662575</td>\n",
       "      <td>192754</td>\n",
       "      <td>206208</td>\n",
       "    </tr>\n",
       "    <tr>\n",
       "      <th>21</th>\n",
       "      <td>205121.679546</td>\n",
       "      <td>192754</td>\n",
       "      <td>206208</td>\n",
       "    </tr>\n",
       "  </tbody>\n",
       "</table>\n",
       "</div>"
      ],
      "text/plain": [
       "                      prices                \n",
       "                        mean     min     max\n",
       "department_id                               \n",
       "1              205159.781765  192754  206208\n",
       "2              205134.531049  192754  206208\n",
       "3              205064.055142  192754  206208\n",
       "4              205053.926317  192754  206208\n",
       "5              205168.270192  192754  206208\n",
       "6              205136.315919  192754  206208\n",
       "7              205054.029933  192754  206208\n",
       "8              205014.921965  192754  206208\n",
       "9              205151.225644  192754  206208\n",
       "10             204943.976097  192754  206208\n",
       "11             205117.803599  192754  206208\n",
       "12             205135.337377  192754  206208\n",
       "13             205105.527695  192754  206208\n",
       "14             205087.658309  192754  206208\n",
       "15             205157.318576  192754  206208\n",
       "16             205028.740465  192754  206208\n",
       "17             205156.979662  192754  206208\n",
       "18             204913.977311  192754  206208\n",
       "19             205064.205514  192754  206208\n",
       "20             205096.662575  192754  206208\n",
       "21             205121.679546  192754  206208"
      ]
     },
     "execution_count": 54,
     "metadata": {},
     "output_type": "execute_result"
    }
   ],
   "source": [
    "orders_products_merged_customers.groupby('department_id').agg({'prices': ['mean', 'min', 'max']})"
   ]
  },
  {
   "cell_type": "code",
   "execution_count": 56,
   "id": "953f00c6",
   "metadata": {},
   "outputs": [],
   "source": [
    "orders_products_merged_customers['prices'] = orders_products_merged_customers.groupby(['max_order'])['user_id'].transform(np.max)"
   ]
  },
  {
   "cell_type": "code",
   "execution_count": 57,
   "id": "87c84545",
   "metadata": {},
   "outputs": [],
   "source": [
    "orders_products_merged_customers.loc[(orders_products_merged_customers['prices'] <= 206208 ) & (orders_products_merged_customers['prices'] > 200000), 'big_spender_flag'] = 'High spender'"
   ]
  },
  {
   "cell_type": "code",
   "execution_count": 58,
   "id": "c6ee0af4",
   "metadata": {},
   "outputs": [],
   "source": [
    "orders_products_merged_customers.loc[orders_products_merged_customers['prices'] <= 200000, 'big_spender_flag'] = 'Low spender'"
   ]
  },
  {
   "cell_type": "code",
   "execution_count": 59,
   "id": "bac87b3e",
   "metadata": {},
   "outputs": [
    {
     "data": {
      "text/plain": [
       "High spender    9727697\n",
       "Low spender      272303\n",
       "Name: big_spender_flag, dtype: int64"
      ]
     },
     "execution_count": 59,
     "metadata": {},
     "output_type": "execute_result"
    }
   ],
   "source": [
    "orders_products_merged_customers['big_spender_flag'].value_counts(dropna = False)"
   ]
  },
  {
   "cell_type": "code",
   "execution_count": 62,
   "id": "ce746ca8",
   "metadata": {
    "scrolled": true
   },
   "outputs": [
    {
     "data": {
      "image/png": "[encoded data removed]",
      "text/plain": [
       "<Figure size 432x288 with 1 Axes>"
      ]
     },
     "metadata": {
      "needs_background": "light"
     },
     "output_type": "display_data"
    }
   ],
   "source": [
    "line_big_spender_flag_region = sns.lineplot(data = orders_products_merged_customers, x = 'region', y = 'big_spender_flag'  )"
   ]
  },
  {
   "cell_type": "code",
   "execution_count": 64,
   "id": "c3934191",
   "metadata": {},
   "outputs": [],
   "source": [
    "path = r'C:\\Users\\alexg\\InstacartBasketAnalysis'"
   ]
  },
  {
   "cell_type": "code",
   "execution_count": 65,
   "id": "7a1a53cd",
   "metadata": {},
   "outputs": [],
   "source": [
    "line_big_spender_flag_region.figure.savefig(os.path.join(path, '04Analysis','Visualizations', 'line_big_spender_flag_region.png'))"
   ]
  },
  {
   "cell_type": "code",
   "execution_count": 196,
   "id": "9bb85abb",
   "metadata": {},
   "outputs": [],
   "source": [
    "orders_products_merged_customers.to_csv(os.path.join(path, '02Data', 'PreparedData', 'orders_products_merged_customers.csv'))"
   ]
  },
  {
   "cell_type": "code",
   "execution_count": 197,
   "id": "78aca60e",
   "metadata": {},
   "outputs": [],
   "source": [
    "orders_products_merged_customers.to_pickle(os.path.join(path, '02Data', 'PreparedData', 'orders_products_merged_customers.pkl'))"
   ]
  },
  {
   "cell_type": "markdown",
   "id": "a0091b28",
   "metadata": {},
   "source": [
    "04. The Instacart CFO isn’t interested in customers who don’t generate much revenue for the app. Create an exclusion flag for low-activity customers (customers with less than 5 orders) and exclude them from the data. Make sure you export this sample."
   ]
  },
  {
   "cell_type": "code",
   "execution_count": 18,
   "id": "e0506773",
   "metadata": {},
   "outputs": [],
   "source": [
    "orders_products_merged_customers.loc[orders_products_merged_customers['max_order'] > 5, 'active_customers_flag'] = 'high-activity customers'"
   ]
  },
  {
   "cell_type": "code",
   "execution_count": 19,
   "id": "73093646",
   "metadata": {},
   "outputs": [],
   "source": [
    "orders_products_merged_customers.loc[orders_products_merged_customers['max_order'] <= 5, 'active_customers_flag'] = 'low-activity customers'"
   ]
  },
  {
   "cell_type": "code",
   "execution_count": 20,
   "id": "86e09f33",
   "metadata": {},
   "outputs": [
    {
     "data": {
      "text/plain": [
       "high-activity customers    9774728\n",
       "low-activity customers      225272\n",
       "Name: active_customers_flag, dtype: int64"
      ]
     },
     "execution_count": 20,
     "metadata": {},
     "output_type": "execute_result"
    }
   ],
   "source": [
    "orders_products_merged_customers['active_customers_flag'].value_counts(dropna = False)"
   ]
  },
  {
   "cell_type": "code",
   "execution_count": 21,
   "id": "b559f59e",
   "metadata": {},
   "outputs": [
    {
     "data": {
      "image/png": "[encoded data removed]",
      "text/plain": [
       "<Figure size 432x288 with 1 Axes>"
      ]
     },
     "metadata": {
      "needs_background": "light"
     },
     "output_type": "display_data"
    }
   ],
   "source": [
    "line_big_spender_flag_region = sns.lineplot(data = orders_products_merged_customers, x = 'region', y = 'active_customers_flag'  )"
   ]
  },
  {
   "cell_type": "markdown",
   "id": "ee741432",
   "metadata": {},
   "source": [
    "05. The marketing and business strategy units at Instacart want to create more-relevant marketing strategies for different products and are, thus, curious about customer profiling in their database. Create a profiling variable based on age, income, certain goods in the “department_id” column, and number of dependents. You might also use the “income” and “order_hour_of_day” columns if you can think of a way they would impact customer profiles. (Hint: As an example, try thinking of what characteristics would lead you to the profile “Single adult” or “Young parent.”)\n"
   ]
  },
  {
   "cell_type": "markdown",
   "id": "bd8f21dd",
   "metadata": {},
   "source": [
    "# Creating age Group"
   ]
  },
  {
   "cell_type": "code",
   "execution_count": 96,
   "id": "0e584ed8",
   "metadata": {},
   "outputs": [
    {
     "data": {
      "text/html": [
       "<div>\n",
       "<style scoped>\n",
       "    .dataframe tbody tr th:only-of-type {\n",
       "        vertical-align: middle;\n",
       "    }\n",
       "\n",
       "    .dataframe tbody tr th {\n",
       "        vertical-align: top;\n",
       "    }\n",
       "\n",
       "    .dataframe thead tr th {\n",
       "        text-align: left;\n",
       "    }\n",
       "\n",
       "    .dataframe thead tr:last-of-type th {\n",
       "        text-align: right;\n",
       "    }\n",
       "</style>\n",
       "<table border=\"1\" class=\"dataframe\">\n",
       "  <thead>\n",
       "    <tr>\n",
       "      <th></th>\n",
       "      <th colspan=\"3\" halign=\"left\">age</th>\n",
       "    </tr>\n",
       "    <tr>\n",
       "      <th></th>\n",
       "      <th>mean</th>\n",
       "      <th>min</th>\n",
       "      <th>max</th>\n",
       "    </tr>\n",
       "    <tr>\n",
       "      <th>department_id</th>\n",
       "      <th></th>\n",
       "      <th></th>\n",
       "      <th></th>\n",
       "    </tr>\n",
       "  </thead>\n",
       "  <tbody>\n",
       "    <tr>\n",
       "      <th>1</th>\n",
       "      <td>20.777235</td>\n",
       "      <td>4</td>\n",
       "      <td>23</td>\n",
       "    </tr>\n",
       "    <tr>\n",
       "      <th>2</th>\n",
       "      <td>20.794414</td>\n",
       "      <td>4</td>\n",
       "      <td>23</td>\n",
       "    </tr>\n",
       "    <tr>\n",
       "      <th>3</th>\n",
       "      <td>20.747502</td>\n",
       "      <td>4</td>\n",
       "      <td>23</td>\n",
       "    </tr>\n",
       "    <tr>\n",
       "      <th>4</th>\n",
       "      <td>20.932339</td>\n",
       "      <td>4</td>\n",
       "      <td>23</td>\n",
       "    </tr>\n",
       "    <tr>\n",
       "      <th>5</th>\n",
       "      <td>20.012468</td>\n",
       "      <td>8</td>\n",
       "      <td>23</td>\n",
       "    </tr>\n",
       "    <tr>\n",
       "      <th>6</th>\n",
       "      <td>20.849391</td>\n",
       "      <td>7</td>\n",
       "      <td>23</td>\n",
       "    </tr>\n",
       "    <tr>\n",
       "      <th>7</th>\n",
       "      <td>20.606900</td>\n",
       "      <td>4</td>\n",
       "      <td>23</td>\n",
       "    </tr>\n",
       "    <tr>\n",
       "      <th>8</th>\n",
       "      <td>20.504376</td>\n",
       "      <td>7</td>\n",
       "      <td>23</td>\n",
       "    </tr>\n",
       "    <tr>\n",
       "      <th>9</th>\n",
       "      <td>20.873193</td>\n",
       "      <td>4</td>\n",
       "      <td>23</td>\n",
       "    </tr>\n",
       "    <tr>\n",
       "      <th>10</th>\n",
       "      <td>20.979762</td>\n",
       "      <td>9</td>\n",
       "      <td>23</td>\n",
       "    </tr>\n",
       "    <tr>\n",
       "      <th>11</th>\n",
       "      <td>20.749105</td>\n",
       "      <td>4</td>\n",
       "      <td>23</td>\n",
       "    </tr>\n",
       "    <tr>\n",
       "      <th>12</th>\n",
       "      <td>20.819245</td>\n",
       "      <td>4</td>\n",
       "      <td>23</td>\n",
       "    </tr>\n",
       "    <tr>\n",
       "      <th>13</th>\n",
       "      <td>20.805609</td>\n",
       "      <td>4</td>\n",
       "      <td>23</td>\n",
       "    </tr>\n",
       "    <tr>\n",
       "      <th>14</th>\n",
       "      <td>20.675258</td>\n",
       "      <td>4</td>\n",
       "      <td>23</td>\n",
       "    </tr>\n",
       "    <tr>\n",
       "      <th>15</th>\n",
       "      <td>20.801426</td>\n",
       "      <td>4</td>\n",
       "      <td>23</td>\n",
       "    </tr>\n",
       "    <tr>\n",
       "      <th>16</th>\n",
       "      <td>20.815665</td>\n",
       "      <td>4</td>\n",
       "      <td>23</td>\n",
       "    </tr>\n",
       "    <tr>\n",
       "      <th>17</th>\n",
       "      <td>20.699054</td>\n",
       "      <td>4</td>\n",
       "      <td>23</td>\n",
       "    </tr>\n",
       "    <tr>\n",
       "      <th>18</th>\n",
       "      <td>21.172895</td>\n",
       "      <td>7</td>\n",
       "      <td>23</td>\n",
       "    </tr>\n",
       "    <tr>\n",
       "      <th>19</th>\n",
       "      <td>20.592937</td>\n",
       "      <td>4</td>\n",
       "      <td>23</td>\n",
       "    </tr>\n",
       "    <tr>\n",
       "      <th>20</th>\n",
       "      <td>20.801803</td>\n",
       "      <td>4</td>\n",
       "      <td>23</td>\n",
       "    </tr>\n",
       "    <tr>\n",
       "      <th>21</th>\n",
       "      <td>20.794128</td>\n",
       "      <td>10</td>\n",
       "      <td>23</td>\n",
       "    </tr>\n",
       "  </tbody>\n",
       "</table>\n",
       "</div>"
      ],
      "text/plain": [
       "                     age        \n",
       "                    mean min max\n",
       "department_id                   \n",
       "1              20.777235   4  23\n",
       "2              20.794414   4  23\n",
       "3              20.747502   4  23\n",
       "4              20.932339   4  23\n",
       "5              20.012468   8  23\n",
       "6              20.849391   7  23\n",
       "7              20.606900   4  23\n",
       "8              20.504376   7  23\n",
       "9              20.873193   4  23\n",
       "10             20.979762   9  23\n",
       "11             20.749105   4  23\n",
       "12             20.819245   4  23\n",
       "13             20.805609   4  23\n",
       "14             20.675258   4  23\n",
       "15             20.801426   4  23\n",
       "16             20.815665   4  23\n",
       "17             20.699054   4  23\n",
       "18             21.172895   7  23\n",
       "19             20.592937   4  23\n",
       "20             20.801803   4  23\n",
       "21             20.794128  10  23"
      ]
     },
     "execution_count": 96,
     "metadata": {},
     "output_type": "execute_result"
    }
   ],
   "source": [
    "orders_products_merged_customers.groupby('department_id').agg({'age': ['mean', 'min', 'max']})"
   ]
  },
  {
   "cell_type": "code",
   "execution_count": 97,
   "id": "51803316",
   "metadata": {},
   "outputs": [],
   "source": [
    "orders_products_merged_customers['age'] = orders_products_merged_customers.groupby(['income'])['order_hour_of_day'].transform(np.max)"
   ]
  },
  {
   "cell_type": "code",
   "execution_count": 98,
   "id": "c9f69a99",
   "metadata": {},
   "outputs": [],
   "source": [
    "orders_products_merged_customers.loc[orders_products_merged_customers['age'] <= 10, 'age_group_flag'] = 'Young Adult'"
   ]
  },
  {
   "cell_type": "code",
   "execution_count": 99,
   "id": "a59e88d6",
   "metadata": {},
   "outputs": [],
   "source": [
    "orders_products_merged_customers.loc[(orders_products_merged_customers['age'] > 10) & (orders_products_merged_customers['age'] < 20), 'age_group_flag'] = 'Adult'"
   ]
  },
  {
   "cell_type": "code",
   "execution_count": 100,
   "id": "eb06a4ca",
   "metadata": {},
   "outputs": [],
   "source": [
    "orders_products_merged_customers.loc[orders_products_merged_customers['age'] > 20, 'age_group_flag'] = 'Senior'"
   ]
  },
  {
   "cell_type": "code",
   "execution_count": 101,
   "id": "619374ed",
   "metadata": {
    "scrolled": true
   },
   "outputs": [
    {
     "data": {
      "text/plain": [
       "Senior         6399988\n",
       "Adult          2454319\n",
       "Young Adult    1145693\n",
       "Name: age_group_flag, dtype: int64"
      ]
     },
     "execution_count": 101,
     "metadata": {},
     "output_type": "execute_result"
    }
   ],
   "source": [
    "orders_products_merged_customers['age_group_flag'].value_counts(dropna = False)"
   ]
  },
  {
   "cell_type": "markdown",
   "id": "dbd367e1",
   "metadata": {},
   "source": [
    "# Creating income Group"
   ]
  },
  {
   "cell_type": "code",
   "execution_count": 102,
   "id": "be7aff33",
   "metadata": {
    "scrolled": true
   },
   "outputs": [
    {
     "data": {
      "text/html": [
       "<div>\n",
       "<style scoped>\n",
       "    .dataframe tbody tr th:only-of-type {\n",
       "        vertical-align: middle;\n",
       "    }\n",
       "\n",
       "    .dataframe tbody tr th {\n",
       "        vertical-align: top;\n",
       "    }\n",
       "\n",
       "    .dataframe thead tr th {\n",
       "        text-align: left;\n",
       "    }\n",
       "\n",
       "    .dataframe thead tr:last-of-type th {\n",
       "        text-align: right;\n",
       "    }\n",
       "</style>\n",
       "<table border=\"1\" class=\"dataframe\">\n",
       "  <thead>\n",
       "    <tr>\n",
       "      <th></th>\n",
       "      <th colspan=\"3\" halign=\"left\">income</th>\n",
       "    </tr>\n",
       "    <tr>\n",
       "      <th></th>\n",
       "      <th>mean</th>\n",
       "      <th>min</th>\n",
       "      <th>max</th>\n",
       "    </tr>\n",
       "    <tr>\n",
       "      <th>department_id</th>\n",
       "      <th></th>\n",
       "      <th></th>\n",
       "      <th></th>\n",
       "    </tr>\n",
       "  </thead>\n",
       "  <tbody>\n",
       "    <tr>\n",
       "      <th>1</th>\n",
       "      <td>101614.489428</td>\n",
       "      <td>25955</td>\n",
       "      <td>593901</td>\n",
       "    </tr>\n",
       "    <tr>\n",
       "      <th>2</th>\n",
       "      <td>100997.519340</td>\n",
       "      <td>25955</td>\n",
       "      <td>544248</td>\n",
       "    </tr>\n",
       "    <tr>\n",
       "      <th>3</th>\n",
       "      <td>102747.477745</td>\n",
       "      <td>25941</td>\n",
       "      <td>593901</td>\n",
       "    </tr>\n",
       "    <tr>\n",
       "      <th>4</th>\n",
       "      <td>101987.603168</td>\n",
       "      <td>25941</td>\n",
       "      <td>593901</td>\n",
       "    </tr>\n",
       "    <tr>\n",
       "      <th>5</th>\n",
       "      <td>113308.719087</td>\n",
       "      <td>26170</td>\n",
       "      <td>593901</td>\n",
       "    </tr>\n",
       "    <tr>\n",
       "      <th>6</th>\n",
       "      <td>102568.108518</td>\n",
       "      <td>25941</td>\n",
       "      <td>593901</td>\n",
       "    </tr>\n",
       "    <tr>\n",
       "      <th>7</th>\n",
       "      <td>98621.299157</td>\n",
       "      <td>25955</td>\n",
       "      <td>593901</td>\n",
       "    </tr>\n",
       "    <tr>\n",
       "      <th>8</th>\n",
       "      <td>107174.538530</td>\n",
       "      <td>26256</td>\n",
       "      <td>579169</td>\n",
       "    </tr>\n",
       "    <tr>\n",
       "      <th>9</th>\n",
       "      <td>103243.991403</td>\n",
       "      <td>25941</td>\n",
       "      <td>593901</td>\n",
       "    </tr>\n",
       "    <tr>\n",
       "      <th>10</th>\n",
       "      <td>95195.266428</td>\n",
       "      <td>27328</td>\n",
       "      <td>569253</td>\n",
       "    </tr>\n",
       "    <tr>\n",
       "      <th>11</th>\n",
       "      <td>101339.791238</td>\n",
       "      <td>25955</td>\n",
       "      <td>593901</td>\n",
       "    </tr>\n",
       "    <tr>\n",
       "      <th>12</th>\n",
       "      <td>104959.055961</td>\n",
       "      <td>26170</td>\n",
       "      <td>593901</td>\n",
       "    </tr>\n",
       "    <tr>\n",
       "      <th>13</th>\n",
       "      <td>102759.307092</td>\n",
       "      <td>25955</td>\n",
       "      <td>593901</td>\n",
       "    </tr>\n",
       "    <tr>\n",
       "      <th>14</th>\n",
       "      <td>99171.050934</td>\n",
       "      <td>25955</td>\n",
       "      <td>593901</td>\n",
       "    </tr>\n",
       "    <tr>\n",
       "      <th>15</th>\n",
       "      <td>103312.747124</td>\n",
       "      <td>25955</td>\n",
       "      <td>593901</td>\n",
       "    </tr>\n",
       "    <tr>\n",
       "      <th>16</th>\n",
       "      <td>101903.521466</td>\n",
       "      <td>25941</td>\n",
       "      <td>593901</td>\n",
       "    </tr>\n",
       "    <tr>\n",
       "      <th>17</th>\n",
       "      <td>103525.528334</td>\n",
       "      <td>25955</td>\n",
       "      <td>593901</td>\n",
       "    </tr>\n",
       "    <tr>\n",
       "      <th>18</th>\n",
       "      <td>102691.732359</td>\n",
       "      <td>26304</td>\n",
       "      <td>579169</td>\n",
       "    </tr>\n",
       "    <tr>\n",
       "      <th>19</th>\n",
       "      <td>94273.804906</td>\n",
       "      <td>25955</td>\n",
       "      <td>593901</td>\n",
       "    </tr>\n",
       "    <tr>\n",
       "      <th>20</th>\n",
       "      <td>101084.273323</td>\n",
       "      <td>25955</td>\n",
       "      <td>592409</td>\n",
       "    </tr>\n",
       "    <tr>\n",
       "      <th>21</th>\n",
       "      <td>100027.064693</td>\n",
       "      <td>26234</td>\n",
       "      <td>579169</td>\n",
       "    </tr>\n",
       "  </tbody>\n",
       "</table>\n",
       "</div>"
      ],
      "text/plain": [
       "                      income               \n",
       "                        mean    min     max\n",
       "department_id                              \n",
       "1              101614.489428  25955  593901\n",
       "2              100997.519340  25955  544248\n",
       "3              102747.477745  25941  593901\n",
       "4              101987.603168  25941  593901\n",
       "5              113308.719087  26170  593901\n",
       "6              102568.108518  25941  593901\n",
       "7               98621.299157  25955  593901\n",
       "8              107174.538530  26256  579169\n",
       "9              103243.991403  25941  593901\n",
       "10              95195.266428  27328  569253\n",
       "11             101339.791238  25955  593901\n",
       "12             104959.055961  26170  593901\n",
       "13             102759.307092  25955  593901\n",
       "14              99171.050934  25955  593901\n",
       "15             103312.747124  25955  593901\n",
       "16             101903.521466  25941  593901\n",
       "17             103525.528334  25955  593901\n",
       "18             102691.732359  26304  579169\n",
       "19              94273.804906  25955  593901\n",
       "20             101084.273323  25955  592409\n",
       "21             100027.064693  26234  579169"
      ]
     },
     "execution_count": 102,
     "metadata": {},
     "output_type": "execute_result"
    }
   ],
   "source": [
    "orders_products_merged_customers.groupby('department_id').agg({'income': ['mean', 'min', 'max']})"
   ]
  },
  {
   "cell_type": "code",
   "execution_count": 127,
   "id": "d03a3782",
   "metadata": {},
   "outputs": [],
   "source": [
    "orders_products_merged_customers.loc[orders_products_merged_customers['income'] <= 50000, 'income_flag'] = 'Low'"
   ]
  },
  {
   "cell_type": "code",
   "execution_count": 128,
   "id": "4018124e",
   "metadata": {},
   "outputs": [],
   "source": [
    "orders_products_merged_customers.loc[(orders_products_merged_customers['income'] > 50000) & (orders_products_merged_customers['income'] <= 100000 ), 'income_flag'] = 'Mid'"
   ]
  },
  {
   "cell_type": "code",
   "execution_count": 129,
   "id": "a1cb90d2",
   "metadata": {},
   "outputs": [],
   "source": [
    "orders_products_merged_customers.loc[orders_products_merged_customers['income'] > 100000, 'income_flag'] = 'High'"
   ]
  },
  {
   "cell_type": "code",
   "execution_count": 130,
   "id": "e6f1e608",
   "metadata": {},
   "outputs": [
    {
     "data": {
      "text/plain": [
       "High    4683749\n",
       "Mid     4412751\n",
       "Low      903500\n",
       "Name: income_flag, dtype: int64"
      ]
     },
     "execution_count": 130,
     "metadata": {},
     "output_type": "execute_result"
    }
   ],
   "source": [
    "orders_products_merged_customers['income_flag'].value_counts(dropna = False)"
   ]
  },
  {
   "cell_type": "code",
   "execution_count": 107,
   "id": "207c8709",
   "metadata": {},
   "outputs": [
    {
     "data": {
      "text/html": [
       "<div>\n",
       "<style scoped>\n",
       "    .dataframe tbody tr th:only-of-type {\n",
       "        vertical-align: middle;\n",
       "    }\n",
       "\n",
       "    .dataframe tbody tr th {\n",
       "        vertical-align: top;\n",
       "    }\n",
       "\n",
       "    .dataframe thead tr th {\n",
       "        text-align: left;\n",
       "    }\n",
       "\n",
       "    .dataframe thead tr:last-of-type th {\n",
       "        text-align: right;\n",
       "    }\n",
       "</style>\n",
       "<table border=\"1\" class=\"dataframe\">\n",
       "  <thead>\n",
       "    <tr>\n",
       "      <th></th>\n",
       "      <th colspan=\"3\" halign=\"left\">dependants</th>\n",
       "    </tr>\n",
       "    <tr>\n",
       "      <th></th>\n",
       "      <th>mean</th>\n",
       "      <th>min</th>\n",
       "      <th>max</th>\n",
       "    </tr>\n",
       "    <tr>\n",
       "      <th>department_id</th>\n",
       "      <th></th>\n",
       "      <th></th>\n",
       "      <th></th>\n",
       "    </tr>\n",
       "  </thead>\n",
       "  <tbody>\n",
       "    <tr>\n",
       "      <th>1</th>\n",
       "      <td>1.515257</td>\n",
       "      <td>0</td>\n",
       "      <td>3</td>\n",
       "    </tr>\n",
       "    <tr>\n",
       "      <th>2</th>\n",
       "      <td>1.490930</td>\n",
       "      <td>0</td>\n",
       "      <td>3</td>\n",
       "    </tr>\n",
       "    <tr>\n",
       "      <th>3</th>\n",
       "      <td>1.496881</td>\n",
       "      <td>0</td>\n",
       "      <td>3</td>\n",
       "    </tr>\n",
       "    <tr>\n",
       "      <th>4</th>\n",
       "      <td>1.502334</td>\n",
       "      <td>0</td>\n",
       "      <td>3</td>\n",
       "    </tr>\n",
       "    <tr>\n",
       "      <th>5</th>\n",
       "      <td>1.504066</td>\n",
       "      <td>0</td>\n",
       "      <td>3</td>\n",
       "    </tr>\n",
       "    <tr>\n",
       "      <th>6</th>\n",
       "      <td>1.493325</td>\n",
       "      <td>0</td>\n",
       "      <td>3</td>\n",
       "    </tr>\n",
       "    <tr>\n",
       "      <th>7</th>\n",
       "      <td>1.509561</td>\n",
       "      <td>0</td>\n",
       "      <td>3</td>\n",
       "    </tr>\n",
       "    <tr>\n",
       "      <th>8</th>\n",
       "      <td>1.457445</td>\n",
       "      <td>0</td>\n",
       "      <td>3</td>\n",
       "    </tr>\n",
       "    <tr>\n",
       "      <th>9</th>\n",
       "      <td>1.510998</td>\n",
       "      <td>0</td>\n",
       "      <td>3</td>\n",
       "    </tr>\n",
       "    <tr>\n",
       "      <th>10</th>\n",
       "      <td>1.524777</td>\n",
       "      <td>0</td>\n",
       "      <td>3</td>\n",
       "    </tr>\n",
       "    <tr>\n",
       "      <th>11</th>\n",
       "      <td>1.514491</td>\n",
       "      <td>0</td>\n",
       "      <td>3</td>\n",
       "    </tr>\n",
       "    <tr>\n",
       "      <th>12</th>\n",
       "      <td>1.515712</td>\n",
       "      <td>0</td>\n",
       "      <td>3</td>\n",
       "    </tr>\n",
       "    <tr>\n",
       "      <th>13</th>\n",
       "      <td>1.504507</td>\n",
       "      <td>0</td>\n",
       "      <td>3</td>\n",
       "    </tr>\n",
       "    <tr>\n",
       "      <th>14</th>\n",
       "      <td>1.504891</td>\n",
       "      <td>0</td>\n",
       "      <td>3</td>\n",
       "    </tr>\n",
       "    <tr>\n",
       "      <th>15</th>\n",
       "      <td>1.515220</td>\n",
       "      <td>0</td>\n",
       "      <td>3</td>\n",
       "    </tr>\n",
       "    <tr>\n",
       "      <th>16</th>\n",
       "      <td>1.508444</td>\n",
       "      <td>0</td>\n",
       "      <td>3</td>\n",
       "    </tr>\n",
       "    <tr>\n",
       "      <th>17</th>\n",
       "      <td>1.516975</td>\n",
       "      <td>0</td>\n",
       "      <td>3</td>\n",
       "    </tr>\n",
       "    <tr>\n",
       "      <th>18</th>\n",
       "      <td>1.497203</td>\n",
       "      <td>0</td>\n",
       "      <td>3</td>\n",
       "    </tr>\n",
       "    <tr>\n",
       "      <th>19</th>\n",
       "      <td>1.509599</td>\n",
       "      <td>0</td>\n",
       "      <td>3</td>\n",
       "    </tr>\n",
       "    <tr>\n",
       "      <th>20</th>\n",
       "      <td>1.498503</td>\n",
       "      <td>0</td>\n",
       "      <td>3</td>\n",
       "    </tr>\n",
       "    <tr>\n",
       "      <th>21</th>\n",
       "      <td>1.514779</td>\n",
       "      <td>0</td>\n",
       "      <td>3</td>\n",
       "    </tr>\n",
       "  </tbody>\n",
       "</table>\n",
       "</div>"
      ],
      "text/plain": [
       "              dependants        \n",
       "                    mean min max\n",
       "department_id                   \n",
       "1               1.515257   0   3\n",
       "2               1.490930   0   3\n",
       "3               1.496881   0   3\n",
       "4               1.502334   0   3\n",
       "5               1.504066   0   3\n",
       "6               1.493325   0   3\n",
       "7               1.509561   0   3\n",
       "8               1.457445   0   3\n",
       "9               1.510998   0   3\n",
       "10              1.524777   0   3\n",
       "11              1.514491   0   3\n",
       "12              1.515712   0   3\n",
       "13              1.504507   0   3\n",
       "14              1.504891   0   3\n",
       "15              1.515220   0   3\n",
       "16              1.508444   0   3\n",
       "17              1.516975   0   3\n",
       "18              1.497203   0   3\n",
       "19              1.509599   0   3\n",
       "20              1.498503   0   3\n",
       "21              1.514779   0   3"
      ]
     },
     "execution_count": 107,
     "metadata": {},
     "output_type": "execute_result"
    }
   ],
   "source": [
    "orders_products_merged_customers.groupby('department_id').agg({'dependants': ['mean', 'min', 'max']})"
   ]
  },
  {
   "cell_type": "markdown",
   "id": "4212014c",
   "metadata": {},
   "source": [
    "# Creating dependants Group"
   ]
  },
  {
   "cell_type": "code",
   "execution_count": 108,
   "id": "3cf4675d",
   "metadata": {},
   "outputs": [],
   "source": [
    "orders_products_merged_customers.loc[orders_products_merged_customers['dependants'] > 0, 'dependants_flag'] = 'no dependents'"
   ]
  },
  {
   "cell_type": "code",
   "execution_count": 109,
   "id": "e8807c07",
   "metadata": {},
   "outputs": [],
   "source": [
    "orders_products_merged_customers.loc[(orders_products_merged_customers['dependants'] <= 1) & (orders_products_merged_customers['dependants'] < 3), 'dependants_flag'] = '1 to 2 dependents'"
   ]
  },
  {
   "cell_type": "code",
   "execution_count": 110,
   "id": "bd505896",
   "metadata": {},
   "outputs": [],
   "source": [
    "orders_products_merged_customers.loc[orders_products_merged_customers['dependants'] == 3, 'dependants_flag'] = '> 3 dependents'"
   ]
  },
  {
   "cell_type": "code",
   "execution_count": 111,
   "id": "ae77699b",
   "metadata": {},
   "outputs": [
    {
     "data": {
      "text/plain": [
       "1 to 2 dependents    4943934\n",
       "no dependents        2530609\n",
       "> 3 dependents       2525457\n",
       "Name: dependants_flag, dtype: int64"
      ]
     },
     "execution_count": 111,
     "metadata": {},
     "output_type": "execute_result"
    }
   ],
   "source": [
    "orders_products_merged_customers['dependants_flag'].value_counts(dropna = False)"
   ]
  },
  {
   "cell_type": "markdown",
   "id": "ee711f5c",
   "metadata": {},
   "source": [
    "# Creating Meal Prepper Group"
   ]
  },
  {
   "cell_type": "code",
   "execution_count": 135,
   "id": "96cfbd5a",
   "metadata": {},
   "outputs": [
    {
     "data": {
      "text/plain": [
       "Index(['product_id', 'product_name', 'aisle_id', 'department_id', 'prices',\n",
       "       'order_id', 'user_id', 'order_number', 'orders_day_of_week',\n",
       "       'order_hour_of_day', 'days_since_prior_order', 'add_to_cart_order',\n",
       "       'reordered', '_merge', 'Unnamed: 0', 'first_name', 'last_name',\n",
       "       'gender', 'state', 'age', 'date_joined', 'dependants', 'marital_status',\n",
       "       'income', 'region', 'max_order', 'loyalty_flag', 'big_spender_flag',\n",
       "       'active_customers_flag', 'age_group_flag', 'income_flag',\n",
       "       'dependants_flag'],\n",
       "      dtype='object')"
      ]
     },
     "execution_count": 135,
     "metadata": {},
     "output_type": "execute_result"
    }
   ],
   "source": [
    "orders_products_merged_customers.columns"
   ]
  },
  {
   "cell_type": "code",
   "execution_count": 136,
   "id": "5f11c89b",
   "metadata": {},
   "outputs": [],
   "source": [
    "orders_products_merged_customers.loc[orders_products_merged_customers['orders_day_of_week'] <= 1, 'meal_prepper_flag'] = 'Meal'"
   ]
  },
  {
   "cell_type": "code",
   "execution_count": 138,
   "id": "dc05d9d5",
   "metadata": {},
   "outputs": [],
   "source": [
    "orders_products_merged_customers.loc[orders_products_merged_customers['orders_day_of_week'] >= 2, 'meal_prepper_flag'] = 'Not'"
   ]
  },
  {
   "cell_type": "code",
   "execution_count": 140,
   "id": "0db42fb7",
   "metadata": {},
   "outputs": [
    {
     "data": {
      "text/plain": [
       "Not     6340607\n",
       "Meal    3659393\n",
       "Name: meal_prepper_flag, dtype: int64"
      ]
     },
     "execution_count": 140,
     "metadata": {},
     "output_type": "execute_result"
    }
   ],
   "source": [
    "orders_products_merged_customers['meal_prepper_flag'].value_counts(dropna = False)"
   ]
  },
  {
   "cell_type": "markdown",
   "id": "fe811b7a",
   "metadata": {},
   "source": [
    "06. Create an appropriate visualization to show the distribution of profiles."
   ]
  },
  {
   "cell_type": "markdown",
   "id": "f090221c",
   "metadata": {},
   "source": [
    "active_customers bar chart "
   ]
  },
  {
   "cell_type": "code",
   "execution_count": 141,
   "id": "89eb86a4",
   "metadata": {},
   "outputs": [
    {
     "data": {
      "image/png": "[encoded data removed]",
      "text/plain": [
       "<Figure size 432x288 with 1 Axes>"
      ]
     },
     "metadata": {
      "needs_background": "light"
     },
     "output_type": "display_data"
    }
   ],
   "source": [
    "bar_active_customers_flag = orders_products_merged_customers['active_customers_flag'].value_counts().sort_index().plot.bar()"
   ]
  },
  {
   "cell_type": "code",
   "execution_count": 144,
   "id": "f385b1c9",
   "metadata": {},
   "outputs": [],
   "source": [
    "bar_active_customers_flag.figure.savefig(os.path.join(path, '04Analysis','Visualizations', 'bar_active_customers_flag.png'))"
   ]
  },
  {
   "cell_type": "markdown",
   "id": "2da0ee6e",
   "metadata": {},
   "source": [
    "age_group bar chart "
   ]
  },
  {
   "cell_type": "code",
   "execution_count": 123,
   "id": "01fba1ee",
   "metadata": {
    "scrolled": false
   },
   "outputs": [
    {
     "data": {
      "image/png": "[encoded data removed]",
      "text/plain": [
       "<Figure size 432x288 with 1 Axes>"
      ]
     },
     "metadata": {
      "needs_background": "light"
     },
     "output_type": "display_data"
    }
   ],
   "source": [
    "bar_age_group_flag = orders_products_merged_customers['age_group_flag'].value_counts().sort_index().plot.bar()"
   ]
  },
  {
   "cell_type": "code",
   "execution_count": 145,
   "id": "fa9f994d",
   "metadata": {},
   "outputs": [],
   "source": [
    "bar_age_group_flag.figure.savefig(os.path.join(path, '04Analysis','Visualizations', 'bar_age.png'))"
   ]
  },
  {
   "cell_type": "markdown",
   "id": "2d66c025",
   "metadata": {},
   "source": [
    "income_flag bar chart "
   ]
  },
  {
   "cell_type": "code",
   "execution_count": 132,
   "id": "86f781de",
   "metadata": {
    "scrolled": true
   },
   "outputs": [
    {
     "data": {
      "image/png": "[encoded data removed]",
      "text/plain": [
       "<Figure size 432x288 with 1 Axes>"
      ]
     },
     "metadata": {
      "needs_background": "light"
     },
     "output_type": "display_data"
    }
   ],
   "source": [
    "bar_income_flag = orders_products_merged_customers['income_flag'].value_counts().sort_index().plot.bar()"
   ]
  },
  {
   "cell_type": "code",
   "execution_count": 146,
   "id": "3ac37cd9",
   "metadata": {},
   "outputs": [],
   "source": [
    "bar_income_flag.figure.savefig(os.path.join(path, '04Analysis','Visualizations', 'bar_income_flag.png'))"
   ]
  },
  {
   "cell_type": "markdown",
   "id": "e44088f4",
   "metadata": {},
   "source": [
    "dependants_flag bar chart "
   ]
  },
  {
   "cell_type": "code",
   "execution_count": 151,
   "id": "8fcdc09a",
   "metadata": {
    "scrolled": true
   },
   "outputs": [
    {
     "data": {
      "image/png": "[encoded data removed]",
      "text/plain": [
       "<Figure size 432x288 with 1 Axes>"
      ]
     },
     "metadata": {
      "needs_background": "light"
     },
     "output_type": "display_data"
    }
   ],
   "source": [
    "bar_dependants_flag = orders_products_merged_customers['dependants_flag'].value_counts().sort_index().plot.bar()"
   ]
  },
  {
   "cell_type": "code",
   "execution_count": 152,
   "id": "c880ec46",
   "metadata": {},
   "outputs": [],
   "source": [
    "bar_dependants_flag.figure.savefig(os.path.join(path, '04Analysis','Visualizations', 'bar_dependants_flag.png'))"
   ]
  },
  {
   "cell_type": "markdown",
   "id": "090a58bc",
   "metadata": {},
   "source": [
    "meal_prepper_flag bar chart "
   ]
  },
  {
   "cell_type": "code",
   "execution_count": 153,
   "id": "77210730",
   "metadata": {},
   "outputs": [
    {
     "data": {
      "image/png": "[encoded data removed]",
      "text/plain": [
       "<Figure size 432x288 with 1 Axes>"
      ]
     },
     "metadata": {
      "needs_background": "light"
     },
     "output_type": "display_data"
    }
   ],
   "source": [
    "bar_meal_prepper_flag = orders_products_merged_customers['meal_prepper_flag'].value_counts().sort_index().plot.bar()"
   ]
  },
  {
   "cell_type": "code",
   "execution_count": 154,
   "id": "699b89ed",
   "metadata": {},
   "outputs": [],
   "source": [
    "bar_meal_prepper_flag.figure.savefig(os.path.join(path, '04Analysis','Visualizations', 'bar_meal_prepper_flag.png'))"
   ]
  },
  {
   "cell_type": "markdown",
   "id": "d39d214a",
   "metadata": {},
   "source": [
    "07. Aggregate the max, mean, and min variables on a customer-profile level for usage frequency and expenditure."
   ]
  },
  {
   "cell_type": "markdown",
   "id": "6ecf0c09",
   "metadata": {},
   "source": [
    "age group flag usage frequency"
   ]
  },
  {
   "cell_type": "code",
   "execution_count": 157,
   "id": "e82df296",
   "metadata": {},
   "outputs": [
    {
     "data": {
      "text/html": [
       "<div>\n",
       "<style scoped>\n",
       "    .dataframe tbody tr th:only-of-type {\n",
       "        vertical-align: middle;\n",
       "    }\n",
       "\n",
       "    .dataframe tbody tr th {\n",
       "        vertical-align: top;\n",
       "    }\n",
       "\n",
       "    .dataframe thead tr th {\n",
       "        text-align: left;\n",
       "    }\n",
       "\n",
       "    .dataframe thead tr:last-of-type th {\n",
       "        text-align: right;\n",
       "    }\n",
       "</style>\n",
       "<table border=\"1\" class=\"dataframe\">\n",
       "  <thead>\n",
       "    <tr>\n",
       "      <th></th>\n",
       "      <th colspan=\"3\" halign=\"left\">days_since_prior_order</th>\n",
       "    </tr>\n",
       "    <tr>\n",
       "      <th></th>\n",
       "      <th>mean</th>\n",
       "      <th>min</th>\n",
       "      <th>max</th>\n",
       "    </tr>\n",
       "    <tr>\n",
       "      <th>age_group_flag</th>\n",
       "      <th></th>\n",
       "      <th></th>\n",
       "      <th></th>\n",
       "    </tr>\n",
       "  </thead>\n",
       "  <tbody>\n",
       "    <tr>\n",
       "      <th>Adult</th>\n",
       "      <td>11.565470</td>\n",
       "      <td>0.0</td>\n",
       "      <td>30.0</td>\n",
       "    </tr>\n",
       "    <tr>\n",
       "      <th>Senior</th>\n",
       "      <td>8.747764</td>\n",
       "      <td>0.0</td>\n",
       "      <td>30.0</td>\n",
       "    </tr>\n",
       "    <tr>\n",
       "      <th>Young Adult</th>\n",
       "      <td>9.884711</td>\n",
       "      <td>0.0</td>\n",
       "      <td>30.0</td>\n",
       "    </tr>\n",
       "  </tbody>\n",
       "</table>\n",
       "</div>"
      ],
      "text/plain": [
       "               days_since_prior_order           \n",
       "                                 mean  min   max\n",
       "age_group_flag                                  \n",
       "Adult                       11.565470  0.0  30.0\n",
       "Senior                       8.747764  0.0  30.0\n",
       "Young Adult                  9.884711  0.0  30.0"
      ]
     },
     "execution_count": 157,
     "metadata": {},
     "output_type": "execute_result"
    }
   ],
   "source": [
    "orders_products_merged_customers.groupby('age_group_flag').agg({'days_since_prior_order': ['mean', 'min', 'max']})"
   ]
  },
  {
   "cell_type": "markdown",
   "id": "8fea42a3",
   "metadata": {},
   "source": [
    "age group flag usage expenditure"
   ]
  },
  {
   "cell_type": "code",
   "execution_count": 158,
   "id": "bf0221ef",
   "metadata": {},
   "outputs": [
    {
     "data": {
      "text/html": [
       "<div>\n",
       "<style scoped>\n",
       "    .dataframe tbody tr th:only-of-type {\n",
       "        vertical-align: middle;\n",
       "    }\n",
       "\n",
       "    .dataframe tbody tr th {\n",
       "        vertical-align: top;\n",
       "    }\n",
       "\n",
       "    .dataframe thead tr th {\n",
       "        text-align: left;\n",
       "    }\n",
       "\n",
       "    .dataframe thead tr:last-of-type th {\n",
       "        text-align: right;\n",
       "    }\n",
       "</style>\n",
       "<table border=\"1\" class=\"dataframe\">\n",
       "  <thead>\n",
       "    <tr>\n",
       "      <th></th>\n",
       "      <th colspan=\"3\" halign=\"left\">prices</th>\n",
       "    </tr>\n",
       "    <tr>\n",
       "      <th></th>\n",
       "      <th>mean</th>\n",
       "      <th>min</th>\n",
       "      <th>max</th>\n",
       "    </tr>\n",
       "    <tr>\n",
       "      <th>age_group_flag</th>\n",
       "      <th></th>\n",
       "      <th></th>\n",
       "      <th></th>\n",
       "    </tr>\n",
       "  </thead>\n",
       "  <tbody>\n",
       "    <tr>\n",
       "      <th>Adult</th>\n",
       "      <td>205404.841867</td>\n",
       "      <td>192754</td>\n",
       "      <td>206208</td>\n",
       "    </tr>\n",
       "    <tr>\n",
       "      <th>Senior</th>\n",
       "      <td>204912.060284</td>\n",
       "      <td>192754</td>\n",
       "      <td>206208</td>\n",
       "    </tr>\n",
       "    <tr>\n",
       "      <th>Young Adult</th>\n",
       "      <td>205260.337205</td>\n",
       "      <td>192754</td>\n",
       "      <td>206208</td>\n",
       "    </tr>\n",
       "  </tbody>\n",
       "</table>\n",
       "</div>"
      ],
      "text/plain": [
       "                       prices                \n",
       "                         mean     min     max\n",
       "age_group_flag                               \n",
       "Adult           205404.841867  192754  206208\n",
       "Senior          204912.060284  192754  206208\n",
       "Young Adult     205260.337205  192754  206208"
      ]
     },
     "execution_count": 158,
     "metadata": {},
     "output_type": "execute_result"
    }
   ],
   "source": [
    "orders_products_merged_customers.groupby('age_group_flag').agg({'prices': ['mean', 'min', 'max']})"
   ]
  },
  {
   "cell_type": "markdown",
   "id": "87657464",
   "metadata": {},
   "source": [
    "Dependents group flag usage frequency"
   ]
  },
  {
   "cell_type": "code",
   "execution_count": 159,
   "id": "6793d1a6",
   "metadata": {},
   "outputs": [
    {
     "data": {
      "text/html": [
       "<div>\n",
       "<style scoped>\n",
       "    .dataframe tbody tr th:only-of-type {\n",
       "        vertical-align: middle;\n",
       "    }\n",
       "\n",
       "    .dataframe tbody tr th {\n",
       "        vertical-align: top;\n",
       "    }\n",
       "\n",
       "    .dataframe thead tr th {\n",
       "        text-align: left;\n",
       "    }\n",
       "\n",
       "    .dataframe thead tr:last-of-type th {\n",
       "        text-align: right;\n",
       "    }\n",
       "</style>\n",
       "<table border=\"1\" class=\"dataframe\">\n",
       "  <thead>\n",
       "    <tr>\n",
       "      <th></th>\n",
       "      <th colspan=\"3\" halign=\"left\">days_since_prior_order</th>\n",
       "    </tr>\n",
       "    <tr>\n",
       "      <th></th>\n",
       "      <th>mean</th>\n",
       "      <th>min</th>\n",
       "      <th>max</th>\n",
       "    </tr>\n",
       "    <tr>\n",
       "      <th>dependants_flag</th>\n",
       "      <th></th>\n",
       "      <th></th>\n",
       "      <th></th>\n",
       "    </tr>\n",
       "  </thead>\n",
       "  <tbody>\n",
       "    <tr>\n",
       "      <th>1 to 2 dependents</th>\n",
       "      <td>9.551344</td>\n",
       "      <td>0.0</td>\n",
       "      <td>30.0</td>\n",
       "    </tr>\n",
       "    <tr>\n",
       "      <th>&gt; 3 dependents</th>\n",
       "      <td>9.583179</td>\n",
       "      <td>0.0</td>\n",
       "      <td>30.0</td>\n",
       "    </tr>\n",
       "    <tr>\n",
       "      <th>no dependents</th>\n",
       "      <td>9.534021</td>\n",
       "      <td>0.0</td>\n",
       "      <td>30.0</td>\n",
       "    </tr>\n",
       "  </tbody>\n",
       "</table>\n",
       "</div>"
      ],
      "text/plain": [
       "                  days_since_prior_order           \n",
       "                                    mean  min   max\n",
       "dependants_flag                                    \n",
       "1 to 2 dependents               9.551344  0.0  30.0\n",
       "> 3 dependents                  9.583179  0.0  30.0\n",
       "no dependents                   9.534021  0.0  30.0"
      ]
     },
     "execution_count": 159,
     "metadata": {},
     "output_type": "execute_result"
    }
   ],
   "source": [
    "orders_products_merged_customers.groupby('dependants_flag').agg({'days_since_prior_order': ['mean', 'min', 'max']})"
   ]
  },
  {
   "cell_type": "markdown",
   "id": "47cab7f3",
   "metadata": {},
   "source": [
    "Dependents  group flag usage expenditure"
   ]
  },
  {
   "cell_type": "code",
   "execution_count": 160,
   "id": "520ac8a6",
   "metadata": {},
   "outputs": [
    {
     "data": {
      "text/html": [
       "<div>\n",
       "<style scoped>\n",
       "    .dataframe tbody tr th:only-of-type {\n",
       "        vertical-align: middle;\n",
       "    }\n",
       "\n",
       "    .dataframe tbody tr th {\n",
       "        vertical-align: top;\n",
       "    }\n",
       "\n",
       "    .dataframe thead tr th {\n",
       "        text-align: left;\n",
       "    }\n",
       "\n",
       "    .dataframe thead tr:last-of-type th {\n",
       "        text-align: right;\n",
       "    }\n",
       "</style>\n",
       "<table border=\"1\" class=\"dataframe\">\n",
       "  <thead>\n",
       "    <tr>\n",
       "      <th></th>\n",
       "      <th colspan=\"3\" halign=\"left\">prices</th>\n",
       "    </tr>\n",
       "    <tr>\n",
       "      <th></th>\n",
       "      <th>mean</th>\n",
       "      <th>min</th>\n",
       "      <th>max</th>\n",
       "    </tr>\n",
       "    <tr>\n",
       "      <th>dependants_flag</th>\n",
       "      <th></th>\n",
       "      <th></th>\n",
       "      <th></th>\n",
       "    </tr>\n",
       "  </thead>\n",
       "  <tbody>\n",
       "    <tr>\n",
       "      <th>1 to 2 dependents</th>\n",
       "      <td>205088.696079</td>\n",
       "      <td>192754</td>\n",
       "      <td>206208</td>\n",
       "    </tr>\n",
       "    <tr>\n",
       "      <th>&gt; 3 dependents</th>\n",
       "      <td>205019.390181</td>\n",
       "      <td>192754</td>\n",
       "      <td>206208</td>\n",
       "    </tr>\n",
       "    <tr>\n",
       "      <th>no dependents</th>\n",
       "      <td>205095.466286</td>\n",
       "      <td>192754</td>\n",
       "      <td>206208</td>\n",
       "    </tr>\n",
       "  </tbody>\n",
       "</table>\n",
       "</div>"
      ],
      "text/plain": [
       "                          prices                \n",
       "                            mean     min     max\n",
       "dependants_flag                                 \n",
       "1 to 2 dependents  205088.696079  192754  206208\n",
       "> 3 dependents     205019.390181  192754  206208\n",
       "no dependents      205095.466286  192754  206208"
      ]
     },
     "execution_count": 160,
     "metadata": {},
     "output_type": "execute_result"
    }
   ],
   "source": [
    "orders_products_merged_customers.groupby('dependants_flag').agg({'prices': ['mean', 'min', 'max']})"
   ]
  },
  {
   "cell_type": "markdown",
   "id": "60437efb",
   "metadata": {},
   "source": [
    "meal prepper group flag usage frequency"
   ]
  },
  {
   "cell_type": "code",
   "execution_count": 161,
   "id": "39709c8b",
   "metadata": {},
   "outputs": [
    {
     "data": {
      "text/html": [
       "<div>\n",
       "<style scoped>\n",
       "    .dataframe tbody tr th:only-of-type {\n",
       "        vertical-align: middle;\n",
       "    }\n",
       "\n",
       "    .dataframe tbody tr th {\n",
       "        vertical-align: top;\n",
       "    }\n",
       "\n",
       "    .dataframe thead tr th {\n",
       "        text-align: left;\n",
       "    }\n",
       "\n",
       "    .dataframe thead tr:last-of-type th {\n",
       "        text-align: right;\n",
       "    }\n",
       "</style>\n",
       "<table border=\"1\" class=\"dataframe\">\n",
       "  <thead>\n",
       "    <tr>\n",
       "      <th></th>\n",
       "      <th colspan=\"3\" halign=\"left\">days_since_prior_order</th>\n",
       "    </tr>\n",
       "    <tr>\n",
       "      <th></th>\n",
       "      <th>mean</th>\n",
       "      <th>min</th>\n",
       "      <th>max</th>\n",
       "    </tr>\n",
       "    <tr>\n",
       "      <th>meal_prepper_flag</th>\n",
       "      <th></th>\n",
       "      <th></th>\n",
       "      <th></th>\n",
       "    </tr>\n",
       "  </thead>\n",
       "  <tbody>\n",
       "    <tr>\n",
       "      <th>Meal</th>\n",
       "      <td>9.929863</td>\n",
       "      <td>0.0</td>\n",
       "      <td>30.0</td>\n",
       "    </tr>\n",
       "    <tr>\n",
       "      <th>Not</th>\n",
       "      <td>9.339404</td>\n",
       "      <td>0.0</td>\n",
       "      <td>30.0</td>\n",
       "    </tr>\n",
       "  </tbody>\n",
       "</table>\n",
       "</div>"
      ],
      "text/plain": [
       "                  days_since_prior_order           \n",
       "                                    mean  min   max\n",
       "meal_prepper_flag                                  \n",
       "Meal                            9.929863  0.0  30.0\n",
       "Not                             9.339404  0.0  30.0"
      ]
     },
     "execution_count": 161,
     "metadata": {},
     "output_type": "execute_result"
    }
   ],
   "source": [
    "orders_products_merged_customers.groupby('meal_prepper_flag').agg({'days_since_prior_order': ['mean', 'min', 'max']})"
   ]
  },
  {
   "cell_type": "markdown",
   "id": "4b139dc1",
   "metadata": {},
   "source": [
    "meal prepper group flag usage expenditure"
   ]
  },
  {
   "cell_type": "code",
   "execution_count": 162,
   "id": "2776ecae",
   "metadata": {},
   "outputs": [
    {
     "data": {
      "text/html": [
       "<div>\n",
       "<style scoped>\n",
       "    .dataframe tbody tr th:only-of-type {\n",
       "        vertical-align: middle;\n",
       "    }\n",
       "\n",
       "    .dataframe tbody tr th {\n",
       "        vertical-align: top;\n",
       "    }\n",
       "\n",
       "    .dataframe thead tr th {\n",
       "        text-align: left;\n",
       "    }\n",
       "\n",
       "    .dataframe thead tr:last-of-type th {\n",
       "        text-align: right;\n",
       "    }\n",
       "</style>\n",
       "<table border=\"1\" class=\"dataframe\">\n",
       "  <thead>\n",
       "    <tr>\n",
       "      <th></th>\n",
       "      <th colspan=\"3\" halign=\"left\">prices</th>\n",
       "    </tr>\n",
       "    <tr>\n",
       "      <th></th>\n",
       "      <th>mean</th>\n",
       "      <th>min</th>\n",
       "      <th>max</th>\n",
       "    </tr>\n",
       "    <tr>\n",
       "      <th>meal_prepper_flag</th>\n",
       "      <th></th>\n",
       "      <th></th>\n",
       "      <th></th>\n",
       "    </tr>\n",
       "  </thead>\n",
       "  <tbody>\n",
       "    <tr>\n",
       "      <th>Meal</th>\n",
       "      <td>205101.464150</td>\n",
       "      <td>192754</td>\n",
       "      <td>206208</td>\n",
       "    </tr>\n",
       "    <tr>\n",
       "      <th>Not</th>\n",
       "      <td>205056.424767</td>\n",
       "      <td>192754</td>\n",
       "      <td>206208</td>\n",
       "    </tr>\n",
       "  </tbody>\n",
       "</table>\n",
       "</div>"
      ],
      "text/plain": [
       "                          prices                \n",
       "                            mean     min     max\n",
       "meal_prepper_flag                               \n",
       "Meal               205101.464150  192754  206208\n",
       "Not                205056.424767  192754  206208"
      ]
     },
     "execution_count": 162,
     "metadata": {},
     "output_type": "execute_result"
    }
   ],
   "source": [
    "orders_products_merged_customers.groupby('meal_prepper_flag').agg({'prices': ['mean', 'min', 'max']})"
   ]
  },
  {
   "cell_type": "markdown",
   "id": "22f3d78e",
   "metadata": {},
   "source": [
    "08. Compare your customer profiles with regions and departments. Can you identify a link between them? Customers may demonstrate different behaviors across regions, which could make this information important."
   ]
  },
  {
   "cell_type": "markdown",
   "id": "c736cf66",
   "metadata": {},
   "source": [
    "Crosstab age group and region"
   ]
  },
  {
   "cell_type": "code",
   "execution_count": 165,
   "id": "dda903d2",
   "metadata": {},
   "outputs": [],
   "source": [
    "age_group_crosstab = pd.crosstab(orders_products_merged_customers['age_group_flag'], orders_products_merged_customers['region'], dropna = False)"
   ]
  },
  {
   "cell_type": "code",
   "execution_count": 166,
   "id": "7aa9e6d0",
   "metadata": {},
   "outputs": [
    {
     "data": {
      "text/html": [
       "<div>\n",
       "<style scoped>\n",
       "    .dataframe tbody tr th:only-of-type {\n",
       "        vertical-align: middle;\n",
       "    }\n",
       "\n",
       "    .dataframe tbody tr th {\n",
       "        vertical-align: top;\n",
       "    }\n",
       "\n",
       "    .dataframe thead th {\n",
       "        text-align: right;\n",
       "    }\n",
       "</style>\n",
       "<table border=\"1\" class=\"dataframe\">\n",
       "  <thead>\n",
       "    <tr style=\"text-align: right;\">\n",
       "      <th>region</th>\n",
       "      <th>West</th>\n",
       "      <th>midwest</th>\n",
       "      <th>northeast</th>\n",
       "      <th>south</th>\n",
       "    </tr>\n",
       "    <tr>\n",
       "      <th>age_group_flag</th>\n",
       "      <th></th>\n",
       "      <th></th>\n",
       "      <th></th>\n",
       "      <th></th>\n",
       "    </tr>\n",
       "  </thead>\n",
       "  <tbody>\n",
       "    <tr>\n",
       "      <th>Adult</th>\n",
       "      <td>634194</td>\n",
       "      <td>550590</td>\n",
       "      <td>340695</td>\n",
       "      <td>827714</td>\n",
       "    </tr>\n",
       "    <tr>\n",
       "      <th>Senior</th>\n",
       "      <td>1643086</td>\n",
       "      <td>1491905</td>\n",
       "      <td>875227</td>\n",
       "      <td>2125188</td>\n",
       "    </tr>\n",
       "    <tr>\n",
       "      <th>Young Adult</th>\n",
       "      <td>300003</td>\n",
       "      <td>266040</td>\n",
       "      <td>154343</td>\n",
       "      <td>365590</td>\n",
       "    </tr>\n",
       "  </tbody>\n",
       "</table>\n",
       "</div>"
      ],
      "text/plain": [
       "region             West  midwest  northeast    south\n",
       "age_group_flag                                      \n",
       "Adult            634194   550590     340695   827714\n",
       "Senior          1643086  1491905     875227  2125188\n",
       "Young Adult      300003   266040     154343   365590"
      ]
     },
     "execution_count": 166,
     "metadata": {},
     "output_type": "execute_result"
    }
   ],
   "source": [
    "age_group_crosstab"
   ]
  },
  {
   "cell_type": "markdown",
   "id": "afdbe9a3",
   "metadata": {},
   "source": [
    "Crosstab income group and region"
   ]
  },
  {
   "cell_type": "code",
   "execution_count": 167,
   "id": "275c2041",
   "metadata": {},
   "outputs": [],
   "source": [
    "income_group_crosstab = pd.crosstab(orders_products_merged_customers['income_flag'], orders_products_merged_customers['region'], dropna = False)"
   ]
  },
  {
   "cell_type": "code",
   "execution_count": 168,
   "id": "622d9b5c",
   "metadata": {},
   "outputs": [
    {
     "data": {
      "text/html": [
       "<div>\n",
       "<style scoped>\n",
       "    .dataframe tbody tr th:only-of-type {\n",
       "        vertical-align: middle;\n",
       "    }\n",
       "\n",
       "    .dataframe tbody tr th {\n",
       "        vertical-align: top;\n",
       "    }\n",
       "\n",
       "    .dataframe thead th {\n",
       "        text-align: right;\n",
       "    }\n",
       "</style>\n",
       "<table border=\"1\" class=\"dataframe\">\n",
       "  <thead>\n",
       "    <tr style=\"text-align: right;\">\n",
       "      <th>region</th>\n",
       "      <th>West</th>\n",
       "      <th>midwest</th>\n",
       "      <th>northeast</th>\n",
       "      <th>south</th>\n",
       "    </tr>\n",
       "    <tr>\n",
       "      <th>income_flag</th>\n",
       "      <th></th>\n",
       "      <th></th>\n",
       "      <th></th>\n",
       "      <th></th>\n",
       "    </tr>\n",
       "  </thead>\n",
       "  <tbody>\n",
       "    <tr>\n",
       "      <th>High</th>\n",
       "      <td>1213566</td>\n",
       "      <td>1130775</td>\n",
       "      <td>624059</td>\n",
       "      <td>1514270</td>\n",
       "    </tr>\n",
       "    <tr>\n",
       "      <th>Low</th>\n",
       "      <td>217321</td>\n",
       "      <td>200948</td>\n",
       "      <td>124578</td>\n",
       "      <td>319622</td>\n",
       "    </tr>\n",
       "    <tr>\n",
       "      <th>Mid</th>\n",
       "      <td>1146396</td>\n",
       "      <td>976812</td>\n",
       "      <td>621628</td>\n",
       "      <td>1484600</td>\n",
       "    </tr>\n",
       "  </tbody>\n",
       "</table>\n",
       "</div>"
      ],
      "text/plain": [
       "region          West  midwest  northeast    south\n",
       "income_flag                                      \n",
       "High         1213566  1130775     624059  1514270\n",
       "Low           217321   200948     124578   319622\n",
       "Mid          1146396   976812     621628  1484600"
      ]
     },
     "execution_count": 168,
     "metadata": {},
     "output_type": "execute_result"
    }
   ],
   "source": [
    "income_group_crosstab"
   ]
  },
  {
   "cell_type": "markdown",
   "id": "0709c22d",
   "metadata": {},
   "source": [
    "Crosstab dependents group and region"
   ]
  },
  {
   "cell_type": "code",
   "execution_count": 173,
   "id": "cc39ea1b",
   "metadata": {},
   "outputs": [],
   "source": [
    "dependants_group_crosstab = pd.crosstab(orders_products_merged_customers['dependants_flag'], orders_products_merged_customers['region'], dropna = False)"
   ]
  },
  {
   "cell_type": "code",
   "execution_count": 174,
   "id": "ebcbe74d",
   "metadata": {},
   "outputs": [
    {
     "data": {
      "text/html": [
       "<div>\n",
       "<style scoped>\n",
       "    .dataframe tbody tr th:only-of-type {\n",
       "        vertical-align: middle;\n",
       "    }\n",
       "\n",
       "    .dataframe tbody tr th {\n",
       "        vertical-align: top;\n",
       "    }\n",
       "\n",
       "    .dataframe thead th {\n",
       "        text-align: right;\n",
       "    }\n",
       "</style>\n",
       "<table border=\"1\" class=\"dataframe\">\n",
       "  <thead>\n",
       "    <tr style=\"text-align: right;\">\n",
       "      <th>region</th>\n",
       "      <th>West</th>\n",
       "      <th>midwest</th>\n",
       "      <th>northeast</th>\n",
       "      <th>south</th>\n",
       "    </tr>\n",
       "    <tr>\n",
       "      <th>dependants_flag</th>\n",
       "      <th></th>\n",
       "      <th></th>\n",
       "      <th></th>\n",
       "      <th></th>\n",
       "    </tr>\n",
       "  </thead>\n",
       "  <tbody>\n",
       "    <tr>\n",
       "      <th>1 to 2 dependents</th>\n",
       "      <td>1275292</td>\n",
       "      <td>1169090</td>\n",
       "      <td>663247</td>\n",
       "      <td>1609583</td>\n",
       "    </tr>\n",
       "    <tr>\n",
       "      <th>&gt; 3 dependents</th>\n",
       "      <td>641908</td>\n",
       "      <td>569408</td>\n",
       "      <td>351528</td>\n",
       "      <td>862478</td>\n",
       "    </tr>\n",
       "    <tr>\n",
       "      <th>no dependents</th>\n",
       "      <td>660083</td>\n",
       "      <td>570037</td>\n",
       "      <td>355490</td>\n",
       "      <td>846431</td>\n",
       "    </tr>\n",
       "  </tbody>\n",
       "</table>\n",
       "</div>"
      ],
      "text/plain": [
       "region                West  midwest  northeast    south\n",
       "dependants_flag                                        \n",
       "1 to 2 dependents  1275292  1169090     663247  1609583\n",
       "> 3 dependents      641908   569408     351528   862478\n",
       "no dependents       660083   570037     355490   846431"
      ]
     },
     "execution_count": 174,
     "metadata": {},
     "output_type": "execute_result"
    }
   ],
   "source": [
    "dependants_group_crosstab"
   ]
  },
  {
   "cell_type": "markdown",
   "id": "6388cb27",
   "metadata": {},
   "source": [
    "Crosstab meal prepper group and region"
   ]
  },
  {
   "cell_type": "code",
   "execution_count": 172,
   "id": "831bd7f0",
   "metadata": {},
   "outputs": [],
   "source": [
    "meal_prepper_flag_group_crosstab = pd.crosstab(orders_products_merged_customers['meal_prepper_flag'], orders_products_merged_customers['region'], dropna = False)"
   ]
  },
  {
   "cell_type": "code",
   "execution_count": 175,
   "id": "7c1d919c",
   "metadata": {},
   "outputs": [
    {
     "data": {
      "text/html": [
       "<div>\n",
       "<style scoped>\n",
       "    .dataframe tbody tr th:only-of-type {\n",
       "        vertical-align: middle;\n",
       "    }\n",
       "\n",
       "    .dataframe tbody tr th {\n",
       "        vertical-align: top;\n",
       "    }\n",
       "\n",
       "    .dataframe thead th {\n",
       "        text-align: right;\n",
       "    }\n",
       "</style>\n",
       "<table border=\"1\" class=\"dataframe\">\n",
       "  <thead>\n",
       "    <tr style=\"text-align: right;\">\n",
       "      <th>region</th>\n",
       "      <th>West</th>\n",
       "      <th>midwest</th>\n",
       "      <th>northeast</th>\n",
       "      <th>south</th>\n",
       "    </tr>\n",
       "    <tr>\n",
       "      <th>meal_prepper_flag</th>\n",
       "      <th></th>\n",
       "      <th></th>\n",
       "      <th></th>\n",
       "      <th></th>\n",
       "    </tr>\n",
       "  </thead>\n",
       "  <tbody>\n",
       "    <tr>\n",
       "      <th>Meal</th>\n",
       "      <td>946590</td>\n",
       "      <td>840110</td>\n",
       "      <td>502137</td>\n",
       "      <td>1211411</td>\n",
       "    </tr>\n",
       "    <tr>\n",
       "      <th>Not</th>\n",
       "      <td>1630693</td>\n",
       "      <td>1468425</td>\n",
       "      <td>868128</td>\n",
       "      <td>2107081</td>\n",
       "    </tr>\n",
       "  </tbody>\n",
       "</table>\n",
       "</div>"
      ],
      "text/plain": [
       "region                West  midwest  northeast    south\n",
       "meal_prepper_flag                                      \n",
       "Meal                946590   840110     502137  1211411\n",
       "Not                1630693  1468425     868128  2107081"
      ]
     },
     "execution_count": 175,
     "metadata": {},
     "output_type": "execute_result"
    }
   ],
   "source": [
    "meal_prepper_flag_group_crosstab"
   ]
  },
  {
   "cell_type": "markdown",
   "id": "6abb13a5",
   "metadata": {},
   "source": [
    "09. Produce suitable charts to illustrate your results and export them in your project folder."
   ]
  },
  {
   "cell_type": "markdown",
   "id": "7bdcb206",
   "metadata": {},
   "source": [
    "creating tab to display age_region"
   ]
  },
  {
   "cell_type": "code",
   "execution_count": 176,
   "id": "c7f00a1f",
   "metadata": {},
   "outputs": [],
   "source": [
    "age_region_bar = pd.crosstab(orders_products_merged_customers['region'], columns = orders_products_merged_customers['age_group_flag'])"
   ]
  },
  {
   "cell_type": "code",
   "execution_count": 179,
   "id": "f637c374",
   "metadata": {},
   "outputs": [
    {
     "data": {
      "text/html": [
       "<div>\n",
       "<style scoped>\n",
       "    .dataframe tbody tr th:only-of-type {\n",
       "        vertical-align: middle;\n",
       "    }\n",
       "\n",
       "    .dataframe tbody tr th {\n",
       "        vertical-align: top;\n",
       "    }\n",
       "\n",
       "    .dataframe thead th {\n",
       "        text-align: right;\n",
       "    }\n",
       "</style>\n",
       "<table border=\"1\" class=\"dataframe\">\n",
       "  <thead>\n",
       "    <tr style=\"text-align: right;\">\n",
       "      <th>age_group_flag</th>\n",
       "      <th>Adult</th>\n",
       "      <th>Senior</th>\n",
       "      <th>Young Adult</th>\n",
       "    </tr>\n",
       "    <tr>\n",
       "      <th>region</th>\n",
       "      <th></th>\n",
       "      <th></th>\n",
       "      <th></th>\n",
       "    </tr>\n",
       "  </thead>\n",
       "  <tbody>\n",
       "    <tr>\n",
       "      <th>West</th>\n",
       "      <td>634194</td>\n",
       "      <td>1643086</td>\n",
       "      <td>300003</td>\n",
       "    </tr>\n",
       "    <tr>\n",
       "      <th>midwest</th>\n",
       "      <td>550590</td>\n",
       "      <td>1491905</td>\n",
       "      <td>266040</td>\n",
       "    </tr>\n",
       "    <tr>\n",
       "      <th>northeast</th>\n",
       "      <td>340695</td>\n",
       "      <td>875227</td>\n",
       "      <td>154343</td>\n",
       "    </tr>\n",
       "    <tr>\n",
       "      <th>south</th>\n",
       "      <td>827714</td>\n",
       "      <td>2125188</td>\n",
       "      <td>365590</td>\n",
       "    </tr>\n",
       "  </tbody>\n",
       "</table>\n",
       "</div>"
      ],
      "text/plain": [
       "age_group_flag   Adult   Senior  Young Adult\n",
       "region                                      \n",
       "West            634194  1643086       300003\n",
       "midwest         550590  1491905       266040\n",
       "northeast       340695   875227       154343\n",
       "south           827714  2125188       365590"
      ]
     },
     "execution_count": 179,
     "metadata": {},
     "output_type": "execute_result"
    }
   ],
   "source": [
    "age_region_bar"
   ]
  },
  {
   "cell_type": "code",
   "execution_count": 182,
   "id": "38054edf",
   "metadata": {
    "scrolled": false
   },
   "outputs": [
    {
     "data": {
      "image/png": "[encoded data removed]",
      "text/plain": [
       "<Figure size 432x288 with 1 Axes>"
      ]
     },
     "metadata": {
      "needs_background": "light"
     },
     "output_type": "display_data"
    }
   ],
   "source": [
    "age_region_bar = age_region_bar.plot.bar()"
   ]
  },
  {
   "cell_type": "code",
   "execution_count": 192,
   "id": "d908781a",
   "metadata": {},
   "outputs": [],
   "source": [
    "age_region_bar.figure.savefig(os.path.join(path, '04Analysis','Visualizations', 'age_region_bar.png'))"
   ]
  },
  {
   "cell_type": "markdown",
   "id": "2e368499",
   "metadata": {},
   "source": [
    "creating tab to display income_region"
   ]
  },
  {
   "cell_type": "code",
   "execution_count": 183,
   "id": "3a0e5ddc",
   "metadata": {},
   "outputs": [],
   "source": [
    "income_region_bar = pd.crosstab(orders_products_merged_customers['region'], columns = orders_products_merged_customers['income_flag'])"
   ]
  },
  {
   "cell_type": "code",
   "execution_count": 184,
   "id": "b6f50fec",
   "metadata": {},
   "outputs": [
    {
     "data": {
      "text/html": [
       "<div>\n",
       "<style scoped>\n",
       "    .dataframe tbody tr th:only-of-type {\n",
       "        vertical-align: middle;\n",
       "    }\n",
       "\n",
       "    .dataframe tbody tr th {\n",
       "        vertical-align: top;\n",
       "    }\n",
       "\n",
       "    .dataframe thead th {\n",
       "        text-align: right;\n",
       "    }\n",
       "</style>\n",
       "<table border=\"1\" class=\"dataframe\">\n",
       "  <thead>\n",
       "    <tr style=\"text-align: right;\">\n",
       "      <th>income_flag</th>\n",
       "      <th>High</th>\n",
       "      <th>Low</th>\n",
       "      <th>Mid</th>\n",
       "    </tr>\n",
       "    <tr>\n",
       "      <th>region</th>\n",
       "      <th></th>\n",
       "      <th></th>\n",
       "      <th></th>\n",
       "    </tr>\n",
       "  </thead>\n",
       "  <tbody>\n",
       "    <tr>\n",
       "      <th>West</th>\n",
       "      <td>1213566</td>\n",
       "      <td>217321</td>\n",
       "      <td>1146396</td>\n",
       "    </tr>\n",
       "    <tr>\n",
       "      <th>midwest</th>\n",
       "      <td>1130775</td>\n",
       "      <td>200948</td>\n",
       "      <td>976812</td>\n",
       "    </tr>\n",
       "    <tr>\n",
       "      <th>northeast</th>\n",
       "      <td>624059</td>\n",
       "      <td>124578</td>\n",
       "      <td>621628</td>\n",
       "    </tr>\n",
       "    <tr>\n",
       "      <th>south</th>\n",
       "      <td>1514270</td>\n",
       "      <td>319622</td>\n",
       "      <td>1484600</td>\n",
       "    </tr>\n",
       "  </tbody>\n",
       "</table>\n",
       "</div>"
      ],
      "text/plain": [
       "income_flag     High     Low      Mid\n",
       "region                               \n",
       "West         1213566  217321  1146396\n",
       "midwest      1130775  200948   976812\n",
       "northeast     624059  124578   621628\n",
       "south        1514270  319622  1484600"
      ]
     },
     "execution_count": 184,
     "metadata": {},
     "output_type": "execute_result"
    }
   ],
   "source": [
    "income_region_bar"
   ]
  },
  {
   "cell_type": "code",
   "execution_count": 185,
   "id": "5e366c93",
   "metadata": {
    "scrolled": true
   },
   "outputs": [
    {
     "data": {
      "image/png": "[encoded data removed]",
      "text/plain": [
       "<Figure size 432x288 with 1 Axes>"
      ]
     },
     "metadata": {
      "needs_background": "light"
     },
     "output_type": "display_data"
    }
   ],
   "source": [
    "income_region_bar = income_region_bar.plot.bar()"
   ]
  },
  {
   "cell_type": "code",
   "execution_count": 193,
   "id": "884a45ca",
   "metadata": {},
   "outputs": [],
   "source": [
    "income_region_bar.figure.savefig(os.path.join(path, '04Analysis','Visualizations', 'income_region_bar.png'))"
   ]
  },
  {
   "cell_type": "markdown",
   "id": "92cb7943",
   "metadata": {},
   "source": [
    "creating tab to display dependents_region"
   ]
  },
  {
   "cell_type": "code",
   "execution_count": 186,
   "id": "8be3fcc7",
   "metadata": {},
   "outputs": [],
   "source": [
    "dependants_region_bar = pd.crosstab(orders_products_merged_customers['region'], columns = orders_products_merged_customers['dependants_flag'])"
   ]
  },
  {
   "cell_type": "code",
   "execution_count": 187,
   "id": "febc60c8",
   "metadata": {},
   "outputs": [
    {
     "data": {
      "text/html": [
       "<div>\n",
       "<style scoped>\n",
       "    .dataframe tbody tr th:only-of-type {\n",
       "        vertical-align: middle;\n",
       "    }\n",
       "\n",
       "    .dataframe tbody tr th {\n",
       "        vertical-align: top;\n",
       "    }\n",
       "\n",
       "    .dataframe thead th {\n",
       "        text-align: right;\n",
       "    }\n",
       "</style>\n",
       "<table border=\"1\" class=\"dataframe\">\n",
       "  <thead>\n",
       "    <tr style=\"text-align: right;\">\n",
       "      <th>dependants_flag</th>\n",
       "      <th>1 to 2 dependents</th>\n",
       "      <th>&gt; 3 dependents</th>\n",
       "      <th>no dependents</th>\n",
       "    </tr>\n",
       "    <tr>\n",
       "      <th>region</th>\n",
       "      <th></th>\n",
       "      <th></th>\n",
       "      <th></th>\n",
       "    </tr>\n",
       "  </thead>\n",
       "  <tbody>\n",
       "    <tr>\n",
       "      <th>West</th>\n",
       "      <td>1275292</td>\n",
       "      <td>641908</td>\n",
       "      <td>660083</td>\n",
       "    </tr>\n",
       "    <tr>\n",
       "      <th>midwest</th>\n",
       "      <td>1169090</td>\n",
       "      <td>569408</td>\n",
       "      <td>570037</td>\n",
       "    </tr>\n",
       "    <tr>\n",
       "      <th>northeast</th>\n",
       "      <td>663247</td>\n",
       "      <td>351528</td>\n",
       "      <td>355490</td>\n",
       "    </tr>\n",
       "    <tr>\n",
       "      <th>south</th>\n",
       "      <td>1609583</td>\n",
       "      <td>862478</td>\n",
       "      <td>846431</td>\n",
       "    </tr>\n",
       "  </tbody>\n",
       "</table>\n",
       "</div>"
      ],
      "text/plain": [
       "dependants_flag  1 to 2 dependents  > 3 dependents  no dependents\n",
       "region                                                           \n",
       "West                       1275292          641908         660083\n",
       "midwest                    1169090          569408         570037\n",
       "northeast                   663247          351528         355490\n",
       "south                      1609583          862478         846431"
      ]
     },
     "execution_count": 187,
     "metadata": {},
     "output_type": "execute_result"
    }
   ],
   "source": [
    "dependants_region_bar"
   ]
  },
  {
   "cell_type": "code",
   "execution_count": 188,
   "id": "eaebc543",
   "metadata": {},
   "outputs": [
    {
     "data": {
      "image/png": "[encoded data removed]",
      "text/plain": [
       "<Figure size 432x288 with 1 Axes>"
      ]
     },
     "metadata": {
      "needs_background": "light"
     },
     "output_type": "display_data"
    }
   ],
   "source": [
    "dependants_region_bar = dependants_region_bar.plot.bar()"
   ]
  },
  {
   "cell_type": "code",
   "execution_count": 194,
   "id": "94deae14",
   "metadata": {},
   "outputs": [],
   "source": [
    "dependants_region_bar.figure.savefig(os.path.join(path, '04Analysis','Visualizations', 'dependants_region_bar.png'))"
   ]
  },
  {
   "cell_type": "markdown",
   "id": "94244d9e",
   "metadata": {},
   "source": [
    "creating tab to display meal_prepper_region"
   ]
  },
  {
   "cell_type": "code",
   "execution_count": 189,
   "id": "b37767f7",
   "metadata": {},
   "outputs": [],
   "source": [
    "meal_prepper_region_bar = pd.crosstab(orders_products_merged_customers['region'], columns = orders_products_merged_customers['meal_prepper_flag'])"
   ]
  },
  {
   "cell_type": "code",
   "execution_count": 190,
   "id": "930c4ecd",
   "metadata": {},
   "outputs": [
    {
     "data": {
      "text/html": [
       "<div>\n",
       "<style scoped>\n",
       "    .dataframe tbody tr th:only-of-type {\n",
       "        vertical-align: middle;\n",
       "    }\n",
       "\n",
       "    .dataframe tbody tr th {\n",
       "        vertical-align: top;\n",
       "    }\n",
       "\n",
       "    .dataframe thead th {\n",
       "        text-align: right;\n",
       "    }\n",
       "</style>\n",
       "<table border=\"1\" class=\"dataframe\">\n",
       "  <thead>\n",
       "    <tr style=\"text-align: right;\">\n",
       "      <th>meal_prepper_flag</th>\n",
       "      <th>Meal</th>\n",
       "      <th>Not</th>\n",
       "    </tr>\n",
       "    <tr>\n",
       "      <th>region</th>\n",
       "      <th></th>\n",
       "      <th></th>\n",
       "    </tr>\n",
       "  </thead>\n",
       "  <tbody>\n",
       "    <tr>\n",
       "      <th>West</th>\n",
       "      <td>946590</td>\n",
       "      <td>1630693</td>\n",
       "    </tr>\n",
       "    <tr>\n",
       "      <th>midwest</th>\n",
       "      <td>840110</td>\n",
       "      <td>1468425</td>\n",
       "    </tr>\n",
       "    <tr>\n",
       "      <th>northeast</th>\n",
       "      <td>502137</td>\n",
       "      <td>868128</td>\n",
       "    </tr>\n",
       "    <tr>\n",
       "      <th>south</th>\n",
       "      <td>1211411</td>\n",
       "      <td>2107081</td>\n",
       "    </tr>\n",
       "  </tbody>\n",
       "</table>\n",
       "</div>"
      ],
      "text/plain": [
       "meal_prepper_flag     Meal      Not\n",
       "region                             \n",
       "West                946590  1630693\n",
       "midwest             840110  1468425\n",
       "northeast           502137   868128\n",
       "south              1211411  2107081"
      ]
     },
     "execution_count": 190,
     "metadata": {},
     "output_type": "execute_result"
    }
   ],
   "source": [
    "meal_prepper_region_bar"
   ]
  },
  {
   "cell_type": "code",
   "execution_count": 191,
   "id": "4b9e762f",
   "metadata": {
    "scrolled": true
   },
   "outputs": [
    {
     "data": {
      "image/png": "[encoded data removed]",
      "text/plain": [
       "<Figure size 432x288 with 1 Axes>"
      ]
     },
     "metadata": {
      "needs_background": "light"
     },
     "output_type": "display_data"
    }
   ],
   "source": [
    "meal_prepper_region_bar = meal_prepper_region_bar.plot.bar()"
   ]
  },
  {
   "cell_type": "code",
   "execution_count": 195,
   "id": "eee01345",
   "metadata": {},
   "outputs": [],
   "source": [
    "meal_prepper_region_bar.figure.savefig(os.path.join(path, '04Analysis','Visualizations', 'meal_prepper_region_bar.png'))"
   ]
  },
  {
   "cell_type": "code",
   "execution_count": null,
   "id": "5a666008",
   "metadata": {},
   "outputs": [],
   "source": []
  }
 ],
 "metadata": {
  "kernelspec": {
   "display_name": "Python 3 (ipykernel)",
   "language": "python",
   "name": "python3"
  },
  "language_info": {
   "codemirror_mode": {
    "name": "ipython",
    "version": 3
   },
   "file_extension": ".py",
   "mimetype": "text/x-python",
   "name": "python",
   "nbconvert_exporter": "python",
   "pygments_lexer": "ipython3",
   "version": "3.9.12"
  }
 },
 "nbformat": 4,
 "nbformat_minor": 5
}
